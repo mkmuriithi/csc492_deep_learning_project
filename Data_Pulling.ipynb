{
 "cells": [
  {
   "cell_type": "code",
   "execution_count": 8,
   "metadata": {},
   "outputs": [],
   "source": [
    "import pandas as pd\n",
    "import numpy as np\n",
    "import yfinance as yf\n",
    "import matplotlib.pyplot as plt\n",
    "\n",
    "\n",
    "#these libraries will be used to generate indicators from the raw data\n",
    "import ta.momentum as moment\n",
    "import ta.volume as vol\n",
    "import ta.volatility as vl\n",
    "import ta.trend as trend\n",
    "\n",
    "#packages for viewing TearsheetStatistics\n",
    "from qstrader.statistics.tearsheet import TearsheetStatistics\n",
    "\n",
    "#import \n",
    "#for backtesting\n",
    "from __future__ import (absolute_import, division, print_function, unicode_literals)\n",
    "import backtrader as bt\n",
    "import datetime\n",
    "import os.path\n",
    "import sys\n",
    "\n",
    "#import the different models that we will be using for selecting best performing models\n",
    "from sklearn.metrics import accuracy_score\n",
    "from sklearn.metrics import mean_squared_error #take root of this\n",
    "\n",
    "\n",
    "#models\n",
    "from xgboost import XGBRegressor as xgboost\n",
    "from sklearn.linear_model import LinearRegression\n",
    "from sklearn import svm\n",
    "\n",
    "#note that for backtrader data feed must all be Yahoo Finance feed, otherwise custom data feed must be cretated\n",
    "\n",
    "#Gridsearch will best time to do the train test split on\n",
    "#Surivorship bias it not an issue because we only care about predicting the price of existing stocks, not stocks that do not exist anymore\n",
    "\n",
    "#want to see all columns\n",
    "pd.set_option('display.max_columns', None)\n"
   ]
  },
  {
   "cell_type": "code",
   "execution_count": 14,
   "metadata": {},
   "outputs": [],
   "source": [
    "import requests"
   ]
  },
  {
   "cell_type": "markdown",
   "metadata": {},
   "source": [
    "We are considering the entire universe of US stocks, but we would like to filter for good quality stocks based on domain knowledge\n",
    "1. Filter for stocks above a certain marketcap (which alphavantage provides)\n",
    "2. Filter for stocks that have a certain average volatility measure (will pick the measure and the minimum)\n",
    "\n",
    "Other possibilities:\n",
    "1. Only pick stocks that are in a given index (so as to limit the Universt of stocks considered at one time)\n",
    "\n"
   ]
  },
  {
   "cell_type": "markdown",
   "metadata": {},
   "source": [
    "<h2>Pull Data</h2>"
   ]
  },
  {
   "cell_type": "markdown",
   "metadata": {},
   "source": [
    "Note that this code is to get the full list of stocks in the NYSE exchange and the NASDAQ exchange. To pull all of these stocks simultaneously, combine them and send a call to the api"
   ]
  },
  {
   "cell_type": "code",
   "execution_count": 12,
   "metadata": {},
   "outputs": [],
   "source": [
    "nyse_stocks_list = []\n",
    "nasdaq_stocks_list = []\n",
    "\n",
    "with open(\"nyse_stocks_list.txt\", 'r') as nyse_file, open(\"nasdaq_stock_list.txt\", 'r') as nasdaq_file:\n",
    "    nyse_stocks_list = nyse_file.read().split(\"\\n\")\n",
    "    nasdaq_stocks_list = nasdaq_file.read().split(\"\\n\")"
   ]
  },
  {
   "cell_type": "code",
   "execution_count": 16,
   "metadata": {},
   "outputs": [
    {
     "name": "stdout",
     "output_type": "stream",
     "text": [
      "{'Meta Data': {'1. Information': 'Daily Prices (open, high, low, close) and Volumes', '2. Symbol': 'IBM', '3. Last Refreshed': '2022-02-11', '4. Output Size': 'Compact', '5. Time Zone': 'US/Eastern'}, 'Time Series (Daily)': {'2022-02-11': {'1. open': '133.9000', '2. high': '134.7099', '3. low': '132.3800', '4. close': '132.6900', '5. volume': '4075287'}, '2022-02-10': {'1. open': '135.4700', '2. high': '136.5600', '3. low': '133.1700', '4. close': '133.5200', '5. volume': '5978640'}, '2022-02-09': {'1. open': '137.8400', '2. high': '138.3500', '3. low': '136.8300', '4. close': '137.7900', '5. volume': '5393478'}, '2022-02-08': {'1. open': '137.2300', '2. high': '137.5200', '3. low': '135.7800', '4. close': '137.0200', '5. volume': '4181825'}, '2022-02-07': {'1. open': '137.4500', '2. high': '137.8223', '3. low': '136.2700', '4. close': '137.2400', '5. volume': '3759046'}, '2022-02-04': {'1. open': '137.8600', '2. high': '138.8200', '3. low': '136.2150', '4. close': '137.1500', '5. volume': '4142045'}, '2022-02-03': {'1. open': '137.0000', '2. high': '138.7600', '3. low': '135.8310', '4. close': '137.7800', '5. volume': '6100777'}, '2022-02-02': {'1. open': '135.7000', '2. high': '137.5550', '3. low': '135.2600', '4. close': '137.2500', '5. volume': '5357237'}, '2022-02-01': {'1. open': '133.7600', '2. high': '135.9600', '3. low': '132.5000', '4. close': '135.5300', '5. volume': '6206448'}, '2022-01-31': {'1. open': '134.0900', '2. high': '134.0900', '3. low': '132.3000', '4. close': '133.5700', '5. volume': '5859043'}, '2022-01-28': {'1. open': '133.1900', '2. high': '134.5300', '3. low': '131.7900', '4. close': '134.5000', '5. volume': '5471497'}, '2022-01-27': {'1. open': '133.6600', '2. high': '134.7500', '3. low': '132.0800', '4. close': '132.5200', '5. volume': '5499566'}, '2022-01-26': {'1. open': '136.4700', '2. high': '137.0700', '3. low': '133.1300', '4. close': '134.2600', '5. volume': '8335992'}, '2022-01-25': {'1. open': '129.1400', '2. high': '137.3361', '3. low': '128.3000', '4. close': '136.1000', '5. volume': '19715698'}, '2022-01-24': {'1. open': '127.9900', '2. high': '129.1500', '3. low': '124.1930', '4. close': '128.8200', '5. volume': '13777648'}, '2022-01-21': {'1. open': '131.6500', '2. high': '131.8700', '3. low': '129.2700', '4. close': '129.3500', '5. volume': '5906950'}, '2022-01-20': {'1. open': '131.2600', '2. high': '132.8800', '3. low': '130.5705', '4. close': '130.8200', '5. volume': '5278244'}, '2022-01-19': {'1. open': '132.9000', '2. high': '133.9000', '3. low': '131.5000', '4. close': '131.5800', '5. volume': '4099035'}, '2022-01-18': {'1. open': '132.9500', '2. high': '133.8900', '3. low': '131.7800', '4. close': '132.9400', '5. volume': '5236258'}, '2022-01-14': {'1. open': '134.5500', '2. high': '135.1400', '3. low': '133.3000', '4. close': '134.2100', '5. volume': '5310305'}, '2022-01-13': {'1. open': '133.9000', '2. high': '136.0500', '3. low': '133.5600', '4. close': '134.7600', '5. volume': '4868349'}, '2022-01-12': {'1. open': '133.2500', '2. high': '134.4700', '3. low': '131.3700', '4. close': '133.5900', '5. volume': '5352014'}, '2022-01-11': {'1. open': '130.5200', '2. high': '133.2500', '3. low': '127.9700', '4. close': '132.8700', '5. volume': '11081210'}, '2022-01-10': {'1. open': '134.4700', '2. high': '136.2000', '3. low': '133.3800', '4. close': '135.0300', '5. volume': '5432807'}, '2022-01-07': {'1. open': '134.9000', '2. high': '135.6618', '3. low': '133.5111', '4. close': '134.8300', '5. volume': '5238099'}, '2022-01-06': {'1. open': '138.2000', '2. high': '138.4099', '3. low': '132.5100', '4. close': '135.3400', '5. volume': '9908081'}, '2022-01-05': {'1. open': '138.3100', '2. high': '142.2000', '3. low': '137.8800', '4. close': '138.2200', '5. volume': '8956910'}, '2022-01-04': {'1. open': '136.1000', '2. high': '139.9500', '3. low': '135.9000', '4. close': '138.0200', '5. volume': '7300011'}, '2022-01-03': {'1. open': '134.0700', '2. high': '136.2950', '3. low': '133.6300', '4. close': '136.0400', '5. volume': '4610665'}, '2021-12-31': {'1. open': '134.0000', '2. high': '134.9900', '3. low': '133.6100', '4. close': '133.6600', '5. volume': '3315313'}, '2021-12-30': {'1. open': '133.7500', '2. high': '134.3700', '3. low': '133.3300', '4. close': '133.9100', '5. volume': '3158111'}, '2021-12-29': {'1. open': '132.4000', '2. high': '134.2100', '3. low': '132.3000', '4. close': '133.3500', '5. volume': '4239935'}, '2021-12-28': {'1. open': '131.6000', '2. high': '133.2200', '3. low': '131.5900', '4. close': '132.6300', '5. volume': '3447079'}, '2021-12-27': {'1. open': '130.6300', '2. high': '131.6500', '3. low': '129.9500', '4. close': '131.6200', '5. volume': '4294499'}, '2021-12-23': {'1. open': '130.0000', '2. high': '130.9600', '3. low': '129.5200', '4. close': '130.6300', '5. volume': '3649044'}, '2021-12-22': {'1. open': '129.0600', '2. high': '129.7900', '3. low': '127.6000', '4. close': '129.7500', '5. volume': '3923198'}, '2021-12-21': {'1. open': '127.6600', '2. high': '129.3356', '3. low': '127.6600', '4. close': '128.9700', '5. volume': '4855972'}, '2021-12-20': {'1. open': '125.7200', '2. high': '127.2000', '3. low': '124.7000', '4. close': '127.0600', '5. volume': '4941411'}, '2021-12-17': {'1. open': '125.8700', '2. high': '128.6400', '3. low': '125.2093', '4. close': '127.4000', '5. volume': '10382693'}, '2021-12-16': {'1. open': '123.5100', '2. high': '126.6399', '3. low': '123.4750', '4. close': '125.9300', '5. volume': '7280537'}, '2021-12-15': {'1. open': '123.8000', '2. high': '124.8150', '3. low': '122.1800', '4. close': '123.1100', '5. volume': '4990028'}, '2021-12-14': {'1. open': '122.3500', '2. high': '125.0300', '3. low': '122.3000', '4. close': '123.7600', '5. volume': '5716124'}, '2021-12-13': {'1. open': '123.7600', '2. high': '124.3554', '3. low': '120.7900', '4. close': '122.5800', '5. volume': '6847468'}, '2021-12-10': {'1. open': '124.3000', '2. high': '125.3300', '3. low': '123.3600', '4. close': '124.0900', '5. volume': '4966921'}, '2021-12-09': {'1. open': '122.1500', '2. high': '123.9500', '3. low': '121.7900', '4. close': '123.5700', '5. volume': '4601092'}, '2021-12-08': {'1. open': '122.0000', '2. high': '123.3800', '3. low': '121.5200', '4. close': '123.0200', '5. volume': '5483948'}, '2021-12-07': {'1. open': '120.4750', '2. high': '122.0800', '3. low': '120.0700', '4. close': '121.5800', '5. volume': '5193991'}, '2021-12-06': {'1. open': '119.4000', '2. high': '121.1500', '3. low': '119.4000', '4. close': '119.9100', '5. volume': '4785560'}, '2021-12-03': {'1. open': '117.3600', '2. high': '119.3600', '3. low': '117.3600', '4. close': '118.8400', '5. volume': '6630139'}, '2021-12-02': {'1. open': '117.3700', '2. high': '117.9800', '3. low': '116.5600', '4. close': '116.9000', '5. volume': '5267149'}, '2021-12-01': {'1. open': '118.2500', '2. high': '118.9300', '3. low': '116.8500', '4. close': '116.9200', '5. volume': '5959867'}, '2021-11-30': {'1. open': '117.5000', '2. high': '119.2399', '3. low': '116.4500', '4. close': '117.1000', '5. volume': '9252701'}, '2021-11-29': {'1. open': '118.6200', '2. high': '119.6100', '3. low': '117.5300', '4. close': '118.5000', '5. volume': '8949795'}, '2021-11-26': {'1. open': '115.0000', '2. high': '116.3350', '3. low': '114.5600', '4. close': '115.8100', '5. volume': '3322012'}, '2021-11-24': {'1. open': '116.1600', '2. high': '117.2700', '3. low': '116.0800', '4. close': '116.7300', '5. volume': '3220802'}, '2021-11-23': {'1. open': '116.7900', '2. high': '117.9400', '3. low': '116.0400', '4. close': '116.7900', '5. volume': '4914995'}, '2021-11-22': {'1. open': '116.0000', '2. high': '118.8100', '3. low': '115.1900', '4. close': '116.4700', '5. volume': '6417218'}, '2021-11-19': {'1. open': '116.4900', '2. high': '116.5600', '3. low': '115.2700', '4. close': '116.0500', '5. volume': '5384548'}, '2021-11-18': {'1. open': '118.3600', '2. high': '118.3600', '3. low': '116.3100', '4. close': '116.6600', '5. volume': '5047879'}, '2021-11-17': {'1. open': '118.3800', '2. high': '119.3300', '3. low': '117.7800', '4. close': '118.0600', '5. volume': '4043289'}, '2021-11-16': {'1. open': '118.9200', '2. high': '119.9000', '3. low': '118.4200', '4. close': '118.4600', '5. volume': '4750760'}, '2021-11-15': {'1. open': '119.5400', '2. high': '120.1600', '3. low': '118.3100', '4. close': '118.8700', '5. volume': '5046321'}, '2021-11-12': {'1. open': '120.0000', '2. high': '120.6400', '3. low': '118.7800', '4. close': '118.9600', '5. volume': '5376966'}, '2021-11-11': {'1. open': '120.9000', '2. high': '121.7894', '3. low': '120.0800', '4. close': '120.2700', '5. volume': '4643257'}, '2021-11-10': {'1. open': '121.0000', '2. high': '122.4300', '3. low': '119.9320', '4. close': '120.2200', '5. volume': '6268961'}, '2021-11-09': {'1. open': '122.5600', '2. high': '122.9000', '3. low': '120.2600', '4. close': '120.8500', '5. volume': '7195453'}, '2021-11-08': {'1. open': '123.9850', '2. high': '124.7800', '3. low': '123.5300', '4. close': '124.5400', '5. volume': '5625275'}, '2021-11-05': {'1. open': '121.4300', '2. high': '123.7700', '3. low': '121.4300', '4. close': '123.6100', '5. volume': '6790478'}, '2021-11-04': {'1. open': '123.0500', '2. high': '123.3400', '3. low': '119.9000', '4. close': '120.8500', '5. volume': '7208736'}, '2021-11-03': {'1. open': '126.2300', '2. high': '127.2900', '3. low': '125.6800', '4. close': '127.1300', '5. volume': '5421406'}, '2021-11-02': {'1. open': '126.3000', '2. high': '127.1700', '3. low': '124.9100', '4. close': '126.1800', '5. volume': '4496393'}, '2021-11-01': {'1. open': '125.0500', '2. high': '126.3100', '3. low': '123.8375', '4. close': '126.2800', '5. volume': '5874767'}, '2021-10-29': {'1. open': '125.4300', '2. high': '126.3200', '3. low': '124.9100', '4. close': '125.1000', '5. volume': '5916789'}, '2021-10-28': {'1. open': '125.1700', '2. high': '126.3100', '3. low': '124.6200', '4. close': '125.8400', '5. volume': '6503003'}, '2021-10-27': {'1. open': '127.4400', '2. high': '127.8800', '3. low': '125.0100', '4. close': '125.1700', '5. volume': '6973432'}, '2021-10-26': {'1. open': '127.5200', '2. high': '128.3000', '3. low': '126.7550', '4. close': '127.1300', '5. volume': '8520872'}, '2021-10-25': {'1. open': '127.5300', '2. high': '128.6500', '3. low': '126.9400', '4. close': '127.6400', '5. volume': '6374038'}, '2021-10-22': {'1. open': '128.0500', '2. high': '130.2500', '3. low': '126.6110', '4. close': '127.8800', '5. volume': '11582195'}, '2021-10-21': {'1. open': '133.5100', '2. high': '133.7200', '3. low': '128.1000', '4. close': '128.3300', '5. volume': '31466529'}, '2021-10-20': {'1. open': '141.6800', '2. high': '142.2000', '3. low': '140.7000', '4. close': '141.9000', '5. volume': '6189255'}, '2021-10-19': {'1. open': '141.0800', '2. high': '142.9400', '3. low': '140.5201', '4. close': '141.9800', '5. volume': '4339548'}, '2021-10-18': {'1. open': '144.0000', '2. high': '144.9400', '3. low': '141.7590', '4. close': '142.3200', '5. volume': '6154055'}, '2021-10-15': {'1. open': '143.3900', '2. high': '144.8500', '3. low': '142.7900', '4. close': '144.6100', '5. volume': '3222778'}, '2021-10-14': {'1. open': '141.0400', '2. high': '143.9200', '3. low': '141.0100', '4. close': '143.3900', '5. volume': '4217305'}, '2021-10-13': {'1. open': '140.5200', '2. high': '141.4100', '3. low': '139.6600', '4. close': '140.7600', '5. volume': '2880747'}, '2021-10-12': {'1. open': '142.2100', '2. high': '142.3000', '3. low': '140.3000', '4. close': '140.4700', '5. volume': '3148559'}, '2021-10-11': {'1. open': '143.5000', '2. high': '144.0800', '3. low': '142.4000', '4. close': '142.4300', '5. volume': '2793298'}, '2021-10-08': {'1. open': '141.8100', '2. high': '143.6500', '3. low': '141.0500', '4. close': '143.2200', '5. volume': '3731279'}, '2021-10-07': {'1. open': '142.7300', '2. high': '143.3950', '3. low': '141.5300', '4. close': '141.8100', '5. volume': '3823803'}, '2021-10-06': {'1. open': '142.4800', '2. high': '143.3700', '3. low': '140.8900', '4. close': '142.3600', '5. volume': '5328433'}, '2021-10-05': {'1. open': '144.7500', '2. high': '145.0000', '3. low': '142.6400', '4. close': '143.1500', '5. volume': '6976648'}, '2021-10-04': {'1. open': '142.7400', '2. high': '146.0000', '3. low': '142.3501', '4. close': '144.1100', '5. volume': '7351128'}, '2021-10-01': {'1. open': '141.0000', '2. high': '143.9700', '3. low': '140.3700', '4. close': '143.3200', '5. volume': '6604064'}, '2021-09-30': {'1. open': '140.0000', '2. high': '140.5700', '3. low': '138.5000', '4. close': '138.9300', '5. volume': '5824431'}, '2021-09-29': {'1. open': '137.7300', '2. high': '139.9300', '3. low': '136.4400', '4. close': '139.1800', '5. volume': '3774236'}, '2021-09-28': {'1. open': '139.1700', '2. high': '139.6880', '3. low': '137.2100', '4. close': '137.4700', '5. volume': '4314595'}, '2021-09-27': {'1. open': '137.9600', '2. high': '139.0650', '3. low': '137.4800', '4. close': '138.5600', '5. volume': '3306865'}, '2021-09-24': {'1. open': '137.0300', '2. high': '138.4800', '3. low': '136.7500', '4. close': '137.4900', '5. volume': '2964397'}, '2021-09-23': {'1. open': '135.2500', '2. high': '137.4200', '3. low': '135.0300', '4. close': '136.7300', '5. volume': '3013238'}, '2021-09-22': {'1. open': '133.7200', '2. high': '135.3700', '3. low': '133.4700', '4. close': '134.6300', '5. volume': '3602416'}}}\n"
     ]
    }
   ],
   "source": [
    "#code for pulling daily data from api\n",
    "#NOTE that we will be using adjusted closing prices, that is the closing price after adjusting for all applicable splits and dividends\n",
    "\n",
    "stock_i_want = \"IBM\" #enter yours here\n",
    "api_key = 'F608FLWB0HW9X4N8'\n",
    "url = f'https://www.alphavantage.co/query?function=TIME_SERIES_DAILY&symbol={stock_i_want}&apikey={api_key}'\n",
    "r = requests.get(url)\n",
    "data = r.json()\n",
    "\n",
    "print(data)"
   ]
  },
  {
   "cell_type": "markdown",
   "metadata": {},
   "source": [
    "<h2>Data Exploration</h2>"
   ]
  },
  {
   "cell_type": "markdown",
   "metadata": {},
   "source": [
    "<h2>Data Normalization</h2>"
   ]
  },
  {
   "cell_type": "markdown",
   "metadata": {},
   "source": [
    "<h2>Training, Validation and Test Set Cretion</h2>"
   ]
  },
  {
   "cell_type": "code",
   "execution_count": null,
   "metadata": {},
   "outputs": [],
   "source": []
  }
 ],
 "metadata": {
  "kernelspec": {
   "display_name": "Python 3",
   "language": "python",
   "name": "python3"
  },
  "language_info": {
   "codemirror_mode": {
    "name": "ipython",
    "version": 3
   },
   "file_extension": ".py",
   "mimetype": "text/x-python",
   "name": "python",
   "nbconvert_exporter": "python",
   "pygments_lexer": "ipython3",
   "version": "3.8.5"
  }
 },
 "nbformat": 4,
 "nbformat_minor": 5
}
