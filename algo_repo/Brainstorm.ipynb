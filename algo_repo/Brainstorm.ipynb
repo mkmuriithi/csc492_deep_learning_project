{
 "cells": [
  {
   "cell_type": "code",
   "metadata": {
    "collapsed": true,
    "pycharm": {
     "name": "#%%\n"
    }
   },
   "source": [
    "import numpy as np\n",
    "import torch\n",
    "from torch.utils.data import Dataset\n",
    "import yfinance as yf\n",
    "import os\n",
    "from torch import nn\n",
    "import numpy as np\n",
    "import pandas as pd\n",
    "import matplotlib.pyplot as plt\n",
    "from torch.utils.data import DataLoader\n",
    "from torchvision import datasets\n",
    "from torchvision.transforms import ToTensor\n",
    "from utils import *\n",
    "pd.set_option('display.max_columns', None)"
   ],
   "execution_count": 1,
   "outputs": []
  },
  {
   "cell_type": "markdown",
   "source": [
    "<h2>Data Pulling</h2>"
   ],
   "metadata": {
    "collapsed": false,
    "pycharm": {
     "name": "#%% md\n"
    }
   }
  },
  {
   "cell_type": "code",
   "execution_count": 91,
   "outputs": [
    {
     "name": "stdout",
     "output_type": "stream",
     "text": [
      "/home/kagema/Documents/CSC 492/csc492_deep_learning_project\n"
     ]
    }
   ],
   "source": [
    "data_dict = {}\n",
    "os.chdir('/home/kagema/Documents/CSC 492/csc492_deep_learning_project')\n",
    "nasdaq_directory = '/home/kagema/Documents/CSC 492/csc492_deep_learning_project/Data/nasdaq_15yr_data'\n",
    "nyse_directory = '/home/kagema/Documents/CSC 492/csc492_deep_learning_project/Data/nyse_15yr_data'\n",
    "print(os.getcwd())\n",
    "'''\n",
    "for filename in os.listdir(nasdaq_directory):\n",
    "    if filename == '.ipynb_checkpoints':\n",
    "        continue\n",
    "    ticker_symbol = filename.split('.')[0]\n",
    "    fullpath = nasdaq_directory + '/' + filename\n",
    "    data_dict[ticker_symbol] = pd.read_csv(fullpath)\n",
    "'''\n",
    "for filename in os.listdir(nyse_directory):\n",
    "    if filename == '.ipynb_checkpoints':\n",
    "        continue\n",
    "    ticker_symbol = filename.split('.')[0]\n",
    "\n",
    "    fullpath = nyse_directory + '/' + filename\n",
    "    data_dict[ticker_symbol] = pd.read_csv(fullpath)\n",
    "    #tickers_list.append(ticker)\n"
   ],
   "metadata": {
    "collapsed": false,
    "pycharm": {
     "name": "#%%\n"
    }
   }
  },
  {
   "cell_type": "code",
   "execution_count": 96,
   "outputs": [],
   "source": [
    "temp_df_path = '/home/kagema/Documents/CSC 492/csc492_deep_learning_project/Data/nyse_15yr_data/BRCC.csv'\n",
    "temp_df = pd.read_csv(temp_df_path)"
   ],
   "metadata": {
    "collapsed": false,
    "pycharm": {
     "name": "#%%\n"
    }
   }
  },
  {
   "cell_type": "code",
   "execution_count": 97,
   "outputs": [
    {
     "data": {
      "text/plain": "Empty DataFrame\nColumns: [Date, Open, High, Low, Close, Adj Close, Volume, ticker]\nIndex: []",
      "text/html": "<div>\n<style scoped>\n    .dataframe tbody tr th:only-of-type {\n        vertical-align: middle;\n    }\n\n    .dataframe tbody tr th {\n        vertical-align: top;\n    }\n\n    .dataframe thead th {\n        text-align: right;\n    }\n</style>\n<table border=\"1\" class=\"dataframe\">\n  <thead>\n    <tr style=\"text-align: right;\">\n      <th></th>\n      <th>Date</th>\n      <th>Open</th>\n      <th>High</th>\n      <th>Low</th>\n      <th>Close</th>\n      <th>Adj Close</th>\n      <th>Volume</th>\n      <th>ticker</th>\n    </tr>\n  </thead>\n  <tbody>\n  </tbody>\n</table>\n</div>"
     },
     "execution_count": 97,
     "metadata": {},
     "output_type": "execute_result"
    }
   ],
   "source": [
    "temp_df.head()"
   ],
   "metadata": {
    "collapsed": false,
    "pycharm": {
     "name": "#%%\n"
    }
   }
  },
  {
   "cell_type": "markdown",
   "source": [
    "<h3>Data Cleaning</h3>"
   ],
   "metadata": {
    "collapsed": false,
    "pycharm": {
     "name": "#%% md\n"
    }
   }
  },
  {
   "cell_type": "code",
   "execution_count": 92,
   "outputs": [],
   "source": [
    "ticker_list = data_dict.keys()\n",
    "ticker_no_volume_days = []\n",
    "for ticker in ticker_list:\n",
    "    df = data_dict[ticker].copy(deep=True)\n",
    "    df.fillna(method='ffill', inplace=True)\n",
    "    #drop if front has no values\n",
    "    df.dropna(inplace=True, how='any')\n",
    "    data_dict[ticker] = df.copy(deep=True)\n",
    "\n"
   ],
   "metadata": {
    "collapsed": false,
    "pycharm": {
     "name": "#%%\n"
    }
   }
  },
  {
   "cell_type": "markdown",
   "source": [
    "<h2>Data Exploration</h2>\n",
    "\n",
    "Here are the descriptive statistics that we will consider;\n",
    "- What is the average returns of all stocks in the dataset\n",
    "- What is the stock with the highest returns\n",
    "- What is the stock with the lowest returns\n",
    "- What year did each stock list on the relevant exchange\n",
    "- What stocks had the highest average VWAP (Volume Weighted Average Price)? (more weight on price with high volume)\n",
    "    (how does filtering with VWAP help'\n",
    "\n"
   ],
   "metadata": {
    "collapsed": false,
    "pycharm": {
     "name": "#%% md\n"
    }
   }
  },
  {
   "cell_type": "markdown",
   "source": [],
   "metadata": {
    "collapsed": false
   }
  },
  {
   "cell_type": "code",
   "execution_count": 97,
   "outputs": [
    {
     "name": "stdout",
     "output_type": "stream",
     "text": [
      "['EVE', 'ECCV', 'BRD', 'MTVC', 'SFB', 'RRAC', 'SHAP', 'HTAQ', 'STET', 'TCOA', 'RJAC', 'ATEK', 'RCFA', 'SHEL', 'ACDI', 'EAI', 'PORT', 'BFAC', 'MBSC', 'WEL', 'SCUA', 'DMA', 'GBLL', 'BWNB', 'IFIN', 'NETC', 'CNDB', 'APCA', 'DOUG', 'SEDA', 'TRAQ', 'EMP', 'APN', 'PACI', 'MDV', 'BRCC', 'RMMZ', 'JUN', 'NPFD', 'ECCX', 'BIPI', 'ZGN', 'RCA', 'PAXS', 'IRRX', 'NFNT', 'MNTN', 'SUAC', 'IOT']\n"
     ]
    }
   ],
   "source": [
    "#for each stock, year did it list in\n",
    "error_list = []\n",
    "from collections import defaultdict\n",
    "year_dict = defaultdict(int)\n",
    "for ticker in ticker_list:\n",
    "    #get the first year stock\n",
    "    #get the first year stockyear\n",
    "    try:\n",
    "        year = int(data_dict[ticker].Date[0].split('-')[0])\n",
    "        year_dict[year] += 1\n",
    "    except:\n",
    "        error_list.append(ticker)\n",
    "print(error_list)\n",
    "\n"
   ],
   "metadata": {
    "collapsed": false,
    "pycharm": {
     "name": "#%%\n"
    }
   }
  },
  {
   "cell_type": "markdown",
   "source": [
    "Pull the data again without the stocks that were giving the errors, which were giving the errors because they were listed in the new york stock exchange after 2022"
   ],
   "metadata": {
    "collapsed": false,
    "pycharm": {
     "name": "#%% md\n"
    }
   }
  },
  {
   "cell_type": "code",
   "execution_count": 103,
   "outputs": [],
   "source": [
    "new_data_dict = {}\n",
    "for stock in data_dict.keys():\n",
    "    if stock not in error_list:\n",
    "        new_data_dict[stock] = data_dict[stock]\n",
    "    else:\n",
    "        print(stock)\n",
    "\n",
    "data_dict = new_data_dict"
   ],
   "metadata": {
    "collapsed": false,
    "pycharm": {
     "name": "#%%\n"
    }
   }
  },
  {
   "cell_type": "code",
   "execution_count": 105,
   "outputs": [
    {
     "ename": "KeyError",
     "evalue": "'EVE'",
     "output_type": "error",
     "traceback": [
      "\u001B[0;31m---------------------------------------------------------------------------\u001B[0m",
      "\u001B[0;31mKeyError\u001B[0m                                  Traceback (most recent call last)",
      "Input \u001B[0;32mIn [105]\u001B[0m, in \u001B[0;36m<module>\u001B[0;34m\u001B[0m\n\u001B[0;32m----> 1\u001B[0m \u001B[43mdata_dict\u001B[49m\u001B[43m[\u001B[49m\u001B[38;5;124;43m'\u001B[39;49m\u001B[38;5;124;43mEVE\u001B[39;49m\u001B[38;5;124;43m'\u001B[39;49m\u001B[43m]\u001B[49m,head()\n",
      "\u001B[0;31mKeyError\u001B[0m: 'EVE'"
     ]
    }
   ],
   "source": [
    "data_dict['EVE'],head()"
   ],
   "metadata": {
    "collapsed": false,
    "pycharm": {
     "name": "#%%\n"
    }
   }
  },
  {
   "cell_type": "code",
   "execution_count": 104,
   "outputs": [
    {
     "data": {
      "text/plain": "['EVE',\n 'ECCV',\n 'BRD',\n 'MTVC',\n 'SFB',\n 'RRAC',\n 'SHAP',\n 'HTAQ',\n 'STET',\n 'TCOA',\n 'RJAC',\n 'ATEK',\n 'RCFA',\n 'SHEL',\n 'ACDI',\n 'EAI',\n 'PORT',\n 'BFAC',\n 'MBSC',\n 'WEL',\n 'SCUA',\n 'DMA',\n 'GBLL',\n 'BWNB',\n 'IFIN',\n 'NETC',\n 'CNDB',\n 'APCA',\n 'DOUG',\n 'SEDA',\n 'TRAQ',\n 'EMP',\n 'APN',\n 'PACI',\n 'MDV',\n 'BRCC',\n 'RMMZ',\n 'JUN',\n 'NPFD',\n 'ECCX',\n 'BIPI',\n 'ZGN',\n 'RCA',\n 'PAXS',\n 'IRRX',\n 'NFNT',\n 'MNTN',\n 'SUAC',\n 'IOT']"
     },
     "execution_count": 104,
     "metadata": {},
     "output_type": "execute_result"
    }
   ],
   "source": [
    "error_list"
   ],
   "metadata": {
    "collapsed": false,
    "pycharm": {
     "name": "#%%\n"
    }
   }
  },
  {
   "cell_type": "code",
   "execution_count": 76,
   "outputs": [
    {
     "data": {
      "text/plain": "          Date       Open       High        Low      Close  Volume\n1   2021-02-12  24.850000  24.900000  24.799999  24.850000   25700\n2   2021-02-16  25.250000  25.250000  24.775000  24.820000   46200\n3   2021-02-17  24.900000  24.900000  23.700001  24.799999   23400\n4   2021-02-18  24.780001  24.900000  24.750000  24.889999   28000\n5   2021-02-19  24.799999  24.889999  24.799999  24.860001   16800\n6   2021-02-22  24.870001  24.900000  24.792000  24.850000   24200\n7   2021-02-23  24.860001  24.950001  24.700001  24.860001   19600\n8   2021-02-24  24.969999  25.129999  24.795000  25.129999   26200\n9   2021-02-25  25.200001  25.250000  25.150000  25.230000   10700\n10  2021-02-26  25.250000  25.299999  24.719999  25.139999   25600\n11  2021-03-01  25.450001  25.450001  25.299999  25.299999    2500\n12  2021-03-02  25.201000  25.350000  25.201000  25.250000    9000\n13  2021-03-03  25.250000  25.299999  25.224001  25.299999    6400\n14  2021-03-04  25.299999  25.299999  25.299999  25.299999     400\n15  2021-03-05  25.299999  25.400000  25.155001  25.400000    5600\n16  2021-03-08  25.260000  25.400000  25.250000  25.320000    4500\n17  2021-03-09  25.400000  25.469999  25.330000  25.400000   12600\n18  2021-03-10  25.549999  25.549999  25.549999  25.549999    1000\n19  2021-03-11  25.500000  25.500000  25.500000  25.500000    1000\n20  2021-03-12  25.549999  25.549999  25.549999  25.549999    9800\n21  2021-03-15  25.680000  25.690001  25.600000  25.680000    1000\n22  2021-03-16  25.700001  25.700001  25.500000  25.549999   10000\n23  2021-03-17  25.580000  25.875000  25.580000  25.750000    2800\n24  2021-03-18  25.730000  25.730000  25.559999  25.700001     400\n25  2021-03-19  25.700001  25.700001  25.700001  25.700001       0\n26  2021-03-22  25.650000  25.750000  25.600000  25.750000    2200\n27  2021-03-23  25.725000  25.725000  25.725000  25.725000    1000\n28  2021-03-24  25.600000  25.600000  25.490000  25.600000    4600\n29  2021-03-25  25.469999  25.500000  25.400000  25.500000    8400\n30  2021-03-26  25.500000  25.510000  25.500000  25.500000     500",
      "text/html": "<div>\n<style scoped>\n    .dataframe tbody tr th:only-of-type {\n        vertical-align: middle;\n    }\n\n    .dataframe tbody tr th {\n        vertical-align: top;\n    }\n\n    .dataframe thead th {\n        text-align: right;\n    }\n</style>\n<table border=\"1\" class=\"dataframe\">\n  <thead>\n    <tr style=\"text-align: right;\">\n      <th></th>\n      <th>Date</th>\n      <th>Open</th>\n      <th>High</th>\n      <th>Low</th>\n      <th>Close</th>\n      <th>Volume</th>\n    </tr>\n  </thead>\n  <tbody>\n    <tr>\n      <th>1</th>\n      <td>2021-02-12</td>\n      <td>24.850000</td>\n      <td>24.900000</td>\n      <td>24.799999</td>\n      <td>24.850000</td>\n      <td>25700</td>\n    </tr>\n    <tr>\n      <th>2</th>\n      <td>2021-02-16</td>\n      <td>25.250000</td>\n      <td>25.250000</td>\n      <td>24.775000</td>\n      <td>24.820000</td>\n      <td>46200</td>\n    </tr>\n    <tr>\n      <th>3</th>\n      <td>2021-02-17</td>\n      <td>24.900000</td>\n      <td>24.900000</td>\n      <td>23.700001</td>\n      <td>24.799999</td>\n      <td>23400</td>\n    </tr>\n    <tr>\n      <th>4</th>\n      <td>2021-02-18</td>\n      <td>24.780001</td>\n      <td>24.900000</td>\n      <td>24.750000</td>\n      <td>24.889999</td>\n      <td>28000</td>\n    </tr>\n    <tr>\n      <th>5</th>\n      <td>2021-02-19</td>\n      <td>24.799999</td>\n      <td>24.889999</td>\n      <td>24.799999</td>\n      <td>24.860001</td>\n      <td>16800</td>\n    </tr>\n    <tr>\n      <th>6</th>\n      <td>2021-02-22</td>\n      <td>24.870001</td>\n      <td>24.900000</td>\n      <td>24.792000</td>\n      <td>24.850000</td>\n      <td>24200</td>\n    </tr>\n    <tr>\n      <th>7</th>\n      <td>2021-02-23</td>\n      <td>24.860001</td>\n      <td>24.950001</td>\n      <td>24.700001</td>\n      <td>24.860001</td>\n      <td>19600</td>\n    </tr>\n    <tr>\n      <th>8</th>\n      <td>2021-02-24</td>\n      <td>24.969999</td>\n      <td>25.129999</td>\n      <td>24.795000</td>\n      <td>25.129999</td>\n      <td>26200</td>\n    </tr>\n    <tr>\n      <th>9</th>\n      <td>2021-02-25</td>\n      <td>25.200001</td>\n      <td>25.250000</td>\n      <td>25.150000</td>\n      <td>25.230000</td>\n      <td>10700</td>\n    </tr>\n    <tr>\n      <th>10</th>\n      <td>2021-02-26</td>\n      <td>25.250000</td>\n      <td>25.299999</td>\n      <td>24.719999</td>\n      <td>25.139999</td>\n      <td>25600</td>\n    </tr>\n    <tr>\n      <th>11</th>\n      <td>2021-03-01</td>\n      <td>25.450001</td>\n      <td>25.450001</td>\n      <td>25.299999</td>\n      <td>25.299999</td>\n      <td>2500</td>\n    </tr>\n    <tr>\n      <th>12</th>\n      <td>2021-03-02</td>\n      <td>25.201000</td>\n      <td>25.350000</td>\n      <td>25.201000</td>\n      <td>25.250000</td>\n      <td>9000</td>\n    </tr>\n    <tr>\n      <th>13</th>\n      <td>2021-03-03</td>\n      <td>25.250000</td>\n      <td>25.299999</td>\n      <td>25.224001</td>\n      <td>25.299999</td>\n      <td>6400</td>\n    </tr>\n    <tr>\n      <th>14</th>\n      <td>2021-03-04</td>\n      <td>25.299999</td>\n      <td>25.299999</td>\n      <td>25.299999</td>\n      <td>25.299999</td>\n      <td>400</td>\n    </tr>\n    <tr>\n      <th>15</th>\n      <td>2021-03-05</td>\n      <td>25.299999</td>\n      <td>25.400000</td>\n      <td>25.155001</td>\n      <td>25.400000</td>\n      <td>5600</td>\n    </tr>\n    <tr>\n      <th>16</th>\n      <td>2021-03-08</td>\n      <td>25.260000</td>\n      <td>25.400000</td>\n      <td>25.250000</td>\n      <td>25.320000</td>\n      <td>4500</td>\n    </tr>\n    <tr>\n      <th>17</th>\n      <td>2021-03-09</td>\n      <td>25.400000</td>\n      <td>25.469999</td>\n      <td>25.330000</td>\n      <td>25.400000</td>\n      <td>12600</td>\n    </tr>\n    <tr>\n      <th>18</th>\n      <td>2021-03-10</td>\n      <td>25.549999</td>\n      <td>25.549999</td>\n      <td>25.549999</td>\n      <td>25.549999</td>\n      <td>1000</td>\n    </tr>\n    <tr>\n      <th>19</th>\n      <td>2021-03-11</td>\n      <td>25.500000</td>\n      <td>25.500000</td>\n      <td>25.500000</td>\n      <td>25.500000</td>\n      <td>1000</td>\n    </tr>\n    <tr>\n      <th>20</th>\n      <td>2021-03-12</td>\n      <td>25.549999</td>\n      <td>25.549999</td>\n      <td>25.549999</td>\n      <td>25.549999</td>\n      <td>9800</td>\n    </tr>\n    <tr>\n      <th>21</th>\n      <td>2021-03-15</td>\n      <td>25.680000</td>\n      <td>25.690001</td>\n      <td>25.600000</td>\n      <td>25.680000</td>\n      <td>1000</td>\n    </tr>\n    <tr>\n      <th>22</th>\n      <td>2021-03-16</td>\n      <td>25.700001</td>\n      <td>25.700001</td>\n      <td>25.500000</td>\n      <td>25.549999</td>\n      <td>10000</td>\n    </tr>\n    <tr>\n      <th>23</th>\n      <td>2021-03-17</td>\n      <td>25.580000</td>\n      <td>25.875000</td>\n      <td>25.580000</td>\n      <td>25.750000</td>\n      <td>2800</td>\n    </tr>\n    <tr>\n      <th>24</th>\n      <td>2021-03-18</td>\n      <td>25.730000</td>\n      <td>25.730000</td>\n      <td>25.559999</td>\n      <td>25.700001</td>\n      <td>400</td>\n    </tr>\n    <tr>\n      <th>25</th>\n      <td>2021-03-19</td>\n      <td>25.700001</td>\n      <td>25.700001</td>\n      <td>25.700001</td>\n      <td>25.700001</td>\n      <td>0</td>\n    </tr>\n    <tr>\n      <th>26</th>\n      <td>2021-03-22</td>\n      <td>25.650000</td>\n      <td>25.750000</td>\n      <td>25.600000</td>\n      <td>25.750000</td>\n      <td>2200</td>\n    </tr>\n    <tr>\n      <th>27</th>\n      <td>2021-03-23</td>\n      <td>25.725000</td>\n      <td>25.725000</td>\n      <td>25.725000</td>\n      <td>25.725000</td>\n      <td>1000</td>\n    </tr>\n    <tr>\n      <th>28</th>\n      <td>2021-03-24</td>\n      <td>25.600000</td>\n      <td>25.600000</td>\n      <td>25.490000</td>\n      <td>25.600000</td>\n      <td>4600</td>\n    </tr>\n    <tr>\n      <th>29</th>\n      <td>2021-03-25</td>\n      <td>25.469999</td>\n      <td>25.500000</td>\n      <td>25.400000</td>\n      <td>25.500000</td>\n      <td>8400</td>\n    </tr>\n    <tr>\n      <th>30</th>\n      <td>2021-03-26</td>\n      <td>25.500000</td>\n      <td>25.510000</td>\n      <td>25.500000</td>\n      <td>25.500000</td>\n      <td>500</td>\n    </tr>\n  </tbody>\n</table>\n</div>"
     },
     "execution_count": 76,
     "metadata": {},
     "output_type": "execute_result"
    }
   ],
   "source": [
    "temp_df = data_dict[\"TFSA\"]\n",
    "temp_df = temp_df[[\"Date\", \"Open\", \"High\", \"Low\", \"Close\", \"Volume\"]]\n",
    "#temp_df[[\"Date\"]].head(30)\n",
    "temp_df.head(30)"
   ],
   "metadata": {
    "collapsed": false,
    "pycharm": {
     "name": "#%%\n"
    }
   }
  },
  {
   "cell_type": "code",
   "execution_count": 73,
   "outputs": [
    {
     "data": {
      "text/plain": "['THO', 'STAG', 'TFSA']"
     },
     "execution_count": 73,
     "metadata": {},
     "output_type": "execute_result"
    }
   ],
   "source": [
    "list(data_dict.keys())[0:3]"
   ],
   "metadata": {
    "collapsed": false,
    "pycharm": {
     "name": "#%%\n"
    }
   }
  },
  {
   "cell_type": "code",
   "execution_count": null,
   "outputs": [],
   "source": [],
   "metadata": {
    "collapsed": false,
    "pycharm": {
     "name": "#%%\n"
    }
   }
  },
  {
   "cell_type": "code",
   "execution_count": 6,
   "outputs": [
    {
     "data": {
      "text/plain": "['<= 2007',\n '2008',\n '2009',\n '2010',\n '2011',\n '2012',\n '2013',\n '2014',\n '2015',\n '2016',\n '2017',\n '2018',\n '2019',\n '2020',\n '2021']"
     },
     "execution_count": 6,
     "metadata": {},
     "output_type": "execute_result"
    }
   ],
   "source": [
    "#graph year list\n",
    "year_keys = np.sort(list(year_dict.keys()))\n",
    "new_year_keys = [str(x) if x != 2007 else '<= 2007' for x in year_keys ]\n",
    "new_year_keys\n"
   ],
   "metadata": {
    "collapsed": false,
    "pycharm": {
     "name": "#%%\n"
    }
   }
  },
  {
   "cell_type": "code",
   "execution_count": 14,
   "outputs": [
    {
     "ename": "ConversionError",
     "evalue": "Failed to convert value(s) to axis units: ['<= 2007', '2008', '2009', '2010', '2011', '2012', '2013', '2014', '2015', '2016', '2017', '2018', '2019', '2020', '2021']",
     "output_type": "error",
     "traceback": [
      "\u001B[0;31m---------------------------------------------------------------------------\u001B[0m",
      "\u001B[0;31mValueError\u001B[0m                                Traceback (most recent call last)",
      "File \u001B[0;32m~/anaconda3/envs/csc492_v2/lib/python3.9/site-packages/matplotlib/axis.py:1506\u001B[0m, in \u001B[0;36mAxis.convert_units\u001B[0;34m(self, x)\u001B[0m\n\u001B[1;32m   1505\u001B[0m \u001B[38;5;28;01mtry\u001B[39;00m:\n\u001B[0;32m-> 1506\u001B[0m     ret \u001B[38;5;241m=\u001B[39m \u001B[38;5;28;43mself\u001B[39;49m\u001B[38;5;241;43m.\u001B[39;49m\u001B[43mconverter\u001B[49m\u001B[38;5;241;43m.\u001B[39;49m\u001B[43mconvert\u001B[49m\u001B[43m(\u001B[49m\u001B[43mx\u001B[49m\u001B[43m,\u001B[49m\u001B[43m \u001B[49m\u001B[38;5;28;43mself\u001B[39;49m\u001B[38;5;241;43m.\u001B[39;49m\u001B[43munits\u001B[49m\u001B[43m,\u001B[49m\u001B[43m \u001B[49m\u001B[38;5;28;43mself\u001B[39;49m\u001B[43m)\u001B[49m\n\u001B[1;32m   1507\u001B[0m \u001B[38;5;28;01mexcept\u001B[39;00m \u001B[38;5;167;01mException\u001B[39;00m \u001B[38;5;28;01mas\u001B[39;00m e:\n",
      "File \u001B[0;32m~/anaconda3/envs/csc492_v2/lib/python3.9/site-packages/matplotlib/category.py:49\u001B[0m, in \u001B[0;36mStrCategoryConverter.convert\u001B[0;34m(value, unit, axis)\u001B[0m\n\u001B[1;32m     48\u001B[0m \u001B[38;5;28;01mif\u001B[39;00m unit \u001B[38;5;129;01mis\u001B[39;00m \u001B[38;5;28;01mNone\u001B[39;00m:\n\u001B[0;32m---> 49\u001B[0m     \u001B[38;5;28;01mraise\u001B[39;00m \u001B[38;5;167;01mValueError\u001B[39;00m(\n\u001B[1;32m     50\u001B[0m         \u001B[38;5;124m'\u001B[39m\u001B[38;5;124mMissing category information for StrCategoryConverter; \u001B[39m\u001B[38;5;124m'\u001B[39m\n\u001B[1;32m     51\u001B[0m         \u001B[38;5;124m'\u001B[39m\u001B[38;5;124mthis might be caused by unintendedly mixing categorical and \u001B[39m\u001B[38;5;124m'\u001B[39m\n\u001B[1;32m     52\u001B[0m         \u001B[38;5;124m'\u001B[39m\u001B[38;5;124mnumeric data\u001B[39m\u001B[38;5;124m'\u001B[39m)\n\u001B[1;32m     53\u001B[0m StrCategoryConverter\u001B[38;5;241m.\u001B[39m_validate_unit(unit)\n",
      "\u001B[0;31mValueError\u001B[0m: Missing category information for StrCategoryConverter; this might be caused by unintendedly mixing categorical and numeric data",
      "\nThe above exception was the direct cause of the following exception:\n",
      "\u001B[0;31mConversionError\u001B[0m                           Traceback (most recent call last)",
      "Input \u001B[0;32mIn [14]\u001B[0m, in \u001B[0;36m<module>\u001B[0;34m\u001B[0m\n\u001B[1;32m      5\u001B[0m \u001B[38;5;66;03m#plt.figure(figsize=(20,20))\u001B[39;00m\n\u001B[1;32m      6\u001B[0m ax \u001B[38;5;241m=\u001B[39m sns\u001B[38;5;241m.\u001B[39mbarplot(x\u001B[38;5;241m=\u001B[39m\u001B[38;5;124m'\u001B[39m\u001B[38;5;124mYear\u001B[39m\u001B[38;5;124m'\u001B[39m, y\u001B[38;5;241m=\u001B[39m\u001B[38;5;124m'\u001B[39m\u001B[38;5;124mCount\u001B[39m\u001B[38;5;124m'\u001B[39m, data\u001B[38;5;241m=\u001B[39mplotting_df)\n\u001B[0;32m----> 7\u001B[0m \u001B[43max\u001B[49m\u001B[38;5;241;43m.\u001B[39;49m\u001B[43mset\u001B[49m\u001B[43m(\u001B[49m\u001B[43mxticks\u001B[49m\u001B[38;5;241;43m=\u001B[39;49m\u001B[43mnew_year_keys\u001B[49m\u001B[43m)\u001B[49m\n\u001B[1;32m      8\u001B[0m plt\u001B[38;5;241m.\u001B[39mshow()\n",
      "File \u001B[0;32m~/anaconda3/envs/csc492_v2/lib/python3.9/site-packages/matplotlib/artist.py:116\u001B[0m, in \u001B[0;36mArtist.__init_subclass__.<locals>.<lambda>\u001B[0;34m(self, **kwargs)\u001B[0m\n\u001B[1;32m    108\u001B[0m \u001B[38;5;28;01mif\u001B[39;00m \u001B[38;5;129;01mnot\u001B[39;00m \u001B[38;5;28mhasattr\u001B[39m(\u001B[38;5;28mcls\u001B[39m\u001B[38;5;241m.\u001B[39mset, \u001B[38;5;124m'\u001B[39m\u001B[38;5;124m_autogenerated_signature\u001B[39m\u001B[38;5;124m'\u001B[39m):\n\u001B[1;32m    109\u001B[0m     \u001B[38;5;66;03m# Don't overwrite cls.set if the subclass or one of its parents\u001B[39;00m\n\u001B[1;32m    110\u001B[0m     \u001B[38;5;66;03m# has defined a set method set itself.\u001B[39;00m\n\u001B[1;32m    111\u001B[0m     \u001B[38;5;66;03m# If there was no explicit definition, cls.set is inherited from\u001B[39;00m\n\u001B[1;32m    112\u001B[0m     \u001B[38;5;66;03m# the hierarchy of auto-generated set methods, which hold the\u001B[39;00m\n\u001B[1;32m    113\u001B[0m     \u001B[38;5;66;03m# flag _autogenerated_signature.\u001B[39;00m\n\u001B[1;32m    114\u001B[0m     \u001B[38;5;28;01mreturn\u001B[39;00m\n\u001B[0;32m--> 116\u001B[0m \u001B[38;5;28mcls\u001B[39m\u001B[38;5;241m.\u001B[39mset \u001B[38;5;241m=\u001B[39m \u001B[38;5;28;01mlambda\u001B[39;00m \u001B[38;5;28mself\u001B[39m, \u001B[38;5;241m*\u001B[39m\u001B[38;5;241m*\u001B[39mkwargs: \u001B[43mArtist\u001B[49m\u001B[38;5;241;43m.\u001B[39;49m\u001B[43mset\u001B[49m\u001B[43m(\u001B[49m\u001B[38;5;28;43mself\u001B[39;49m\u001B[43m,\u001B[49m\u001B[43m \u001B[49m\u001B[38;5;241;43m*\u001B[39;49m\u001B[38;5;241;43m*\u001B[39;49m\u001B[43mkwargs\u001B[49m\u001B[43m)\u001B[49m\n\u001B[1;32m    117\u001B[0m \u001B[38;5;28mcls\u001B[39m\u001B[38;5;241m.\u001B[39mset\u001B[38;5;241m.\u001B[39m\u001B[38;5;18m__name__\u001B[39m \u001B[38;5;241m=\u001B[39m \u001B[38;5;124m\"\u001B[39m\u001B[38;5;124mset\u001B[39m\u001B[38;5;124m\"\u001B[39m\n\u001B[1;32m    118\u001B[0m \u001B[38;5;28mcls\u001B[39m\u001B[38;5;241m.\u001B[39mset\u001B[38;5;241m.\u001B[39m\u001B[38;5;18m__qualname__\u001B[39m \u001B[38;5;241m=\u001B[39m \u001B[38;5;124mf\u001B[39m\u001B[38;5;124m\"\u001B[39m\u001B[38;5;132;01m{\u001B[39;00m\u001B[38;5;28mcls\u001B[39m\u001B[38;5;241m.\u001B[39m\u001B[38;5;18m__qualname__\u001B[39m\u001B[38;5;132;01m}\u001B[39;00m\u001B[38;5;124m.set\u001B[39m\u001B[38;5;124m\"\u001B[39m\n",
      "File \u001B[0;32m~/anaconda3/envs/csc492_v2/lib/python3.9/site-packages/matplotlib/artist.py:1164\u001B[0m, in \u001B[0;36mArtist.set\u001B[0;34m(self, **kwargs)\u001B[0m\n\u001B[1;32m   1159\u001B[0m \u001B[38;5;28;01mdef\u001B[39;00m \u001B[38;5;21mset\u001B[39m(\u001B[38;5;28mself\u001B[39m, \u001B[38;5;241m*\u001B[39m\u001B[38;5;241m*\u001B[39mkwargs):\n\u001B[1;32m   1160\u001B[0m     \u001B[38;5;66;03m# docstring and signature are auto-generated via\u001B[39;00m\n\u001B[1;32m   1161\u001B[0m     \u001B[38;5;66;03m# Artist._update_set_signature_and_docstring() at the end of the\u001B[39;00m\n\u001B[1;32m   1162\u001B[0m     \u001B[38;5;66;03m# module.\u001B[39;00m\n\u001B[1;32m   1163\u001B[0m     kwargs \u001B[38;5;241m=\u001B[39m cbook\u001B[38;5;241m.\u001B[39mnormalize_kwargs(kwargs, \u001B[38;5;28mself\u001B[39m)\n\u001B[0;32m-> 1164\u001B[0m     \u001B[38;5;28;01mreturn\u001B[39;00m \u001B[38;5;28;43mself\u001B[39;49m\u001B[38;5;241;43m.\u001B[39;49m\u001B[43mupdate\u001B[49m\u001B[43m(\u001B[49m\u001B[43mkwargs\u001B[49m\u001B[43m)\u001B[49m\n",
      "File \u001B[0;32m~/anaconda3/envs/csc492_v2/lib/python3.9/site-packages/matplotlib/artist.py:1066\u001B[0m, in \u001B[0;36mArtist.update\u001B[0;34m(self, props)\u001B[0m\n\u001B[1;32m   1063\u001B[0m             \u001B[38;5;28;01mif\u001B[39;00m \u001B[38;5;129;01mnot\u001B[39;00m callable(func):\n\u001B[1;32m   1064\u001B[0m                 \u001B[38;5;28;01mraise\u001B[39;00m \u001B[38;5;167;01mAttributeError\u001B[39;00m(\u001B[38;5;124mf\u001B[39m\u001B[38;5;124m\"\u001B[39m\u001B[38;5;132;01m{\u001B[39;00m\u001B[38;5;28mtype\u001B[39m(\u001B[38;5;28mself\u001B[39m)\u001B[38;5;241m.\u001B[39m\u001B[38;5;18m__name__\u001B[39m\u001B[38;5;132;01m!r}\u001B[39;00m\u001B[38;5;124m object \u001B[39m\u001B[38;5;124m\"\u001B[39m\n\u001B[1;32m   1065\u001B[0m                                      \u001B[38;5;124mf\u001B[39m\u001B[38;5;124m\"\u001B[39m\u001B[38;5;124mhas no property \u001B[39m\u001B[38;5;132;01m{\u001B[39;00mk\u001B[38;5;132;01m!r}\u001B[39;00m\u001B[38;5;124m\"\u001B[39m)\n\u001B[0;32m-> 1066\u001B[0m             ret\u001B[38;5;241m.\u001B[39mappend(\u001B[43mfunc\u001B[49m\u001B[43m(\u001B[49m\u001B[43mv\u001B[49m\u001B[43m)\u001B[49m)\n\u001B[1;32m   1067\u001B[0m \u001B[38;5;28;01mif\u001B[39;00m ret:\n\u001B[1;32m   1068\u001B[0m     \u001B[38;5;28mself\u001B[39m\u001B[38;5;241m.\u001B[39mpchanged()\n",
      "File \u001B[0;32m~/anaconda3/envs/csc492_v2/lib/python3.9/site-packages/matplotlib/axes/_base.py:75\u001B[0m, in \u001B[0;36m_axis_method_wrapper.__set_name__.<locals>.wrapper\u001B[0;34m(self, *args, **kwargs)\u001B[0m\n\u001B[1;32m     74\u001B[0m \u001B[38;5;28;01mdef\u001B[39;00m \u001B[38;5;21mwrapper\u001B[39m(\u001B[38;5;28mself\u001B[39m, \u001B[38;5;241m*\u001B[39margs, \u001B[38;5;241m*\u001B[39m\u001B[38;5;241m*\u001B[39mkwargs):\n\u001B[0;32m---> 75\u001B[0m     \u001B[38;5;28;01mreturn\u001B[39;00m \u001B[43mget_method\u001B[49m\u001B[43m(\u001B[49m\u001B[38;5;28;43mself\u001B[39;49m\u001B[43m)\u001B[49m\u001B[43m(\u001B[49m\u001B[38;5;241;43m*\u001B[39;49m\u001B[43margs\u001B[49m\u001B[43m,\u001B[49m\u001B[43m \u001B[49m\u001B[38;5;241;43m*\u001B[39;49m\u001B[38;5;241;43m*\u001B[39;49m\u001B[43mkwargs\u001B[49m\u001B[43m)\u001B[49m\n",
      "File \u001B[0;32m~/anaconda3/envs/csc492_v2/lib/python3.9/site-packages/matplotlib/axis.py:1855\u001B[0m, in \u001B[0;36mAxis.set_ticks\u001B[0;34m(self, ticks, labels, minor, **kwargs)\u001B[0m\n\u001B[1;32m   1829\u001B[0m \u001B[38;5;28;01mdef\u001B[39;00m \u001B[38;5;21mset_ticks\u001B[39m(\u001B[38;5;28mself\u001B[39m, ticks, labels\u001B[38;5;241m=\u001B[39m\u001B[38;5;28;01mNone\u001B[39;00m, \u001B[38;5;241m*\u001B[39m, minor\u001B[38;5;241m=\u001B[39m\u001B[38;5;28;01mFalse\u001B[39;00m, \u001B[38;5;241m*\u001B[39m\u001B[38;5;241m*\u001B[39mkwargs):\n\u001B[1;32m   1830\u001B[0m     \u001B[38;5;124;03m\"\"\"\u001B[39;00m\n\u001B[1;32m   1831\u001B[0m \u001B[38;5;124;03m    Set this Axis' tick locations and optionally labels.\u001B[39;00m\n\u001B[1;32m   1832\u001B[0m \n\u001B[0;32m   (...)\u001B[0m\n\u001B[1;32m   1853\u001B[0m \u001B[38;5;124;03m    ticks.\u001B[39;00m\n\u001B[1;32m   1854\u001B[0m \u001B[38;5;124;03m    \"\"\"\u001B[39;00m\n\u001B[0;32m-> 1855\u001B[0m     result \u001B[38;5;241m=\u001B[39m \u001B[38;5;28;43mself\u001B[39;49m\u001B[38;5;241;43m.\u001B[39;49m\u001B[43m_set_tick_locations\u001B[49m\u001B[43m(\u001B[49m\u001B[43mticks\u001B[49m\u001B[43m,\u001B[49m\u001B[43m \u001B[49m\u001B[43mminor\u001B[49m\u001B[38;5;241;43m=\u001B[39;49m\u001B[43mminor\u001B[49m\u001B[43m)\u001B[49m\n\u001B[1;32m   1856\u001B[0m     \u001B[38;5;28;01mif\u001B[39;00m labels \u001B[38;5;129;01mis\u001B[39;00m \u001B[38;5;129;01mnot\u001B[39;00m \u001B[38;5;28;01mNone\u001B[39;00m:\n\u001B[1;32m   1857\u001B[0m         \u001B[38;5;28mself\u001B[39m\u001B[38;5;241m.\u001B[39mset_ticklabels(labels, minor\u001B[38;5;241m=\u001B[39mminor, \u001B[38;5;241m*\u001B[39m\u001B[38;5;241m*\u001B[39mkwargs)\n",
      "File \u001B[0;32m~/anaconda3/envs/csc492_v2/lib/python3.9/site-packages/matplotlib/axis.py:1804\u001B[0m, in \u001B[0;36mAxis._set_tick_locations\u001B[0;34m(self, ticks, minor)\u001B[0m\n\u001B[1;32m   1800\u001B[0m \u001B[38;5;28;01mdef\u001B[39;00m \u001B[38;5;21m_set_tick_locations\u001B[39m(\u001B[38;5;28mself\u001B[39m, ticks, \u001B[38;5;241m*\u001B[39m, minor\u001B[38;5;241m=\u001B[39m\u001B[38;5;28;01mFalse\u001B[39;00m):\n\u001B[1;32m   1801\u001B[0m     \u001B[38;5;66;03m# see docstring of set_ticks\u001B[39;00m\n\u001B[1;32m   1802\u001B[0m \n\u001B[1;32m   1803\u001B[0m     \u001B[38;5;66;03m# XXX if the user changes units, the information will be lost here\u001B[39;00m\n\u001B[0;32m-> 1804\u001B[0m     ticks \u001B[38;5;241m=\u001B[39m \u001B[38;5;28;43mself\u001B[39;49m\u001B[38;5;241;43m.\u001B[39;49m\u001B[43mconvert_units\u001B[49m\u001B[43m(\u001B[49m\u001B[43mticks\u001B[49m\u001B[43m)\u001B[49m\n\u001B[1;32m   1805\u001B[0m     \u001B[38;5;28;01mfor\u001B[39;00m name, axis \u001B[38;5;129;01min\u001B[39;00m \u001B[38;5;28mself\u001B[39m\u001B[38;5;241m.\u001B[39maxes\u001B[38;5;241m.\u001B[39m_get_axis_map()\u001B[38;5;241m.\u001B[39mitems():\n\u001B[1;32m   1806\u001B[0m         \u001B[38;5;28;01mif\u001B[39;00m \u001B[38;5;28mself\u001B[39m \u001B[38;5;129;01mis\u001B[39;00m axis:\n",
      "File \u001B[0;32m~/anaconda3/envs/csc492_v2/lib/python3.9/site-packages/matplotlib/axis.py:1508\u001B[0m, in \u001B[0;36mAxis.convert_units\u001B[0;34m(self, x)\u001B[0m\n\u001B[1;32m   1506\u001B[0m     ret \u001B[38;5;241m=\u001B[39m \u001B[38;5;28mself\u001B[39m\u001B[38;5;241m.\u001B[39mconverter\u001B[38;5;241m.\u001B[39mconvert(x, \u001B[38;5;28mself\u001B[39m\u001B[38;5;241m.\u001B[39munits, \u001B[38;5;28mself\u001B[39m)\n\u001B[1;32m   1507\u001B[0m \u001B[38;5;28;01mexcept\u001B[39;00m \u001B[38;5;167;01mException\u001B[39;00m \u001B[38;5;28;01mas\u001B[39;00m e:\n\u001B[0;32m-> 1508\u001B[0m     \u001B[38;5;28;01mraise\u001B[39;00m munits\u001B[38;5;241m.\u001B[39mConversionError(\u001B[38;5;124m'\u001B[39m\u001B[38;5;124mFailed to convert value(s) to axis \u001B[39m\u001B[38;5;124m'\u001B[39m\n\u001B[1;32m   1509\u001B[0m                                  \u001B[38;5;124mf\u001B[39m\u001B[38;5;124m'\u001B[39m\u001B[38;5;124munits: \u001B[39m\u001B[38;5;132;01m{\u001B[39;00mx\u001B[38;5;132;01m!r}\u001B[39;00m\u001B[38;5;124m'\u001B[39m) \u001B[38;5;28;01mfrom\u001B[39;00m \u001B[38;5;21;01me\u001B[39;00m\n\u001B[1;32m   1510\u001B[0m \u001B[38;5;28;01mreturn\u001B[39;00m ret\n",
      "\u001B[0;31mConversionError\u001B[0m: Failed to convert value(s) to axis units: ['<= 2007', '2008', '2009', '2010', '2011', '2012', '2013', '2014', '2015', '2016', '2017', '2018', '2019', '2020', '2021']"
     ]
    },
    {
     "data": {
      "text/plain": "<Figure size 432x288 with 1 Axes>",
      "image/png": "[encoded data removed]"
     },
     "metadata": {
      "needs_background": "light"
     },
     "output_type": "display_data"
    }
   ],
   "source": [
    "import seaborn as sns\n",
    "plotting_df = pd.DataFrame(list(year_dict.items()))\n",
    "plotting_df.columns = [\"Year\", \"Count\"]\n",
    "plotting_df.sort_values(ascending=True, by=['Year'], inplace=True)\n",
    "#plt.figure(figsize=(20,20))\n",
    "ax = sns.barplot(x='Year', y='Count', data=plotting_df)\n",
    "ax.set(xticks=new_year_keys)\n",
    "plt.show()"
   ],
   "metadata": {
    "collapsed": false,
    "pycharm": {
     "name": "#%%\n"
    }
   }
  },
  {
   "cell_type": "code",
   "execution_count": 15,
   "outputs": [
    {
     "name": "stdout",
     "output_type": "stream",
     "text": [
      "['EVE', 'ECCV', 'BRD', 'MTVC', 'SFB', 'SHAP', 'HTAQ', 'STET', 'TCOA', 'RJAC', 'ATEK', 'RCFA', 'SHEL', 'ACDI', 'EAI', 'PORT', 'BFAC', 'WEL', 'SCUA', 'DMA', 'GBLL', 'IFIN', 'NETC', 'APCA', 'DOUG', 'EMP', 'PACI', 'MDV', 'BRCC', 'RMMZ', 'ECCX', 'BIPI', 'RCA', 'PAXS', 'IRRX', 'NFNT', 'MNTN', 'SUAC']\n"
     ]
    }
   ],
   "source": [
    "print(error_list)"
   ],
   "metadata": {
    "collapsed": false,
    "pycharm": {
     "name": "#%%\n"
    }
   }
  },
  {
   "cell_type": "code",
   "execution_count": 94,
   "outputs": [],
   "source": [
    "txt_file = open(\"missing_tickers.txt\", \"w\")\n",
    "for ticker in error_list:\n",
    "    txt_file.write(ticker + '\\n')\n",
    "txt_file.close()"
   ],
   "metadata": {
    "collapsed": false,
    "pycharm": {
     "name": "#%%\n"
    }
   }
  },
  {
   "cell_type": "markdown",
   "source": [
    "<h2>Data Make Supervised, Split, and Train</h2>"
   ],
   "metadata": {
    "collapsed": false,
    "pycharm": {
     "name": "#%% md\n"
    }
   }
  },
  {
   "cell_type": "markdown",
   "source": [
    "<h3>Method 1: Previous Price</h3>"
   ],
   "metadata": {
    "collapsed": false,
    "pycharm": {
     "name": "#%% md\n"
    }
   }
  },
  {
   "cell_type": "code",
   "execution_count": 106,
   "outputs": [],
   "source": [
    "#from Baselines import train_previous_price\n",
    "#from Baselines import train_linear\n",
    "import Baselines"
   ],
   "metadata": {
    "collapsed": false,
    "pycharm": {
     "name": "#%%\n"
    }
   }
  },
  {
   "cell_type": "code",
   "execution_count": 107,
   "outputs": [
    {
     "name": "stdout",
     "output_type": "stream",
     "text": [
      "Ticker BEPI caused problem: With n_samples=1, test_size=0.2 and train_size=None, the resulting train set will be empty. Adjust any of the aforementioned parameters.\n",
      "For the previous price method, the average mse is 70112.71038019816, the average rmse is 8.663542113587901, and the average mape is 0.0613588215261758\n"
     ]
    }
   ],
   "source": [
    "from importlib import reload\n",
    "reload(Baselines)\n",
    "\n",
    "\n",
    "m1_mse, m1_rmse, m1_mape = Baselines.train_previous_price(data_dict)\n",
    "print(f'For the previous price method, the average mse is {m1_mse}, the average rmse is {m1_rmse}, and the average mape is {m1_mape}')"
   ],
   "metadata": {
    "collapsed": false,
    "pycharm": {
     "name": "#%%\n"
    }
   }
  },
  {
   "cell_type": "markdown",
   "source": [
    "<h3>Method 2: Linear Regression</h2>"
   ],
   "metadata": {
    "collapsed": false,
    "pycharm": {
     "name": "#%% md\n"
    }
   }
  },
  {
   "cell_type": "code",
   "execution_count": 108,
   "outputs": [
    {
     "name": "stdout",
     "output_type": "stream",
     "text": [
      "Iteration 100 completed\n",
      "Iteration 200 completed\n",
      "Iteration 300 completed\n",
      "Ticker BEPI caused problem: With n_samples=1, test_size=0.2 and train_size=None, the resulting train set will be empty. Adjust any of the aforementioned parameters.\n",
      "Iteration 400 completed\n",
      "Iteration 500 completed\n",
      "Iteration 600 completed\n",
      "Iteration 700 completed\n",
      "Iteration 800 completed\n",
      "Iteration 900 completed\n",
      "Iteration 1000 completed\n",
      "Iteration 1100 completed\n",
      "Iteration 1200 completed\n",
      "Iteration 1300 completed\n",
      "Iteration 1400 completed\n",
      "Iteration 1500 completed\n",
      "Iteration 1600 completed\n",
      "Iteration 1700 completed\n",
      "Iteration 1800 completed\n",
      "Iteration 1900 completed\n",
      "Iteration 2000 completed\n",
      "Iteration 2100 completed\n",
      "Iteration 2200 completed\n",
      "Iteration 2300 completed\n",
      "Iteration 2400 completed\n",
      "Iteration 2500 completed\n",
      "Iteration 2600 completed\n",
      "Iteration 2700 completed\n",
      "For the previous price method, the average mse is 119159160.6186169, the average rmse is 478.8064684628419, and the average mape is 112.18836453674298\n"
     ]
    }
   ],
   "source": [
    "reload(Baselines)\n",
    "m2_mse, m2_rmse, m2_mape = Baselines.train_linear(data_dict)\n",
    "print(f'For the previous price method, the average mse is {m2_mse}, the average rmse is {m2_rmse}, and the average mape is {m2_mape}')"
   ],
   "metadata": {
    "collapsed": false,
    "pycharm": {
     "name": "#%%\n"
    }
   }
  },
  {
   "cell_type": "code",
   "execution_count": 42,
   "outputs": [
    {
     "data": {
      "text/plain": "['THO', 'STAG']"
     },
     "execution_count": 42,
     "metadata": {},
     "output_type": "execute_result"
    }
   ],
   "source": [
    "list(data_dict.keys())[0:2]"
   ],
   "metadata": {
    "collapsed": false,
    "pycharm": {
     "name": "#%%\n"
    }
   }
  },
  {
   "cell_type": "code",
   "execution_count": 40,
   "outputs": [
    {
     "data": {
      "text/plain": "         Date  Open  High   Low  Close  Adj Close  Volume ticker   y\n0  2021-12-30  9.75   9.9  9.75    9.9        9.9    5900    APN NaN",
      "text/html": "<div>\n<style scoped>\n    .dataframe tbody tr th:only-of-type {\n        vertical-align: middle;\n    }\n\n    .dataframe tbody tr th {\n        vertical-align: top;\n    }\n\n    .dataframe thead th {\n        text-align: right;\n    }\n</style>\n<table border=\"1\" class=\"dataframe\">\n  <thead>\n    <tr style=\"text-align: right;\">\n      <th></th>\n      <th>Date</th>\n      <th>Open</th>\n      <th>High</th>\n      <th>Low</th>\n      <th>Close</th>\n      <th>Adj Close</th>\n      <th>Volume</th>\n      <th>ticker</th>\n      <th>y</th>\n    </tr>\n  </thead>\n  <tbody>\n    <tr>\n      <th>0</th>\n      <td>2021-12-30</td>\n      <td>9.75</td>\n      <td>9.9</td>\n      <td>9.75</td>\n      <td>9.9</td>\n      <td>9.9</td>\n      <td>5900</td>\n      <td>APN</td>\n      <td>NaN</td>\n    </tr>\n  </tbody>\n</table>\n</div>"
     },
     "execution_count": 40,
     "metadata": {},
     "output_type": "execute_result"
    }
   ],
   "source": [
    "data_dict['APN'].head()"
   ],
   "metadata": {
    "collapsed": false,
    "pycharm": {
     "name": "#%%\n"
    }
   }
  },
  {
   "cell_type": "markdown",
   "source": [
    "<h2>Data Split</h2>\n",
    "\n",
    "The split will be a 60/20/20"
   ],
   "metadata": {
    "collapsed": false,
    "pycharm": {
     "name": "#%% md\n"
    }
   }
  },
  {
   "cell_type": "code",
   "source": [
    "#Let us do train-test-split with AAPL stock from 207-01-01 to 2021-12-30\n",
    "master_dataset = get_master_dataset([\"AAPL\", \"GOOG\", \"FB\"])\n",
    "df_google = master_dataset[\"GOOG\"].copy(deep=True)\n",
    "df_facebook = master_dataset[\"FB\"].copy(deep=True)\n",
    "df_apple = master_dataset[\"AAPL\"].copy(deep=True)\n"
   ],
   "metadata": {
    "collapsed": false,
    "pycharm": {
     "name": "#%%\n"
    }
   },
   "execution_count": 31,
   "outputs": [
    {
     "name": "stdout",
     "output_type": "stream",
     "text": [
      "[*********************100%***********************]  3 of 3 completed\n"
     ]
    }
   ]
  },
  {
   "cell_type": "raw",
   "source": [],
   "metadata": {
    "collapsed": false,
    "pycharm": {
     "name": "#%% raw\n"
    }
   }
  },
  {
   "cell_type": "code",
   "execution_count": 54,
   "outputs": [
    {
     "name": "stdout",
     "output_type": "stream",
     "text": [
      "726\n"
     ]
    }
   ],
   "source": [
    "print(len(error_list))"
   ],
   "metadata": {
    "collapsed": false,
    "pycharm": {
     "name": "#%%\n"
    }
   }
  },
  {
   "cell_type": "code",
   "execution_count": 33,
   "outputs": [
    {
     "data": {
      "text/plain": "Open      0\nHigh      0\nLow       0\nClose     0\nVolume    0\ndtype: int64"
     },
     "execution_count": 33,
     "metadata": {},
     "output_type": "execute_result"
    }
   ],
   "source": [
    "df_apple.isna().sum()"
   ],
   "metadata": {
    "collapsed": false,
    "pycharm": {
     "name": "#%%\n"
    }
   }
  },
  {
   "cell_type": "code",
   "execution_count": 34,
   "outputs": [
    {
     "data": {
      "text/plain": "Open      1355\nHigh      1355\nLow       1355\nClose     1355\nVolume    1355\ndtype: int64"
     },
     "execution_count": 34,
     "metadata": {},
     "output_type": "execute_result"
    }
   ],
   "source": [
    "df_facebook.isna().sum()"
   ],
   "metadata": {
    "collapsed": false,
    "pycharm": {
     "name": "#%%\n"
    }
   }
  },
  {
   "cell_type": "code",
   "execution_count": 35,
   "outputs": [
    {
     "data": {
      "text/plain": "            Open  High  Low  Close  Volume\nDate                                      \n2007-01-03   NaN   NaN  NaN    NaN     NaN\n2007-01-04   NaN   NaN  NaN    NaN     NaN\n2007-01-05   NaN   NaN  NaN    NaN     NaN\n2007-01-08   NaN   NaN  NaN    NaN     NaN\n2007-01-09   NaN   NaN  NaN    NaN     NaN",
      "text/html": "<div>\n<style scoped>\n    .dataframe tbody tr th:only-of-type {\n        vertical-align: middle;\n    }\n\n    .dataframe tbody tr th {\n        vertical-align: top;\n    }\n\n    .dataframe thead th {\n        text-align: right;\n    }\n</style>\n<table border=\"1\" class=\"dataframe\">\n  <thead>\n    <tr style=\"text-align: right;\">\n      <th></th>\n      <th>Open</th>\n      <th>High</th>\n      <th>Low</th>\n      <th>Close</th>\n      <th>Volume</th>\n    </tr>\n    <tr>\n      <th>Date</th>\n      <th></th>\n      <th></th>\n      <th></th>\n      <th></th>\n      <th></th>\n    </tr>\n  </thead>\n  <tbody>\n    <tr>\n      <th>2007-01-03</th>\n      <td>NaN</td>\n      <td>NaN</td>\n      <td>NaN</td>\n      <td>NaN</td>\n      <td>NaN</td>\n    </tr>\n    <tr>\n      <th>2007-01-04</th>\n      <td>NaN</td>\n      <td>NaN</td>\n      <td>NaN</td>\n      <td>NaN</td>\n      <td>NaN</td>\n    </tr>\n    <tr>\n      <th>2007-01-05</th>\n      <td>NaN</td>\n      <td>NaN</td>\n      <td>NaN</td>\n      <td>NaN</td>\n      <td>NaN</td>\n    </tr>\n    <tr>\n      <th>2007-01-08</th>\n      <td>NaN</td>\n      <td>NaN</td>\n      <td>NaN</td>\n      <td>NaN</td>\n      <td>NaN</td>\n    </tr>\n    <tr>\n      <th>2007-01-09</th>\n      <td>NaN</td>\n      <td>NaN</td>\n      <td>NaN</td>\n      <td>NaN</td>\n      <td>NaN</td>\n    </tr>\n  </tbody>\n</table>\n</div>"
     },
     "execution_count": 35,
     "metadata": {},
     "output_type": "execute_result"
    }
   ],
   "source": [
    "df_facebook.head()"
   ],
   "metadata": {
    "collapsed": false,
    "pycharm": {
     "name": "#%%\n"
    }
   }
  },
  {
   "cell_type": "code",
   "execution_count": 36,
   "outputs": [],
   "source": [
    "df_facebook.dropna(axis=0, inplace=True, how='any')"
   ],
   "metadata": {
    "collapsed": false,
    "pycharm": {
     "name": "#%%\n"
    }
   }
  },
  {
   "cell_type": "markdown",
   "source": [
    "<h3>Turn datasets into supervised problem for prediction</h3>\n",
    "Want to predict one day in advance"
   ],
   "metadata": {
    "collapsed": false,
    "pycharm": {
     "name": "#%% md\n"
    }
   }
  },
  {
   "cell_type": "code",
   "execution_count": 94,
   "outputs": [],
   "source": [
    "df_facebook[\"y\"] = df_facebook[\"Close\"].shift(periods=1)\n",
    "df_google[\"y\"] = df_google[\"Close\"].shift(periods=1)\n",
    "df_apple[\"y\"] = df_apple[\"Close\"].shift(periods=1)\n",
    "df_facebook.dropna(inplace=True)\n",
    "df_google.dropna(inplace=True)\n",
    "df_apple.dropna(inplace=True)\n",
    "\n",
    "final_list:\n",
    "\n",
    "for ticker in ticker_list:\n",
    "    if ticker not in error_list:\n",
    "        final_list.append(ticker)\n",
    "\n",
    "\n",
    "\n"
   ],
   "metadata": {
    "collapsed": false,
    "pycharm": {
     "name": "#%%\n"
    }
   }
  },
  {
   "cell_type": "markdown",
   "source": [
    "<h3>Train Test Split</h3>"
   ],
   "metadata": {
    "collapsed": false,
    "pycharm": {
     "name": "#%% md\n"
    }
   }
  },
  {
   "cell_type": "markdown",
   "source": [],
   "metadata": {
    "collapsed": false
   }
  },
  {
   "cell_type": "code",
   "source": [
    "from sklearn.model_selection import train_test_split\n",
    "#Google first\n",
    "X = df_google.drop(\"y\", axis=1)\n",
    "y = df_google[\"y\"].copy(deep=True)\n",
    "X_train, X_test, y_train, y_test = train_test_split(X,y, test_size=0.3, random_state=42, shuffle=False)"
   ],
   "metadata": {
    "collapsed": false,
    "pycharm": {
     "name": "#%%\n"
    }
   },
   "execution_count": 95,
   "outputs": []
  },
  {
   "cell_type": "markdown",
   "source": [],
   "metadata": {
    "collapsed": false
   }
  },
  {
   "cell_type": "markdown",
   "source": [
    "<h3>Method 1: Previous Price</h3>\n"
   ],
   "metadata": {
    "collapsed": false,
    "pycharm": {
     "name": "#%% md\n"
    }
   }
  },
  {
   "cell_type": "code",
   "execution_count": 96,
   "outputs": [],
   "source": [
    "from sklearn.metrics import mean_squared_error, mean_absolute_percentage_error\n",
    "print(data)"
   ],
   "metadata": {
    "collapsed": false,
    "pycharm": {
     "name": "#%%\n"
    }
   }
  },
  {
   "cell_type": "markdown",
   "source": [],
   "metadata": {
    "collapsed": false
   }
  },
  {
   "cell_type": "markdown",
   "source": [],
   "metadata": {
    "collapsed": false
   }
  },
  {
   "cell_type": "code",
   "execution_count": 97,
   "outputs": [
    {
     "data": {
      "text/plain": "            Real Closing Price  Predicted Closing\nDate                                             \n2017-07-03          898.700012         908.729980\n2017-07-05          911.710022         898.700012\n2017-07-06          906.690002         911.710022\n2017-07-07          918.590027         906.690002\n2017-07-10          928.799988         918.590027",
      "text/html": "<div>\n<style scoped>\n    .dataframe tbody tr th:only-of-type {\n        vertical-align: middle;\n    }\n\n    .dataframe tbody tr th {\n        vertical-align: top;\n    }\n\n    .dataframe thead th {\n        text-align: right;\n    }\n</style>\n<table border=\"1\" class=\"dataframe\">\n  <thead>\n    <tr style=\"text-align: right;\">\n      <th></th>\n      <th>Real Closing Price</th>\n      <th>Predicted Closing</th>\n    </tr>\n    <tr>\n      <th>Date</th>\n      <th></th>\n      <th></th>\n    </tr>\n  </thead>\n  <tbody>\n    <tr>\n      <th>2017-07-03</th>\n      <td>898.700012</td>\n      <td>908.729980</td>\n    </tr>\n    <tr>\n      <th>2017-07-05</th>\n      <td>911.710022</td>\n      <td>898.700012</td>\n    </tr>\n    <tr>\n      <th>2017-07-06</th>\n      <td>906.690002</td>\n      <td>911.710022</td>\n    </tr>\n    <tr>\n      <th>2017-07-07</th>\n      <td>918.590027</td>\n      <td>906.690002</td>\n    </tr>\n    <tr>\n      <th>2017-07-10</th>\n      <td>928.799988</td>\n      <td>918.590027</td>\n    </tr>\n  </tbody>\n</table>\n</div>"
     },
     "execution_count": 97,
     "metadata": {},
     "output_type": "execute_result"
    }
   ],
   "source": [
    "results_df = pd.DataFrame({\"Real Closing Price\": X_test.Close, \"Predicted Closing\": y_test}).dropna()\n",
    "results_df.head()"
   ],
   "metadata": {
    "collapsed": false,
    "pycharm": {
     "name": "#%%\n"
    }
   }
  },
  {
   "cell_type": "code",
   "execution_count": 100,
   "outputs": [
    {
     "ename": "NameError",
     "evalue": "name 'mean_squared_error' is not defined",
     "output_type": "error",
     "traceback": [
      "\u001B[0;31m---------------------------------------------------------------------------\u001B[0m",
      "\u001B[0;31mNameError\u001B[0m                                 Traceback (most recent call last)",
      "Input \u001B[0;32mIn [100]\u001B[0m, in \u001B[0;36m<module>\u001B[0;34m\u001B[0m\n\u001B[0;32m----> 1\u001B[0m rmse \u001B[38;5;241m=\u001B[39m np\u001B[38;5;241m.\u001B[39msqrt(\u001B[43mmean_squared_error\u001B[49m(results_df[\u001B[38;5;124m\"\u001B[39m\u001B[38;5;124mReal Closing Price\u001B[39m\u001B[38;5;124m\"\u001B[39m], results_df[\u001B[38;5;124m\"\u001B[39m\u001B[38;5;124mPredicted Closing\u001B[39m\u001B[38;5;124m\"\u001B[39m]))\n\u001B[1;32m      2\u001B[0m mape \u001B[38;5;241m=\u001B[39m mean_absolute_percentage_error(results_df[\u001B[38;5;124m\"\u001B[39m\u001B[38;5;124mReal Closing Price\u001B[39m\u001B[38;5;124m\"\u001B[39m], results_df[\u001B[38;5;124m\"\u001B[39m\u001B[38;5;124mPredicted Closing\u001B[39m\u001B[38;5;124m\"\u001B[39m])\n\u001B[1;32m      3\u001B[0m \u001B[38;5;28mprint\u001B[39m(\u001B[38;5;124mf\u001B[39m\u001B[38;5;124m\"\u001B[39m\u001B[38;5;124mThe RMSE is \u001B[39m\u001B[38;5;132;01m{\u001B[39;00mrmse\u001B[38;5;132;01m}\u001B[39;00m\u001B[38;5;124m and mape is \u001B[39m\u001B[38;5;132;01m{\u001B[39;00mmape\u001B[38;5;132;01m}\u001B[39;00m\u001B[38;5;124m\"\u001B[39m)\n",
      "\u001B[0;31mNameError\u001B[0m: name 'mean_squared_error' is not defined"
     ]
    }
   ],
   "source": [
    "rmse = np.sqrt(mean_squared_error(results_df[\"Real Closing Price\"], results_df[\"Predicted Closing\"]))\n",
    "mape = mean_absolute_percentage_error(results_df[\"Real Closing Price\"], results_df[\"Predicted Closing\"])\n",
    "print(f\"The RMSE is {rmse} and mape is {mape}\")"
   ],
   "metadata": {
    "collapsed": false,
    "pycharm": {
     "name": "#%%\n"
    }
   }
  },
  {
   "cell_type": "markdown",
   "source": [
    "<h3>Method 2: OLS</h2>"
   ],
   "metadata": {
    "collapsed": false,
    "pycharm": {
     "name": "#%% md\n"
    }
   }
  },
  {
   "cell_type": "code",
   "execution_count": 47,
   "outputs": [
    {
     "data": {
      "text/plain": "2718"
     },
     "execution_count": 47,
     "metadata": {},
     "output_type": "execute_result"
    }
   ],
   "source": [
    "len(data_dict.keys())"
   ],
   "metadata": {
    "collapsed": false,
    "pycharm": {
     "name": "#%%\n"
    }
   }
  },
  {
   "cell_type": "code",
   "execution_count": 99,
   "outputs": [
    {
     "name": "stdout",
     "output_type": "stream",
     "text": [
      "The RMSE is 16.335945583152032 and mape is 0.006567597371992344\n"
     ]
    }
   ],
   "source": [
    "from sklearn.linear_model import LinearRegression\n",
    "ols = LinearRegression(n_jobs=4)\n",
    "ols.fit(X_train, y_train)\n",
    "predictions = ols.predict(X_test)\n",
    "\n",
    "rmse = np.sqrt(mean_squared_error(y_test, predictions))\n",
    "mape = mean_absolute_percentage_error(y_test, predictions)\n",
    "print(f\"The RMSE is {rmse} and mape is {mape}\")"
   ],
   "metadata": {
    "collapsed": false,
    "pycharm": {
     "name": "#%%\n"
    }
   }
  },
  {
   "cell_type": "code",
   "execution_count": 88,
   "outputs": [
    {
     "data": {
      "text/plain": "                  Open        High         Low       Close    Volume\nDate                                                                \n2007-01-03  232.129913  237.440018  229.694046  232.921951  15470772\n2007-01-04  233.624313  241.071411  233.300537  240.727692  15834329\n2007-01-05  240.349106  242.839783  238.162308  242.685349  13795717\n2007-01-08  242.934418  244.020355  240.199677  240.887100   9544441\n2007-01-09  241.818604  243.213379  239.701538  241.843506  10803142",
      "text/html": "<div>\n<style scoped>\n    .dataframe tbody tr th:only-of-type {\n        vertical-align: middle;\n    }\n\n    .dataframe tbody tr th {\n        vertical-align: top;\n    }\n\n    .dataframe thead th {\n        text-align: right;\n    }\n</style>\n<table border=\"1\" class=\"dataframe\">\n  <thead>\n    <tr style=\"text-align: right;\">\n      <th></th>\n      <th>Open</th>\n      <th>High</th>\n      <th>Low</th>\n      <th>Close</th>\n      <th>Volume</th>\n    </tr>\n    <tr>\n      <th>Date</th>\n      <th></th>\n      <th></th>\n      <th></th>\n      <th></th>\n      <th></th>\n    </tr>\n  </thead>\n  <tbody>\n    <tr>\n      <th>2007-01-03</th>\n      <td>232.129913</td>\n      <td>237.440018</td>\n      <td>229.694046</td>\n      <td>232.921951</td>\n      <td>15470772</td>\n    </tr>\n    <tr>\n      <th>2007-01-04</th>\n      <td>233.624313</td>\n      <td>241.071411</td>\n      <td>233.300537</td>\n      <td>240.727692</td>\n      <td>15834329</td>\n    </tr>\n    <tr>\n      <th>2007-01-05</th>\n      <td>240.349106</td>\n      <td>242.839783</td>\n      <td>238.162308</td>\n      <td>242.685349</td>\n      <td>13795717</td>\n    </tr>\n    <tr>\n      <th>2007-01-08</th>\n      <td>242.934418</td>\n      <td>244.020355</td>\n      <td>240.199677</td>\n      <td>240.887100</td>\n      <td>9544441</td>\n    </tr>\n    <tr>\n      <th>2007-01-09</th>\n      <td>241.818604</td>\n      <td>243.213379</td>\n      <td>239.701538</td>\n      <td>241.843506</td>\n      <td>10803142</td>\n    </tr>\n  </tbody>\n</table>\n</div>"
     },
     "execution_count": 88,
     "metadata": {},
     "output_type": "execute_result"
    }
   ],
   "source": [
    "X_train.head()"
   ],
   "metadata": {
    "collapsed": false,
    "pycharm": {
     "name": "#%%\n"
    }
   }
  },
  {
   "cell_type": "markdown",
   "source": [
    "<h3>Method 3: Gradient Boosted Trees</h3>"
   ],
   "metadata": {
    "collapsed": false,
    "pycharm": {
     "name": "#%% md\n"
    }
   }
  },
  {
   "cell_type": "code",
   "execution_count": 102,
   "outputs": [
    {
     "name": "stdout",
     "output_type": "stream",
     "text": [
      "The RMSE is 787.8265283590737 and mape is 0.2704109081310963\n"
     ]
    },
    {
     "name": "stderr",
     "output_type": "stream",
     "text": [
      "/home/kagema/anaconda3/envs/csc492_v2/lib/python3.9/site-packages/xgboost/data.py:250: FutureWarning: pandas.Int64Index is deprecated and will be removed from pandas in a future version. Use pandas.Index with the appropriate dtype instead.\n",
      "  elif isinstance(data.columns, (pd.Int64Index, pd.RangeIndex)):\n"
     ]
    }
   ],
   "source": [
    "from xgboost import XGBRegressor\n",
    "xgb = XGBRegressor()\n",
    "xgb.fit(X_train, np.ravel(y_train))\n",
    "predictions = xgb.predict(X_test)\n",
    "\n",
    "rmse = np.sqrt(mean_squared_error(y_test, predictions))\n",
    "mape = mean_absolute_percentage_error(y_test, predictions)\n",
    "print(f\"The RMSE is {rmse} and mape is {mape}\")"
   ],
   "metadata": {
    "collapsed": false,
    "pycharm": {
     "name": "#%%\n"
    }
   }
  },
  {
   "cell_type": "markdown",
   "source": [
    "Clearly the abode didn't work out, lets try with a random forest grid search"
   ],
   "metadata": {
    "collapsed": false,
    "pycharm": {
     "name": "#%% md\n"
    }
   }
  },
  {
   "cell_type": "code",
   "execution_count": 112,
   "outputs": [
    {
     "name": "stdout",
     "output_type": "stream",
     "text": [
      "Fitting 5 folds for each of 18 candidates, totalling 90 fits\n",
      "[CV 1/5] END bootstrap=True, max_depth=5, max_features=auto, n_estimators=100;, score=-8.432 total time=   0.3s\n",
      "[CV 2/5] END bootstrap=True, max_depth=5, max_features=auto, n_estimators=100;, score=-5.561 total time=   0.3s\n",
      "[CV 3/5] END bootstrap=True, max_depth=5, max_features=auto, n_estimators=100;, score=-7.084 total time=   0.3s\n",
      "[CV 4/5] END bootstrap=True, max_depth=5, max_features=auto, n_estimators=100;, score=-21.255 total time=   0.3s\n",
      "[CV 5/5] END bootstrap=True, max_depth=5, max_features=auto, n_estimators=100;, score=-172.943 total time=   0.3s\n",
      "[CV 1/5] END bootstrap=True, max_depth=5, max_features=auto, n_estimators=200;, score=-8.411 total time=   0.5s\n",
      "[CV 2/5] END bootstrap=True, max_depth=5, max_features=auto, n_estimators=200;, score=-5.577 total time=   0.5s\n",
      "[CV 3/5] END bootstrap=True, max_depth=5, max_features=auto, n_estimators=200;, score=-7.134 total time=   0.5s\n",
      "[CV 4/5] END bootstrap=True, max_depth=5, max_features=auto, n_estimators=200;, score=-21.326 total time=   0.5s\n",
      "[CV 5/5] END bootstrap=True, max_depth=5, max_features=auto, n_estimators=200;, score=-173.010 total time=   0.5s\n",
      "[CV 1/5] END bootstrap=True, max_depth=5, max_features=auto, n_estimators=300;, score=-8.412 total time=   0.7s\n",
      "[CV 2/5] END bootstrap=True, max_depth=5, max_features=auto, n_estimators=300;, score=-5.503 total time=   0.7s\n",
      "[CV 3/5] END bootstrap=True, max_depth=5, max_features=auto, n_estimators=300;, score=-7.137 total time=   0.7s\n",
      "[CV 4/5] END bootstrap=True, max_depth=5, max_features=auto, n_estimators=300;, score=-21.335 total time=   0.7s\n",
      "[CV 5/5] END bootstrap=True, max_depth=5, max_features=auto, n_estimators=300;, score=-173.162 total time=   0.7s\n",
      "[CV 1/5] END bootstrap=True, max_depth=8, max_features=auto, n_estimators=100;, score=-4.360 total time=   0.3s\n",
      "[CV 2/5] END bootstrap=True, max_depth=8, max_features=auto, n_estimators=100;, score=-2.736 total time=   0.3s\n",
      "[CV 3/5] END bootstrap=True, max_depth=8, max_features=auto, n_estimators=100;, score=-4.601 total time=   0.4s\n",
      "[CV 4/5] END bootstrap=True, max_depth=8, max_features=auto, n_estimators=100;, score=-14.769 total time=   0.4s\n",
      "[CV 5/5] END bootstrap=True, max_depth=8, max_features=auto, n_estimators=100;, score=-167.767 total time=   0.3s\n",
      "[CV 1/5] END bootstrap=True, max_depth=8, max_features=auto, n_estimators=200;, score=-4.362 total time=   0.7s\n",
      "[CV 2/5] END bootstrap=True, max_depth=8, max_features=auto, n_estimators=200;, score=-2.721 total time=   0.7s\n",
      "[CV 3/5] END bootstrap=True, max_depth=8, max_features=auto, n_estimators=200;, score=-4.510 total time=   0.7s\n",
      "[CV 4/5] END bootstrap=True, max_depth=8, max_features=auto, n_estimators=200;, score=-14.619 total time=   0.7s\n",
      "[CV 5/5] END bootstrap=True, max_depth=8, max_features=auto, n_estimators=200;, score=-167.763 total time=   0.7s\n",
      "[CV 1/5] END bootstrap=True, max_depth=8, max_features=auto, n_estimators=300;, score=-4.358 total time=   1.0s\n",
      "[CV 2/5] END bootstrap=True, max_depth=8, max_features=auto, n_estimators=300;, score=-2.700 total time=   1.0s\n",
      "[CV 3/5] END bootstrap=True, max_depth=8, max_features=auto, n_estimators=300;, score=-4.482 total time=   1.0s\n",
      "[CV 4/5] END bootstrap=True, max_depth=8, max_features=auto, n_estimators=300;, score=-14.584 total time=   1.0s\n",
      "[CV 5/5] END bootstrap=True, max_depth=8, max_features=auto, n_estimators=300;, score=-167.788 total time=   1.0s\n",
      "[CV 1/5] END bootstrap=True, max_depth=None, max_features=auto, n_estimators=100;, score=-4.405 total time=   0.4s\n",
      "[CV 2/5] END bootstrap=True, max_depth=None, max_features=auto, n_estimators=100;, score=-2.688 total time=   0.4s\n",
      "[CV 3/5] END bootstrap=True, max_depth=None, max_features=auto, n_estimators=100;, score=-4.750 total time=   0.4s\n",
      "[CV 4/5] END bootstrap=True, max_depth=None, max_features=auto, n_estimators=100;, score=-14.711 total time=   0.4s\n",
      "[CV 5/5] END bootstrap=True, max_depth=None, max_features=auto, n_estimators=100;, score=-167.826 total time=   0.4s\n",
      "[CV 1/5] END bootstrap=True, max_depth=None, max_features=auto, n_estimators=200;, score=-4.407 total time=   0.9s\n",
      "[CV 2/5] END bootstrap=True, max_depth=None, max_features=auto, n_estimators=200;, score=-2.663 total time=   0.9s\n",
      "[CV 3/5] END bootstrap=True, max_depth=None, max_features=auto, n_estimators=200;, score=-4.576 total time=   0.9s\n",
      "[CV 4/5] END bootstrap=True, max_depth=None, max_features=auto, n_estimators=200;, score=-14.611 total time=   0.9s\n",
      "[CV 5/5] END bootstrap=True, max_depth=None, max_features=auto, n_estimators=200;, score=-167.793 total time=   0.9s\n",
      "[CV 1/5] END bootstrap=True, max_depth=None, max_features=auto, n_estimators=300;, score=-4.399 total time=   1.3s\n",
      "[CV 2/5] END bootstrap=True, max_depth=None, max_features=auto, n_estimators=300;, score=-2.643 total time=   1.3s\n",
      "[CV 3/5] END bootstrap=True, max_depth=None, max_features=auto, n_estimators=300;, score=-4.537 total time=   1.4s\n",
      "[CV 4/5] END bootstrap=True, max_depth=None, max_features=auto, n_estimators=300;, score=-14.560 total time=   1.4s\n",
      "[CV 5/5] END bootstrap=True, max_depth=None, max_features=auto, n_estimators=300;, score=-167.808 total time=   1.4s\n",
      "[CV 1/5] END bootstrap=False, max_depth=5, max_features=auto, n_estimators=100;, score=-9.805 total time=   0.4s\n",
      "[CV 2/5] END bootstrap=False, max_depth=5, max_features=auto, n_estimators=100;, score=-7.693 total time=   0.3s\n",
      "[CV 3/5] END bootstrap=False, max_depth=5, max_features=auto, n_estimators=100;, score=-8.745 total time=   0.4s\n",
      "[CV 4/5] END bootstrap=False, max_depth=5, max_features=auto, n_estimators=100;, score=-22.428 total time=   0.4s\n",
      "[CV 5/5] END bootstrap=False, max_depth=5, max_features=auto, n_estimators=100;, score=-172.582 total time=   0.4s\n",
      "[CV 1/5] END bootstrap=False, max_depth=5, max_features=auto, n_estimators=200;, score=-9.809 total time=   0.7s\n",
      "[CV 2/5] END bootstrap=False, max_depth=5, max_features=auto, n_estimators=200;, score=-7.693 total time=   0.7s\n",
      "[CV 3/5] END bootstrap=False, max_depth=5, max_features=auto, n_estimators=200;, score=-8.740 total time=   0.7s\n",
      "[CV 4/5] END bootstrap=False, max_depth=5, max_features=auto, n_estimators=200;, score=-22.475 total time=   0.7s\n",
      "[CV 5/5] END bootstrap=False, max_depth=5, max_features=auto, n_estimators=200;, score=-172.582 total time=   0.7s\n",
      "[CV 1/5] END bootstrap=False, max_depth=5, max_features=auto, n_estimators=300;, score=-9.809 total time=   1.0s\n",
      "[CV 2/5] END bootstrap=False, max_depth=5, max_features=auto, n_estimators=300;, score=-7.693 total time=   1.0s\n",
      "[CV 3/5] END bootstrap=False, max_depth=5, max_features=auto, n_estimators=300;, score=-8.740 total time=   1.1s\n",
      "[CV 4/5] END bootstrap=False, max_depth=5, max_features=auto, n_estimators=300;, score=-22.490 total time=   1.0s\n",
      "[CV 5/5] END bootstrap=False, max_depth=5, max_features=auto, n_estimators=300;, score=-172.582 total time=   1.0s\n",
      "[CV 1/5] END bootstrap=False, max_depth=8, max_features=auto, n_estimators=100;, score=-4.962 total time=   0.5s\n",
      "[CV 2/5] END bootstrap=False, max_depth=8, max_features=auto, n_estimators=100;, score=-3.288 total time=   0.5s\n",
      "[CV 3/5] END bootstrap=False, max_depth=8, max_features=auto, n_estimators=100;, score=-4.631 total time=   0.5s\n",
      "[CV 4/5] END bootstrap=False, max_depth=8, max_features=auto, n_estimators=100;, score=-14.844 total time=   0.5s\n",
      "[CV 5/5] END bootstrap=False, max_depth=8, max_features=auto, n_estimators=100;, score=-167.454 total time=   0.5s\n",
      "[CV 1/5] END bootstrap=False, max_depth=8, max_features=auto, n_estimators=200;, score=-4.961 total time=   1.0s\n",
      "[CV 2/5] END bootstrap=False, max_depth=8, max_features=auto, n_estimators=200;, score=-3.286 total time=   1.0s\n",
      "[CV 3/5] END bootstrap=False, max_depth=8, max_features=auto, n_estimators=200;, score=-4.623 total time=   1.0s\n",
      "[CV 4/5] END bootstrap=False, max_depth=8, max_features=auto, n_estimators=200;, score=-14.860 total time=   1.0s\n",
      "[CV 5/5] END bootstrap=False, max_depth=8, max_features=auto, n_estimators=200;, score=-167.454 total time=   1.0s\n",
      "[CV 1/5] END bootstrap=False, max_depth=8, max_features=auto, n_estimators=300;, score=-4.965 total time=   1.5s\n",
      "[CV 2/5] END bootstrap=False, max_depth=8, max_features=auto, n_estimators=300;, score=-3.285 total time=   1.4s\n",
      "[CV 3/5] END bootstrap=False, max_depth=8, max_features=auto, n_estimators=300;, score=-4.639 total time=   1.4s\n",
      "[CV 4/5] END bootstrap=False, max_depth=8, max_features=auto, n_estimators=300;, score=-14.855 total time=   1.4s\n",
      "[CV 5/5] END bootstrap=False, max_depth=8, max_features=auto, n_estimators=300;, score=-167.454 total time=   1.4s\n",
      "[CV 1/5] END bootstrap=False, max_depth=None, max_features=auto, n_estimators=100;, score=-5.324 total time=   0.7s\n",
      "[CV 2/5] END bootstrap=False, max_depth=None, max_features=auto, n_estimators=100;, score=-3.182 total time=   0.7s\n",
      "[CV 3/5] END bootstrap=False, max_depth=None, max_features=auto, n_estimators=100;, score=-4.699 total time=   0.7s\n",
      "[CV 4/5] END bootstrap=False, max_depth=None, max_features=auto, n_estimators=100;, score=-14.154 total time=   0.7s\n",
      "[CV 5/5] END bootstrap=False, max_depth=None, max_features=auto, n_estimators=100;, score=-167.959 total time=   0.7s\n",
      "[CV 1/5] END bootstrap=False, max_depth=None, max_features=auto, n_estimators=200;, score=-5.326 total time=   1.4s\n",
      "[CV 2/5] END bootstrap=False, max_depth=None, max_features=auto, n_estimators=200;, score=-3.181 total time=   1.4s\n",
      "[CV 3/5] END bootstrap=False, max_depth=None, max_features=auto, n_estimators=200;, score=-4.628 total time=   1.4s\n",
      "[CV 4/5] END bootstrap=False, max_depth=None, max_features=auto, n_estimators=200;, score=-14.169 total time=   1.4s\n",
      "[CV 5/5] END bootstrap=False, max_depth=None, max_features=auto, n_estimators=200;, score=-167.959 total time=   1.4s\n",
      "[CV 1/5] END bootstrap=False, max_depth=None, max_features=auto, n_estimators=300;, score=-5.322 total time=   2.1s\n",
      "[CV 2/5] END bootstrap=False, max_depth=None, max_features=auto, n_estimators=300;, score=-3.183 total time=   2.0s\n",
      "[CV 3/5] END bootstrap=False, max_depth=None, max_features=auto, n_estimators=300;, score=-4.621 total time=   2.1s\n",
      "[CV 4/5] END bootstrap=False, max_depth=None, max_features=auto, n_estimators=300;, score=-14.159 total time=   2.1s\n",
      "[CV 5/5] END bootstrap=False, max_depth=None, max_features=auto, n_estimators=300;, score=-167.959 total time=   2.1s\n"
     ]
    }
   ],
   "source": [
    "from sklearn.ensemble import RandomForestRegressor\n",
    "from sklearn.model_selection import GridSearchCV\n",
    "random_forest = RandomForestRegressor(random_state=54) #random_state is so we can reproduce results\n",
    "\n",
    "parameters = {'n_estimators': [100,200, 300],\n",
    "              'max_depth':[5, 8, None],\n",
    "              #'min_samples': [5, 10, 25, 50],\n",
    "              'max_features': ['auto'],\n",
    "              'bootstrap': [True, False]}\n",
    "model_cv_rf = GridSearchCV(estimator=random_forest, param_grid=parameters,\n",
    "                            scoring = 'neg_root_mean_squared_error',\n",
    "                            verbose=4,\n",
    "                            return_train_score=False,\n",
    "                            refit=True)\n",
    "\n",
    "model_cv_rf.fit(X_train, np.ravel(y_train))\n",
    "predictions = model_cv_rf.predict(X_test)"
   ],
   "metadata": {
    "collapsed": false,
    "pycharm": {
     "name": "#%%\n"
    }
   }
  },
  {
   "cell_type": "code",
   "execution_count": 113,
   "outputs": [
    {
     "name": "stdout",
     "output_type": "stream",
     "text": [
      "The RMSE is 789.4014241155999 and mape is 0.27179167893829853\n"
     ]
    }
   ],
   "source": [
    "rmse = np.sqrt(mean_squared_error(y_test, predictions))\n",
    "mape = mean_absolute_percentage_error(y_test, predictions)\n",
    "print(f\"The RMSE is {rmse} and mape is {mape}\")"
   ],
   "metadata": {
    "collapsed": false,
    "pycharm": {
     "name": "#%%\n"
    }
   }
  },
  {
   "cell_type": "markdown",
   "source": [
    "<h2>Data Cleaning</h2>\n",
    "\n",
    "In previous papers researched, the vast majority of them never train on all stocks. Papers either subjectively train on a single stock, or train on stocks from indices such as the S&P 500 or the Dow Jones. The reason papers choose to trian on stocks form these indices is that those stocks will meet more stringent conditiosn that may make them ideal for machine learning. Therefore, to a method we employ to filter out stocks is to filter out stocks with....\n",
    "\n",
    "Existing papers either:\n",
    "1. Frame problem as a multi-stock prediction by only utilizing closing price of mulitple stocks appended together\n",
    "2. Use some initial model (like CNN) to choose stock to train\n",
    "\n",
    "Furthermore, so that we have enough data let us only train on stocks that have at least 3 years worth of stock data\n",
    "\n",
    "There are a couple things that we will try when building a neural network model for prediction\n",
    "1. Predicting on only a single stock OHLC\n",
    "2. Predicting on only the closing price of a single stock\n",
    "3. Predicting on the OHLC of multiple stocks (ohlc of each stock concatenated with each other) and backpropagatino on only the closing prices of those stocks\n",
    "    - will have to make sure that those stocks exist on those time frames\n",
    "4. Predicting on the Closing price of multiple stocks, with closing price appended together\n",
    "    - only predict where data exists\n",
    "    -\n",
    "Note that volatility is important to building an effective model. Therefore:\n",
    "- let us remove the stocks in the datset that have a volume of 0\n",
    "- let us remove stocks that have nver had an RSI above 70 or below 300, as this means the stock has never been overbought or oversold, and therefore likely not had any strong volatility\n",
    "\n",
    "\n",
    "For data report\n",
    "- stock prices are divident adjusted\n",
    "- we treat missing values by filling with the values from the previous day"
   ],
   "metadata": {
    "collapsed": false
   }
  },
  {
   "cell_type": "code",
   "execution_count": null,
   "outputs": [],
   "source": [],
   "metadata": {
    "collapsed": false,
    "pycharm": {
     "name": "#%%\n"
    }
   }
  }
 ],
 "metadata": {
  "kernelspec": {
   "display_name": "Python 3",
   "language": "python",
   "name": "python3"
  },
  "language_info": {
   "codemirror_mode": {
    "name": "ipython",
    "version": 2
   },
   "file_extension": ".py",
   "mimetype": "text/x-python",
   "name": "python",
   "nbconvert_exporter": "python",
   "pygments_lexer": "ipython2",
   "version": "2.7.6"
  }
 },
 "nbformat": 4,
 "nbformat_minor": 0
}