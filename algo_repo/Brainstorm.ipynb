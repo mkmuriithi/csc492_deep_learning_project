{
 "cells": [
  {
   "cell_type": "markdown",
   "source": [
    "<h1>BrainStorm[ing] Work</h1>\n",
    "\n",
    "This notebook contains code for testing out concepts, from data pulling and normalizatino to building baselines models. The final results of things tested in this notebook will be contained in .py files"
   ],
   "metadata": {
    "collapsed": false,
    "pycharm": {
     "name": "#%% md\n"
    }
   }
  },
  {
   "cell_type": "markdown",
   "source": [],
   "metadata": {
    "collapsed": false
   }
  },
  {
   "cell_type": "code",
   "execution_count": 39,
   "outputs": [],
   "source": [
    "import numpy as np\n",
    "import torch\n",
    "from torch.utils.data import Dataset\n",
    "import yfinance as yf\n",
    "import os\n",
    "from torch import nn\n",
    "import numpy as np\n",
    "import pandas as pd\n",
    "import matplotlib.pyplot as plt\n",
    "from torch.utils.data import DataLoader\n",
    "from torchvision import datasets\n",
    "from torchvision.transforms import ToTensor\n",
    "from importlib import reload\n",
    "import utils\n",
    "pd.set_option('display.max_columns', None)"
   ],
   "metadata": {
    "collapsed": false,
    "pycharm": {
     "name": "#%%\n"
    }
   }
  },
  {
   "cell_type": "markdown",
   "source": [
    "<h2>Data</h2>\n",
    "\n",
    "Data pulled will be 2756 stocks from the NYSE exchange, from 2007-01-01 to 2021-12-31 (15 years of data). Final pool will be 2718 stocks.\n",
    "&nbsp;\n",
    "&nbsp;\n",
    "<h3>Get Tickers List</h3>\n",
    "<p>\n",
    "For this new method we will download all the tickers available in the NYSE via the NASDAQ website, which offers a screener for NYSE stocks. This gives us a list of NYSE stocks and their current price and information, from which we can extract the results. At the time of this writing <b>3180</b> stocks were returned by the screener\n",
    "</p>"
   ],
   "metadata": {
    "collapsed": false,
    "pycharm": {
     "name": "#%% md\n"
    }
   }
  },
  {
   "cell_type": "code",
   "execution_count": 63,
   "outputs": [],
   "source": [
    "data_path = \"nasdaq_screener_1646792889970.csv\"\n",
    "api_key = 'dbb9d20d6afbdb0075d1d9d9d492c6bb'\n",
    "\n",
    "df = pd.read_csv(data_path)\n",
    "symbols_list = df[\"Symbol\"].tolist()"
   ],
   "metadata": {
    "collapsed": false,
    "pycharm": {
     "name": "#%%\n"
    }
   }
  },
  {
   "cell_type": "markdown",
   "source": [
    "<h3>Data Pulling</h3>"
   ],
   "metadata": {
    "collapsed": false,
    "pycharm": {
     "name": "#%% md\n"
    }
   }
  },
  {
   "cell_type": "code",
   "execution_count": 62,
   "outputs": [
    {
     "name": "stdout",
     "output_type": "stream",
     "text": [
      "new shit is working\n",
      "good\n"
     ]
    },
    {
     "data": {
      "text/plain": "             open   high     low    close     volume    change  changePercent  \\\ndate                                                                            \n2012-05-18  43.00  45.00  38.000  39.5828  593507942  0.000000         0.0000   \n2012-05-21  37.61  37.81  33.000  35.2000  170218597 -4.268244        -0.1118   \n2012-05-22  33.47  34.74  31.060  32.0000  105267545 -3.142458        -0.0930   \n2012-05-23  32.10  33.10  32.100  33.0000   75817640  1.000000         0.0330   \n2012-05-24  33.44  34.51  32.030  34.5100   50279282  1.050986         0.0329   \n2012-05-25  33.92  34.11  31.910  32.6800   37196339 -1.127757        -0.0352   \n2012-05-29  32.27  32.97  28.650  29.1800   80361912 -3.132592        -0.0984   \n2012-05-30  30.10  30.55  28.510  29.2300   57456957 -0.655904        -0.0228   \n2012-05-31  29.93  30.53  27.370  29.8000  115521783  1.451724         0.0500   \n2012-06-01  29.18  29.94  27.480  29.0000   42922987 -1.950911        -0.0636   \n2012-06-04  27.90  28.65  26.660  27.0000   36791174 -0.823377        -0.0310   \n2012-06-05  27.60  29.14  26.262  26.2620   42555638 -1.035256        -0.0391   \n2012-06-06  26.07  28.15  26.070  28.1500   62242858  0.956096         0.0366   \n2012-06-07  27.00  27.78  26.500  27.2400   26930509 -0.500000        -0.0188   \n2012-06-08  27.59  28.09  26.830  27.4000   39651631  0.823132         0.0300   \n2012-06-11  27.51  28.26  27.233  27.2330   29406207 -0.097181        -0.0035   \n2012-06-12  28.30  28.30  27.920  28.2000   15930389  0.412107         0.0153   \n2012-06-13  28.37  28.40  27.780  27.7800   17631008 -0.133573        -0.0049   \n2012-06-14  28.93  29.19  27.490  29.0500   17604212  1.054301         0.0392   \n2012-06-15  29.70  31.50  28.810  30.3630   44701875  1.750094         0.0621   \n\n            uOpen   uClose  uHigh    uLow    uVolume  fullOpen  fullClose  \\\ndate                                                                        \n2012-05-18  44.00  39.8028  46.00  39.000  604823580     43.00    39.2235   \n2012-05-21  37.08  34.4200  36.94  33.000  172820253     37.97    35.0100   \n2012-05-22  32.84  31.0000  34.50  31.640  103427207     32.81    32.0000   \n2012-05-23  32.53  33.0000  33.30  31.930   74841427     32.05    33.0000   \n2012-05-24  34.07  33.0900  34.08  32.540   51120662     34.42    33.3200   \n2012-05-25  33.97  33.4100  33.53  31.670   38068782     34.08    33.1200   \n2012-05-29  32.11  29.4000  32.72  29.750   78559140     31.71    29.0100   \n2012-05-30  28.90  29.4800  30.07  28.320   57346026     30.00    29.5600   \n2012-05-31  29.05  30.6000  30.05  27.170  117148679     28.97    30.9000   \n2012-06-01  30.23  28.7700  29.16  28.210   42299177     29.41    28.0800   \n2012-06-04  27.30  27.4000  28.69  27.520   36208633     27.80    27.1000   \n2012-06-05  27.00  27.0850  27.84  25.810   43584290     27.30    26.6220   \n2012-06-06  26.55  26.9900  27.42  26.770   63828236     26.94    27.5400   \n2012-06-07  28.00  27.4700  27.89  26.830   26950454     28.00    27.2700   \n2012-06-08  27.07  27.5000  28.14  26.950   39835235     26.76    27.8000   \n2012-06-11  27.82  27.6830  28.97  28.041   29423607     27.51    27.7770   \n2012-06-12  28.57  28.3000  27.79  27.340   16098414     28.31    28.1000   \n2012-06-13  28.30  28.3700  28.20  27.600   17823752     27.92    28.4800   \n2012-06-14  28.83  29.5500  28.59  27.980   16925556     27.92    28.5000   \n2012-06-15  29.80  30.9220  30.70  29.190   45118694     28.60    30.7940   \n\n            fullHigh  fullLow  fullVolume  \ndate                                       \n2012-05-18     47.00    39.00   596502768  \n2012-05-21     37.23    34.00   175913329  \n2012-05-22     34.25    31.35   106267034  \n2012-05-23     33.50    31.85    74082797  \n2012-05-24     33.62    33.26    52279322  \n2012-05-25     32.98    32.17    38402572  \n2012-05-29     33.04    29.87    81900387  \n2012-05-30     30.41    28.59    59119628  \n2012-05-31     30.68    27.74   112158056  \n2012-06-01     30.41    27.98    43797138  \n2012-06-04     28.61    27.41    35754185  \n2012-06-05     29.14    26.23    42722527  \n2012-06-06     27.47    25.99    62056650  \n2012-06-07     27.43    26.67    27325771  \n2012-06-08     28.41    26.75    39803055  \n2012-06-11     28.87    26.90    29205734  \n2012-06-12     27.87    27.21    16177583  \n2012-06-13     29.00    28.20    17360176  \n2012-06-14     29.66    28.24    17046019  \n2012-06-15     30.80    28.44    44188040  ",
      "text/html": "<div>\n<style scoped>\n    .dataframe tbody tr th:only-of-type {\n        vertical-align: middle;\n    }\n\n    .dataframe tbody tr th {\n        vertical-align: top;\n    }\n\n    .dataframe thead th {\n        text-align: right;\n    }\n</style>\n<table border=\"1\" class=\"dataframe\">\n  <thead>\n    <tr style=\"text-align: right;\">\n      <th></th>\n      <th>open</th>\n      <th>high</th>\n      <th>low</th>\n      <th>close</th>\n      <th>volume</th>\n      <th>change</th>\n      <th>changePercent</th>\n      <th>uOpen</th>\n      <th>uClose</th>\n      <th>uHigh</th>\n      <th>uLow</th>\n      <th>uVolume</th>\n      <th>fullOpen</th>\n      <th>fullClose</th>\n      <th>fullHigh</th>\n      <th>fullLow</th>\n      <th>fullVolume</th>\n    </tr>\n    <tr>\n      <th>date</th>\n      <th></th>\n      <th></th>\n      <th></th>\n      <th></th>\n      <th></th>\n      <th></th>\n      <th></th>\n      <th></th>\n      <th></th>\n      <th></th>\n      <th></th>\n      <th></th>\n      <th></th>\n      <th></th>\n      <th></th>\n      <th></th>\n      <th></th>\n    </tr>\n  </thead>\n  <tbody>\n    <tr>\n      <th>2012-05-18</th>\n      <td>43.00</td>\n      <td>45.00</td>\n      <td>38.000</td>\n      <td>39.5828</td>\n      <td>593507942</td>\n      <td>0.000000</td>\n      <td>0.0000</td>\n      <td>44.00</td>\n      <td>39.8028</td>\n      <td>46.00</td>\n      <td>39.000</td>\n      <td>604823580</td>\n      <td>43.00</td>\n      <td>39.2235</td>\n      <td>47.00</td>\n      <td>39.00</td>\n      <td>596502768</td>\n    </tr>\n    <tr>\n      <th>2012-05-21</th>\n      <td>37.61</td>\n      <td>37.81</td>\n      <td>33.000</td>\n      <td>35.2000</td>\n      <td>170218597</td>\n      <td>-4.268244</td>\n      <td>-0.1118</td>\n      <td>37.08</td>\n      <td>34.4200</td>\n      <td>36.94</td>\n      <td>33.000</td>\n      <td>172820253</td>\n      <td>37.97</td>\n      <td>35.0100</td>\n      <td>37.23</td>\n      <td>34.00</td>\n      <td>175913329</td>\n    </tr>\n    <tr>\n      <th>2012-05-22</th>\n      <td>33.47</td>\n      <td>34.74</td>\n      <td>31.060</td>\n      <td>32.0000</td>\n      <td>105267545</td>\n      <td>-3.142458</td>\n      <td>-0.0930</td>\n      <td>32.84</td>\n      <td>31.0000</td>\n      <td>34.50</td>\n      <td>31.640</td>\n      <td>103427207</td>\n      <td>32.81</td>\n      <td>32.0000</td>\n      <td>34.25</td>\n      <td>31.35</td>\n      <td>106267034</td>\n    </tr>\n    <tr>\n      <th>2012-05-23</th>\n      <td>32.10</td>\n      <td>33.10</td>\n      <td>32.100</td>\n      <td>33.0000</td>\n      <td>75817640</td>\n      <td>1.000000</td>\n      <td>0.0330</td>\n      <td>32.53</td>\n      <td>33.0000</td>\n      <td>33.30</td>\n      <td>31.930</td>\n      <td>74841427</td>\n      <td>32.05</td>\n      <td>33.0000</td>\n      <td>33.50</td>\n      <td>31.85</td>\n      <td>74082797</td>\n    </tr>\n    <tr>\n      <th>2012-05-24</th>\n      <td>33.44</td>\n      <td>34.51</td>\n      <td>32.030</td>\n      <td>34.5100</td>\n      <td>50279282</td>\n      <td>1.050986</td>\n      <td>0.0329</td>\n      <td>34.07</td>\n      <td>33.0900</td>\n      <td>34.08</td>\n      <td>32.540</td>\n      <td>51120662</td>\n      <td>34.42</td>\n      <td>33.3200</td>\n      <td>33.62</td>\n      <td>33.26</td>\n      <td>52279322</td>\n    </tr>\n    <tr>\n      <th>2012-05-25</th>\n      <td>33.92</td>\n      <td>34.11</td>\n      <td>31.910</td>\n      <td>32.6800</td>\n      <td>37196339</td>\n      <td>-1.127757</td>\n      <td>-0.0352</td>\n      <td>33.97</td>\n      <td>33.4100</td>\n      <td>33.53</td>\n      <td>31.670</td>\n      <td>38068782</td>\n      <td>34.08</td>\n      <td>33.1200</td>\n      <td>32.98</td>\n      <td>32.17</td>\n      <td>38402572</td>\n    </tr>\n    <tr>\n      <th>2012-05-29</th>\n      <td>32.27</td>\n      <td>32.97</td>\n      <td>28.650</td>\n      <td>29.1800</td>\n      <td>80361912</td>\n      <td>-3.132592</td>\n      <td>-0.0984</td>\n      <td>32.11</td>\n      <td>29.4000</td>\n      <td>32.72</td>\n      <td>29.750</td>\n      <td>78559140</td>\n      <td>31.71</td>\n      <td>29.0100</td>\n      <td>33.04</td>\n      <td>29.87</td>\n      <td>81900387</td>\n    </tr>\n    <tr>\n      <th>2012-05-30</th>\n      <td>30.10</td>\n      <td>30.55</td>\n      <td>28.510</td>\n      <td>29.2300</td>\n      <td>57456957</td>\n      <td>-0.655904</td>\n      <td>-0.0228</td>\n      <td>28.90</td>\n      <td>29.4800</td>\n      <td>30.07</td>\n      <td>28.320</td>\n      <td>57346026</td>\n      <td>30.00</td>\n      <td>29.5600</td>\n      <td>30.41</td>\n      <td>28.59</td>\n      <td>59119628</td>\n    </tr>\n    <tr>\n      <th>2012-05-31</th>\n      <td>29.93</td>\n      <td>30.53</td>\n      <td>27.370</td>\n      <td>29.8000</td>\n      <td>115521783</td>\n      <td>1.451724</td>\n      <td>0.0500</td>\n      <td>29.05</td>\n      <td>30.6000</td>\n      <td>30.05</td>\n      <td>27.170</td>\n      <td>117148679</td>\n      <td>28.97</td>\n      <td>30.9000</td>\n      <td>30.68</td>\n      <td>27.74</td>\n      <td>112158056</td>\n    </tr>\n    <tr>\n      <th>2012-06-01</th>\n      <td>29.18</td>\n      <td>29.94</td>\n      <td>27.480</td>\n      <td>29.0000</td>\n      <td>42922987</td>\n      <td>-1.950911</td>\n      <td>-0.0636</td>\n      <td>30.23</td>\n      <td>28.7700</td>\n      <td>29.16</td>\n      <td>28.210</td>\n      <td>42299177</td>\n      <td>29.41</td>\n      <td>28.0800</td>\n      <td>30.41</td>\n      <td>27.98</td>\n      <td>43797138</td>\n    </tr>\n    <tr>\n      <th>2012-06-04</th>\n      <td>27.90</td>\n      <td>28.65</td>\n      <td>26.660</td>\n      <td>27.0000</td>\n      <td>36791174</td>\n      <td>-0.823377</td>\n      <td>-0.0310</td>\n      <td>27.30</td>\n      <td>27.4000</td>\n      <td>28.69</td>\n      <td>27.520</td>\n      <td>36208633</td>\n      <td>27.80</td>\n      <td>27.1000</td>\n      <td>28.61</td>\n      <td>27.41</td>\n      <td>35754185</td>\n    </tr>\n    <tr>\n      <th>2012-06-05</th>\n      <td>27.60</td>\n      <td>29.14</td>\n      <td>26.262</td>\n      <td>26.2620</td>\n      <td>42555638</td>\n      <td>-1.035256</td>\n      <td>-0.0391</td>\n      <td>27.00</td>\n      <td>27.0850</td>\n      <td>27.84</td>\n      <td>25.810</td>\n      <td>43584290</td>\n      <td>27.30</td>\n      <td>26.6220</td>\n      <td>29.14</td>\n      <td>26.23</td>\n      <td>42722527</td>\n    </tr>\n    <tr>\n      <th>2012-06-06</th>\n      <td>26.07</td>\n      <td>28.15</td>\n      <td>26.070</td>\n      <td>28.1500</td>\n      <td>62242858</td>\n      <td>0.956096</td>\n      <td>0.0366</td>\n      <td>26.55</td>\n      <td>26.9900</td>\n      <td>27.42</td>\n      <td>26.770</td>\n      <td>63828236</td>\n      <td>26.94</td>\n      <td>27.5400</td>\n      <td>27.47</td>\n      <td>25.99</td>\n      <td>62056650</td>\n    </tr>\n    <tr>\n      <th>2012-06-07</th>\n      <td>27.00</td>\n      <td>27.78</td>\n      <td>26.500</td>\n      <td>27.2400</td>\n      <td>26930509</td>\n      <td>-0.500000</td>\n      <td>-0.0188</td>\n      <td>28.00</td>\n      <td>27.4700</td>\n      <td>27.89</td>\n      <td>26.830</td>\n      <td>26950454</td>\n      <td>28.00</td>\n      <td>27.2700</td>\n      <td>27.43</td>\n      <td>26.67</td>\n      <td>27325771</td>\n    </tr>\n    <tr>\n      <th>2012-06-08</th>\n      <td>27.59</td>\n      <td>28.09</td>\n      <td>26.830</td>\n      <td>27.4000</td>\n      <td>39651631</td>\n      <td>0.823132</td>\n      <td>0.0300</td>\n      <td>27.07</td>\n      <td>27.5000</td>\n      <td>28.14</td>\n      <td>26.950</td>\n      <td>39835235</td>\n      <td>26.76</td>\n      <td>27.8000</td>\n      <td>28.41</td>\n      <td>26.75</td>\n      <td>39803055</td>\n    </tr>\n    <tr>\n      <th>2012-06-11</th>\n      <td>27.51</td>\n      <td>28.26</td>\n      <td>27.233</td>\n      <td>27.2330</td>\n      <td>29406207</td>\n      <td>-0.097181</td>\n      <td>-0.0035</td>\n      <td>27.82</td>\n      <td>27.6830</td>\n      <td>28.97</td>\n      <td>28.041</td>\n      <td>29423607</td>\n      <td>27.51</td>\n      <td>27.7770</td>\n      <td>28.87</td>\n      <td>26.90</td>\n      <td>29205734</td>\n    </tr>\n    <tr>\n      <th>2012-06-12</th>\n      <td>28.30</td>\n      <td>28.30</td>\n      <td>27.920</td>\n      <td>28.2000</td>\n      <td>15930389</td>\n      <td>0.412107</td>\n      <td>0.0153</td>\n      <td>28.57</td>\n      <td>28.3000</td>\n      <td>27.79</td>\n      <td>27.340</td>\n      <td>16098414</td>\n      <td>28.31</td>\n      <td>28.1000</td>\n      <td>27.87</td>\n      <td>27.21</td>\n      <td>16177583</td>\n    </tr>\n    <tr>\n      <th>2012-06-13</th>\n      <td>28.37</td>\n      <td>28.40</td>\n      <td>27.780</td>\n      <td>27.7800</td>\n      <td>17631008</td>\n      <td>-0.133573</td>\n      <td>-0.0049</td>\n      <td>28.30</td>\n      <td>28.3700</td>\n      <td>28.20</td>\n      <td>27.600</td>\n      <td>17823752</td>\n      <td>27.92</td>\n      <td>28.4800</td>\n      <td>29.00</td>\n      <td>28.20</td>\n      <td>17360176</td>\n    </tr>\n    <tr>\n      <th>2012-06-14</th>\n      <td>28.93</td>\n      <td>29.19</td>\n      <td>27.490</td>\n      <td>29.0500</td>\n      <td>17604212</td>\n      <td>1.054301</td>\n      <td>0.0392</td>\n      <td>28.83</td>\n      <td>29.5500</td>\n      <td>28.59</td>\n      <td>27.980</td>\n      <td>16925556</td>\n      <td>27.92</td>\n      <td>28.5000</td>\n      <td>29.66</td>\n      <td>28.24</td>\n      <td>17046019</td>\n    </tr>\n    <tr>\n      <th>2012-06-15</th>\n      <td>29.70</td>\n      <td>31.50</td>\n      <td>28.810</td>\n      <td>30.3630</td>\n      <td>44701875</td>\n      <td>1.750094</td>\n      <td>0.0621</td>\n      <td>29.80</td>\n      <td>30.9220</td>\n      <td>30.70</td>\n      <td>29.190</td>\n      <td>45118694</td>\n      <td>28.60</td>\n      <td>30.7940</td>\n      <td>30.80</td>\n      <td>28.44</td>\n      <td>44188040</td>\n    </tr>\n  </tbody>\n</table>\n</div>"
     },
     "execution_count": 62,
     "metadata": {},
     "output_type": "execute_result"
    }
   ],
   "source": [
    "r#create"
   ],
   "metadata": {
    "collapsed": false,
    "pycharm": {
     "name": "#%%\n"
    }
   }
  },
  {
   "cell_type": "code",
   "execution_count": 56,
   "outputs": [
    {
     "data": {
      "text/plain": "              open    high      low   close  volume  change  changePercent\ndate                                                                      \n2022-03-04  212.06  212.06  201.360  209.02  209.02  209.02         209.02\n2022-03-07  206.33  206.33  194.280  196.79  196.79  196.79         196.79\n2022-03-08  192.18  205.20  192.180  197.37  197.37  197.37         197.37\n2022-03-09  202.62  202.62  200.200  200.20  200.20  200.20         200.20\n2022-03-10  200.57  203.69  191.384  199.38  199.38  199.38         199.38",
      "text/html": "<div>\n<style scoped>\n    .dataframe tbody tr th:only-of-type {\n        vertical-align: middle;\n    }\n\n    .dataframe tbody tr th {\n        vertical-align: top;\n    }\n\n    .dataframe thead th {\n        text-align: right;\n    }\n</style>\n<table border=\"1\" class=\"dataframe\">\n  <thead>\n    <tr style=\"text-align: right;\">\n      <th></th>\n      <th>open</th>\n      <th>high</th>\n      <th>low</th>\n      <th>close</th>\n      <th>volume</th>\n      <th>change</th>\n      <th>changePercent</th>\n    </tr>\n    <tr>\n      <th>date</th>\n      <th></th>\n      <th></th>\n      <th></th>\n      <th></th>\n      <th></th>\n      <th></th>\n      <th></th>\n    </tr>\n  </thead>\n  <tbody>\n    <tr>\n      <th>2022-03-04</th>\n      <td>212.06</td>\n      <td>212.06</td>\n      <td>201.360</td>\n      <td>209.02</td>\n      <td>209.02</td>\n      <td>209.02</td>\n      <td>209.02</td>\n    </tr>\n    <tr>\n      <th>2022-03-07</th>\n      <td>206.33</td>\n      <td>206.33</td>\n      <td>194.280</td>\n      <td>196.79</td>\n      <td>196.79</td>\n      <td>196.79</td>\n      <td>196.79</td>\n    </tr>\n    <tr>\n      <th>2022-03-08</th>\n      <td>192.18</td>\n      <td>205.20</td>\n      <td>192.180</td>\n      <td>197.37</td>\n      <td>197.37</td>\n      <td>197.37</td>\n      <td>197.37</td>\n    </tr>\n    <tr>\n      <th>2022-03-09</th>\n      <td>202.62</td>\n      <td>202.62</td>\n      <td>200.200</td>\n      <td>200.20</td>\n      <td>200.20</td>\n      <td>200.20</td>\n      <td>200.20</td>\n    </tr>\n    <tr>\n      <th>2022-03-10</th>\n      <td>200.57</td>\n      <td>203.69</td>\n      <td>191.384</td>\n      <td>199.38</td>\n      <td>199.38</td>\n      <td>199.38</td>\n      <td>199.38</td>\n    </tr>\n  </tbody>\n</table>\n</div>"
     },
     "execution_count": 56,
     "metadata": {},
     "output_type": "execute_result"
    }
   ],
   "source": [
    "df_fb.tail()"
   ],
   "metadata": {
    "collapsed": false,
    "pycharm": {
     "name": "#%%\n"
    }
   }
  },
  {
   "cell_type": "code",
   "execution_count": null,
   "outputs": [],
   "source": [],
   "metadata": {
    "collapsed": false,
    "pycharm": {
     "name": "#%%\n"
    }
   }
  },
  {
   "cell_type": "markdown",
   "source": [],
   "metadata": {
    "collapsed": false
   }
  },
  {
   "cell_type": "code",
   "execution_count": 91,
   "outputs": [
    {
     "name": "stdout",
     "output_type": "stream",
     "text": [
      "/home/kagema/Documents/CSC 492/csc492_deep_learning_project\n"
     ]
    }
   ],
   "source": [
    "data_dict = {}\n",
    "os.chdir('/home/kagema/Documents/CSC 492/csc492_deep_learning_project')\n",
    "nasdaq_directory = '/home/kagema/Documents/CSC 492/csc492_deep_learning_project/Data/nasdaq_15yr_data'\n",
    "nyse_directory = '/home/kagema/Documents/CSC 492/csc492_deep_learning_project/Data/nyse_15yr_data'\n",
    "print(os.getcwd())\n",
    "'''\n",
    "for filename in os.listdir(nasdaq_directory):\n",
    "    if filename == '.ipynb_checkpoints':\n",
    "        continue\n",
    "    ticker_symbol = filename.split('.')[0]\n",
    "    fullpath = nasdaq_directory + '/' + filename\n",
    "    data_dict[ticker_symbol] = pd.read_csv(fullpath)\n",
    "'''\n",
    "for filename in os.listdir(nyse_directory):\n",
    "    if filename == '.ipynb_checkpoints':\n",
    "        continue\n",
    "    ticker_symbol = filename.split('.')[0]\n",
    "\n",
    "    fullpath = nyse_directory + '/' + filename\n",
    "    data_dict[ticker_symbol] = pd.read_csv(fullpath)\n",
    "    #tickers_list.append(ticker)\n"
   ],
   "metadata": {
    "collapsed": false,
    "pycharm": {
     "name": "#%%\n"
    }
   }
  },
  {
   "cell_type": "code",
   "execution_count": 96,
   "outputs": [],
   "source": [
    "temp_df_path = '/home/kagema/Documents/CSC 492/csc492_deep_learning_project/Data/nyse_15yr_data/BRCC.csv'\n",
    "temp_df = pd.read_csv(temp_df_path)"
   ],
   "metadata": {
    "collapsed": false,
    "pycharm": {
     "name": "#%%\n"
    }
   }
  },
  {
   "cell_type": "code",
   "execution_count": 97,
   "outputs": [
    {
     "data": {
      "text/plain": "Empty DataFrame\nColumns: [Date, Open, High, Low, Close, Adj Close, Volume, ticker]\nIndex: []",
      "text/html": "<div>\n<style scoped>\n    .dataframe tbody tr th:only-of-type {\n        vertical-align: middle;\n    }\n\n    .dataframe tbody tr th {\n        vertical-align: top;\n    }\n\n    .dataframe thead th {\n        text-align: right;\n    }\n</style>\n<table border=\"1\" class=\"dataframe\">\n  <thead>\n    <tr style=\"text-align: right;\">\n      <th></th>\n      <th>Date</th>\n      <th>Open</th>\n      <th>High</th>\n      <th>Low</th>\n      <th>Close</th>\n      <th>Adj Close</th>\n      <th>Volume</th>\n      <th>ticker</th>\n    </tr>\n  </thead>\n  <tbody>\n  </tbody>\n</table>\n</div>"
     },
     "execution_count": 97,
     "metadata": {},
     "output_type": "execute_result"
    }
   ],
   "source": [
    "temp_df.head()"
   ],
   "metadata": {
    "collapsed": false,
    "pycharm": {
     "name": "#%%\n"
    }
   }
  },
  {
   "cell_type": "markdown",
   "source": [
    "<h3>Data Cleaning</h3>"
   ],
   "metadata": {
    "collapsed": false,
    "pycharm": {
     "name": "#%% md\n"
    }
   }
  },
  {
   "cell_type": "code",
   "execution_count": 92,
   "outputs": [],
   "source": [
    "ticker_list = data_dict.keys()\n",
    "ticker_no_volume_days = []\n",
    "for ticker in ticker_list:\n",
    "    df = data_dict[ticker].copy(deep=True)\n",
    "    df.fillna(method='ffill', inplace=True)\n",
    "    #drop if front has no values\n",
    "    df.dropna(inplace=True, how='any')\n",
    "    data_dict[ticker] = df.copy(deep=True)\n",
    "\n"
   ],
   "metadata": {
    "collapsed": false,
    "pycharm": {
     "name": "#%%\n"
    }
   }
  },
  {
   "cell_type": "markdown",
   "source": [
    "<h2>Data Exploration</h2>\n",
    "\n",
    "Here are the descriptive statistics that we will consider;\n",
    "- What is the average returns of all stocks in the dataset\n",
    "- What is the stock with the highest returns\n",
    "- What is the stock with the lowest returns\n",
    "- What year did each stock list on the relevant exchange\n",
    "- What stocks had the highest average VWAP (Volume Weighted Average Price)? (more weight on price with high volume)\n",
    "    (how does filtering with VWAP help'\n",
    "\n"
   ],
   "metadata": {
    "collapsed": false,
    "pycharm": {
     "name": "#%% md\n"
    }
   }
  },
  {
   "cell_type": "markdown",
   "source": [],
   "metadata": {
    "collapsed": false
   }
  },
  {
   "cell_type": "code",
   "execution_count": 97,
   "outputs": [
    {
     "name": "stdout",
     "output_type": "stream",
     "text": [
      "['EVE', 'ECCV', 'BRD', 'MTVC', 'SFB', 'RRAC', 'SHAP', 'HTAQ', 'STET', 'TCOA', 'RJAC', 'ATEK', 'RCFA', 'SHEL', 'ACDI', 'EAI', 'PORT', 'BFAC', 'MBSC', 'WEL', 'SCUA', 'DMA', 'GBLL', 'BWNB', 'IFIN', 'NETC', 'CNDB', 'APCA', 'DOUG', 'SEDA', 'TRAQ', 'EMP', 'APN', 'PACI', 'MDV', 'BRCC', 'RMMZ', 'JUN', 'NPFD', 'ECCX', 'BIPI', 'ZGN', 'RCA', 'PAXS', 'IRRX', 'NFNT', 'MNTN', 'SUAC', 'IOT']\n"
     ]
    }
   ],
   "source": [
    "#for each stock, year did it list in\n",
    "error_list = []\n",
    "from collections import defaultdict\n",
    "year_dict = defaultdict(int)\n",
    "for ticker in ticker_list:\n",
    "    #get the first year stock\n",
    "    #get the first year stockyear\n",
    "    try:\n",
    "        year = int(data_dict[ticker].Date[0].split('-')[0])\n",
    "        year_dict[year] += 1\n",
    "    except:\n",
    "        error_list.append(ticker)\n",
    "print(error_list)\n",
    "\n"
   ],
   "metadata": {
    "collapsed": false,
    "pycharm": {
     "name": "#%%\n"
    }
   }
  },
  {
   "cell_type": "markdown",
   "source": [
    "Pull the data again without the stocks that were giving the errors, which were giving the errors because they were listed in the new york stock exchange after 2022"
   ],
   "metadata": {
    "collapsed": false,
    "pycharm": {
     "name": "#%% md\n"
    }
   }
  },
  {
   "cell_type": "code",
   "execution_count": 103,
   "outputs": [],
   "source": [
    "new_data_dict = {}\n",
    "for stock in data_dict.keys():\n",
    "    if stock not in error_list:\n",
    "        new_data_dict[stock] = data_dict[stock]\n",
    "    else:\n",
    "        print(stock)\n",
    "\n",
    "data_dict = new_data_dict"
   ],
   "metadata": {
    "collapsed": false,
    "pycharm": {
     "name": "#%%\n"
    }
   }
  },
  {
   "cell_type": "code",
   "execution_count": 105,
   "outputs": [
    {
     "ename": "KeyError",
     "evalue": "'EVE'",
     "output_type": "error",
     "traceback": [
      "\u001B[0;31m---------------------------------------------------------------------------\u001B[0m",
      "\u001B[0;31mKeyError\u001B[0m                                  Traceback (most recent call last)",
      "Input \u001B[0;32mIn [105]\u001B[0m, in \u001B[0;36m<module>\u001B[0;34m\u001B[0m\n\u001B[0;32m----> 1\u001B[0m \u001B[43mdata_dict\u001B[49m\u001B[43m[\u001B[49m\u001B[38;5;124;43m'\u001B[39;49m\u001B[38;5;124;43mEVE\u001B[39;49m\u001B[38;5;124;43m'\u001B[39;49m\u001B[43m]\u001B[49m,head()\n",
      "\u001B[0;31mKeyError\u001B[0m: 'EVE'"
     ]
    }
   ],
   "source": [
    "data_dict['EVE'],head()"
   ],
   "metadata": {
    "collapsed": false,
    "pycharm": {
     "name": "#%%\n"
    }
   }
  },
  {
   "cell_type": "code",
   "execution_count": 104,
   "outputs": [
    {
     "data": {
      "text/plain": "['EVE',\n 'ECCV',\n 'BRD',\n 'MTVC',\n 'SFB',\n 'RRAC',\n 'SHAP',\n 'HTAQ',\n 'STET',\n 'TCOA',\n 'RJAC',\n 'ATEK',\n 'RCFA',\n 'SHEL',\n 'ACDI',\n 'EAI',\n 'PORT',\n 'BFAC',\n 'MBSC',\n 'WEL',\n 'SCUA',\n 'DMA',\n 'GBLL',\n 'BWNB',\n 'IFIN',\n 'NETC',\n 'CNDB',\n 'APCA',\n 'DOUG',\n 'SEDA',\n 'TRAQ',\n 'EMP',\n 'APN',\n 'PACI',\n 'MDV',\n 'BRCC',\n 'RMMZ',\n 'JUN',\n 'NPFD',\n 'ECCX',\n 'BIPI',\n 'ZGN',\n 'RCA',\n 'PAXS',\n 'IRRX',\n 'NFNT',\n 'MNTN',\n 'SUAC',\n 'IOT']"
     },
     "execution_count": 104,
     "metadata": {},
     "output_type": "execute_result"
    }
   ],
   "source": [
    "error_list"
   ],
   "metadata": {
    "collapsed": false,
    "pycharm": {
     "name": "#%%\n"
    }
   }
  },
  {
   "cell_type": "code",
   "execution_count": 76,
   "outputs": [
    {
     "data": {
      "text/plain": "          Date       Open       High        Low      Close  Volume\n1   2021-02-12  24.850000  24.900000  24.799999  24.850000   25700\n2   2021-02-16  25.250000  25.250000  24.775000  24.820000   46200\n3   2021-02-17  24.900000  24.900000  23.700001  24.799999   23400\n4   2021-02-18  24.780001  24.900000  24.750000  24.889999   28000\n5   2021-02-19  24.799999  24.889999  24.799999  24.860001   16800\n6   2021-02-22  24.870001  24.900000  24.792000  24.850000   24200\n7   2021-02-23  24.860001  24.950001  24.700001  24.860001   19600\n8   2021-02-24  24.969999  25.129999  24.795000  25.129999   26200\n9   2021-02-25  25.200001  25.250000  25.150000  25.230000   10700\n10  2021-02-26  25.250000  25.299999  24.719999  25.139999   25600\n11  2021-03-01  25.450001  25.450001  25.299999  25.299999    2500\n12  2021-03-02  25.201000  25.350000  25.201000  25.250000    9000\n13  2021-03-03  25.250000  25.299999  25.224001  25.299999    6400\n14  2021-03-04  25.299999  25.299999  25.299999  25.299999     400\n15  2021-03-05  25.299999  25.400000  25.155001  25.400000    5600\n16  2021-03-08  25.260000  25.400000  25.250000  25.320000    4500\n17  2021-03-09  25.400000  25.469999  25.330000  25.400000   12600\n18  2021-03-10  25.549999  25.549999  25.549999  25.549999    1000\n19  2021-03-11  25.500000  25.500000  25.500000  25.500000    1000\n20  2021-03-12  25.549999  25.549999  25.549999  25.549999    9800\n21  2021-03-15  25.680000  25.690001  25.600000  25.680000    1000\n22  2021-03-16  25.700001  25.700001  25.500000  25.549999   10000\n23  2021-03-17  25.580000  25.875000  25.580000  25.750000    2800\n24  2021-03-18  25.730000  25.730000  25.559999  25.700001     400\n25  2021-03-19  25.700001  25.700001  25.700001  25.700001       0\n26  2021-03-22  25.650000  25.750000  25.600000  25.750000    2200\n27  2021-03-23  25.725000  25.725000  25.725000  25.725000    1000\n28  2021-03-24  25.600000  25.600000  25.490000  25.600000    4600\n29  2021-03-25  25.469999  25.500000  25.400000  25.500000    8400\n30  2021-03-26  25.500000  25.510000  25.500000  25.500000     500",
      "text/html": "<div>\n<style scoped>\n    .dataframe tbody tr th:only-of-type {\n        vertical-align: middle;\n    }\n\n    .dataframe tbody tr th {\n        vertical-align: top;\n    }\n\n    .dataframe thead th {\n        text-align: right;\n    }\n</style>\n<table border=\"1\" class=\"dataframe\">\n  <thead>\n    <tr style=\"text-align: right;\">\n      <th></th>\n      <th>Date</th>\n      <th>Open</th>\n      <th>High</th>\n      <th>Low</th>\n      <th>Close</th>\n      <th>Volume</th>\n    </tr>\n  </thead>\n  <tbody>\n    <tr>\n      <th>1</th>\n      <td>2021-02-12</td>\n      <td>24.850000</td>\n      <td>24.900000</td>\n      <td>24.799999</td>\n      <td>24.850000</td>\n      <td>25700</td>\n    </tr>\n    <tr>\n      <th>2</th>\n      <td>2021-02-16</td>\n      <td>25.250000</td>\n      <td>25.250000</td>\n      <td>24.775000</td>\n      <td>24.820000</td>\n      <td>46200</td>\n    </tr>\n    <tr>\n      <th>3</th>\n      <td>2021-02-17</td>\n      <td>24.900000</td>\n      <td>24.900000</td>\n      <td>23.700001</td>\n      <td>24.799999</td>\n      <td>23400</td>\n    </tr>\n    <tr>\n      <th>4</th>\n      <td>2021-02-18</td>\n      <td>24.780001</td>\n      <td>24.900000</td>\n      <td>24.750000</td>\n      <td>24.889999</td>\n      <td>28000</td>\n    </tr>\n    <tr>\n      <th>5</th>\n      <td>2021-02-19</td>\n      <td>24.799999</td>\n      <td>24.889999</td>\n      <td>24.799999</td>\n      <td>24.860001</td>\n      <td>16800</td>\n    </tr>\n    <tr>\n      <th>6</th>\n      <td>2021-02-22</td>\n      <td>24.870001</td>\n      <td>24.900000</td>\n      <td>24.792000</td>\n      <td>24.850000</td>\n      <td>24200</td>\n    </tr>\n    <tr>\n      <th>7</th>\n      <td>2021-02-23</td>\n      <td>24.860001</td>\n      <td>24.950001</td>\n      <td>24.700001</td>\n      <td>24.860001</td>\n      <td>19600</td>\n    </tr>\n    <tr>\n      <th>8</th>\n      <td>2021-02-24</td>\n      <td>24.969999</td>\n      <td>25.129999</td>\n      <td>24.795000</td>\n      <td>25.129999</td>\n      <td>26200</td>\n    </tr>\n    <tr>\n      <th>9</th>\n      <td>2021-02-25</td>\n      <td>25.200001</td>\n      <td>25.250000</td>\n      <td>25.150000</td>\n      <td>25.230000</td>\n      <td>10700</td>\n    </tr>\n    <tr>\n      <th>10</th>\n      <td>2021-02-26</td>\n      <td>25.250000</td>\n      <td>25.299999</td>\n      <td>24.719999</td>\n      <td>25.139999</td>\n      <td>25600</td>\n    </tr>\n    <tr>\n      <th>11</th>\n      <td>2021-03-01</td>\n      <td>25.450001</td>\n      <td>25.450001</td>\n      <td>25.299999</td>\n      <td>25.299999</td>\n      <td>2500</td>\n    </tr>\n    <tr>\n      <th>12</th>\n      <td>2021-03-02</td>\n      <td>25.201000</td>\n      <td>25.350000</td>\n      <td>25.201000</td>\n      <td>25.250000</td>\n      <td>9000</td>\n    </tr>\n    <tr>\n      <th>13</th>\n      <td>2021-03-03</td>\n      <td>25.250000</td>\n      <td>25.299999</td>\n      <td>25.224001</td>\n      <td>25.299999</td>\n      <td>6400</td>\n    </tr>\n    <tr>\n      <th>14</th>\n      <td>2021-03-04</td>\n      <td>25.299999</td>\n      <td>25.299999</td>\n      <td>25.299999</td>\n      <td>25.299999</td>\n      <td>400</td>\n    </tr>\n    <tr>\n      <th>15</th>\n      <td>2021-03-05</td>\n      <td>25.299999</td>\n      <td>25.400000</td>\n      <td>25.155001</td>\n      <td>25.400000</td>\n      <td>5600</td>\n    </tr>\n    <tr>\n      <th>16</th>\n      <td>2021-03-08</td>\n      <td>25.260000</td>\n      <td>25.400000</td>\n      <td>25.250000</td>\n      <td>25.320000</td>\n      <td>4500</td>\n    </tr>\n    <tr>\n      <th>17</th>\n      <td>2021-03-09</td>\n      <td>25.400000</td>\n      <td>25.469999</td>\n      <td>25.330000</td>\n      <td>25.400000</td>\n      <td>12600</td>\n    </tr>\n    <tr>\n      <th>18</th>\n      <td>2021-03-10</td>\n      <td>25.549999</td>\n      <td>25.549999</td>\n      <td>25.549999</td>\n      <td>25.549999</td>\n      <td>1000</td>\n    </tr>\n    <tr>\n      <th>19</th>\n      <td>2021-03-11</td>\n      <td>25.500000</td>\n      <td>25.500000</td>\n      <td>25.500000</td>\n      <td>25.500000</td>\n      <td>1000</td>\n    </tr>\n    <tr>\n      <th>20</th>\n      <td>2021-03-12</td>\n      <td>25.549999</td>\n      <td>25.549999</td>\n      <td>25.549999</td>\n      <td>25.549999</td>\n      <td>9800</td>\n    </tr>\n    <tr>\n      <th>21</th>\n      <td>2021-03-15</td>\n      <td>25.680000</td>\n      <td>25.690001</td>\n      <td>25.600000</td>\n      <td>25.680000</td>\n      <td>1000</td>\n    </tr>\n    <tr>\n      <th>22</th>\n      <td>2021-03-16</td>\n      <td>25.700001</td>\n      <td>25.700001</td>\n      <td>25.500000</td>\n      <td>25.549999</td>\n      <td>10000</td>\n    </tr>\n    <tr>\n      <th>23</th>\n      <td>2021-03-17</td>\n      <td>25.580000</td>\n      <td>25.875000</td>\n      <td>25.580000</td>\n      <td>25.750000</td>\n      <td>2800</td>\n    </tr>\n    <tr>\n      <th>24</th>\n      <td>2021-03-18</td>\n      <td>25.730000</td>\n      <td>25.730000</td>\n      <td>25.559999</td>\n      <td>25.700001</td>\n      <td>400</td>\n    </tr>\n    <tr>\n      <th>25</th>\n      <td>2021-03-19</td>\n      <td>25.700001</td>\n      <td>25.700001</td>\n      <td>25.700001</td>\n      <td>25.700001</td>\n      <td>0</td>\n    </tr>\n    <tr>\n      <th>26</th>\n      <td>2021-03-22</td>\n      <td>25.650000</td>\n      <td>25.750000</td>\n      <td>25.600000</td>\n      <td>25.750000</td>\n      <td>2200</td>\n    </tr>\n    <tr>\n      <th>27</th>\n      <td>2021-03-23</td>\n      <td>25.725000</td>\n      <td>25.725000</td>\n      <td>25.725000</td>\n      <td>25.725000</td>\n      <td>1000</td>\n    </tr>\n    <tr>\n      <th>28</th>\n      <td>2021-03-24</td>\n      <td>25.600000</td>\n      <td>25.600000</td>\n      <td>25.490000</td>\n      <td>25.600000</td>\n      <td>4600</td>\n    </tr>\n    <tr>\n      <th>29</th>\n      <td>2021-03-25</td>\n      <td>25.469999</td>\n      <td>25.500000</td>\n      <td>25.400000</td>\n      <td>25.500000</td>\n      <td>8400</td>\n    </tr>\n    <tr>\n      <th>30</th>\n      <td>2021-03-26</td>\n      <td>25.500000</td>\n      <td>25.510000</td>\n      <td>25.500000</td>\n      <td>25.500000</td>\n      <td>500</td>\n    </tr>\n  </tbody>\n</table>\n</div>"
     },
     "execution_count": 76,
     "metadata": {},
     "output_type": "execute_result"
    }
   ],
   "source": [
    "temp_df = data_dict[\"TFSA\"]\n",
    "temp_df = temp_df[[\"Date\", \"Open\", \"High\", \"Low\", \"Close\", \"Volume\"]]\n",
    "#temp_df[[\"Date\"]].head(30)\n",
    "temp_df.head(30)"
   ],
   "metadata": {
    "collapsed": false,
    "pycharm": {
     "name": "#%%\n"
    }
   }
  },
  {
   "cell_type": "code",
   "execution_count": 73,
   "outputs": [
    {
     "data": {
      "text/plain": "['THO', 'STAG', 'TFSA']"
     },
     "execution_count": 73,
     "metadata": {},
     "output_type": "execute_result"
    }
   ],
   "source": [
    "list(data_dict.keys())[0:3]"
   ],
   "metadata": {
    "collapsed": false,
    "pycharm": {
     "name": "#%%\n"
    }
   }
  },
  {
   "cell_type": "code",
   "execution_count": null,
   "outputs": [],
   "source": [],
   "metadata": {
    "collapsed": false,
    "pycharm": {
     "name": "#%%\n"
    }
   }
  },
  {
   "cell_type": "code",
   "execution_count": 6,
   "outputs": [
    {
     "data": {
      "text/plain": "['<= 2007',\n '2008',\n '2009',\n '2010',\n '2011',\n '2012',\n '2013',\n '2014',\n '2015',\n '2016',\n '2017',\n '2018',\n '2019',\n '2020',\n '2021']"
     },
     "execution_count": 6,
     "metadata": {},
     "output_type": "execute_result"
    }
   ],
   "source": [
    "#graph year list\n",
    "year_keys = np.sort(list(year_dict.keys()))\n",
    "new_year_keys = [str(x) if x != 2007 else '<= 2007' for x in year_keys ]\n",
    "new_year_keys\n"
   ],
   "metadata": {
    "collapsed": false,
    "pycharm": {
     "name": "#%%\n"
    }
   }
  },
  {
   "cell_type": "code",
   "execution_count": 14,
   "outputs": [
    {
     "ename": "ConversionError",
     "evalue": "Failed to convert value(s) to axis units: ['<= 2007', '2008', '2009', '2010', '2011', '2012', '2013', '2014', '2015', '2016', '2017', '2018', '2019', '2020', '2021']",
     "output_type": "error",
     "traceback": [
      "\u001B[0;31m---------------------------------------------------------------------------\u001B[0m",
      "\u001B[0;31mValueError\u001B[0m                                Traceback (most recent call last)",
      "File \u001B[0;32m~/anaconda3/envs/csc492_v2/lib/python3.9/site-packages/matplotlib/axis.py:1506\u001B[0m, in \u001B[0;36mAxis.convert_units\u001B[0;34m(self, x)\u001B[0m\n\u001B[1;32m   1505\u001B[0m \u001B[38;5;28;01mtry\u001B[39;00m:\n\u001B[0;32m-> 1506\u001B[0m     ret \u001B[38;5;241m=\u001B[39m \u001B[38;5;28;43mself\u001B[39;49m\u001B[38;5;241;43m.\u001B[39;49m\u001B[43mconverter\u001B[49m\u001B[38;5;241;43m.\u001B[39;49m\u001B[43mconvert\u001B[49m\u001B[43m(\u001B[49m\u001B[43mx\u001B[49m\u001B[43m,\u001B[49m\u001B[43m \u001B[49m\u001B[38;5;28;43mself\u001B[39;49m\u001B[38;5;241;43m.\u001B[39;49m\u001B[43munits\u001B[49m\u001B[43m,\u001B[49m\u001B[43m \u001B[49m\u001B[38;5;28;43mself\u001B[39;49m\u001B[43m)\u001B[49m\n\u001B[1;32m   1507\u001B[0m \u001B[38;5;28;01mexcept\u001B[39;00m \u001B[38;5;167;01mException\u001B[39;00m \u001B[38;5;28;01mas\u001B[39;00m e:\n",
      "File \u001B[0;32m~/anaconda3/envs/csc492_v2/lib/python3.9/site-packages/matplotlib/category.py:49\u001B[0m, in \u001B[0;36mStrCategoryConverter.convert\u001B[0;34m(value, unit, axis)\u001B[0m\n\u001B[1;32m     48\u001B[0m \u001B[38;5;28;01mif\u001B[39;00m unit \u001B[38;5;129;01mis\u001B[39;00m \u001B[38;5;28;01mNone\u001B[39;00m:\n\u001B[0;32m---> 49\u001B[0m     \u001B[38;5;28;01mraise\u001B[39;00m \u001B[38;5;167;01mValueError\u001B[39;00m(\n\u001B[1;32m     50\u001B[0m         \u001B[38;5;124m'\u001B[39m\u001B[38;5;124mMissing category information for StrCategoryConverter; \u001B[39m\u001B[38;5;124m'\u001B[39m\n\u001B[1;32m     51\u001B[0m         \u001B[38;5;124m'\u001B[39m\u001B[38;5;124mthis might be caused by unintendedly mixing categorical and \u001B[39m\u001B[38;5;124m'\u001B[39m\n\u001B[1;32m     52\u001B[0m         \u001B[38;5;124m'\u001B[39m\u001B[38;5;124mnumeric data\u001B[39m\u001B[38;5;124m'\u001B[39m)\n\u001B[1;32m     53\u001B[0m StrCategoryConverter\u001B[38;5;241m.\u001B[39m_validate_unit(unit)\n",
      "\u001B[0;31mValueError\u001B[0m: Missing category information for StrCategoryConverter; this might be caused by unintendedly mixing categorical and numeric data",
      "\nThe above exception was the direct cause of the following exception:\n",
      "\u001B[0;31mConversionError\u001B[0m                           Traceback (most recent call last)",
      "Input \u001B[0;32mIn [14]\u001B[0m, in \u001B[0;36m<module>\u001B[0;34m\u001B[0m\n\u001B[1;32m      5\u001B[0m \u001B[38;5;66;03m#plt.figure(figsize=(20,20))\u001B[39;00m\n\u001B[1;32m      6\u001B[0m ax \u001B[38;5;241m=\u001B[39m sns\u001B[38;5;241m.\u001B[39mbarplot(x\u001B[38;5;241m=\u001B[39m\u001B[38;5;124m'\u001B[39m\u001B[38;5;124mYear\u001B[39m\u001B[38;5;124m'\u001B[39m, y\u001B[38;5;241m=\u001B[39m\u001B[38;5;124m'\u001B[39m\u001B[38;5;124mCount\u001B[39m\u001B[38;5;124m'\u001B[39m, data\u001B[38;5;241m=\u001B[39mplotting_df)\n\u001B[0;32m----> 7\u001B[0m \u001B[43max\u001B[49m\u001B[38;5;241;43m.\u001B[39;49m\u001B[43mset\u001B[49m\u001B[43m(\u001B[49m\u001B[43mxticks\u001B[49m\u001B[38;5;241;43m=\u001B[39;49m\u001B[43mnew_year_keys\u001B[49m\u001B[43m)\u001B[49m\n\u001B[1;32m      8\u001B[0m plt\u001B[38;5;241m.\u001B[39mshow()\n",
      "File \u001B[0;32m~/anaconda3/envs/csc492_v2/lib/python3.9/site-packages/matplotlib/artist.py:116\u001B[0m, in \u001B[0;36mArtist.__init_subclass__.<locals>.<lambda>\u001B[0;34m(self, **kwargs)\u001B[0m\n\u001B[1;32m    108\u001B[0m \u001B[38;5;28;01mif\u001B[39;00m \u001B[38;5;129;01mnot\u001B[39;00m \u001B[38;5;28mhasattr\u001B[39m(\u001B[38;5;28mcls\u001B[39m\u001B[38;5;241m.\u001B[39mset, \u001B[38;5;124m'\u001B[39m\u001B[38;5;124m_autogenerated_signature\u001B[39m\u001B[38;5;124m'\u001B[39m):\n\u001B[1;32m    109\u001B[0m     \u001B[38;5;66;03m# Don't overwrite cls.set if the subclass or one of its parents\u001B[39;00m\n\u001B[1;32m    110\u001B[0m     \u001B[38;5;66;03m# has defined a set method set itself.\u001B[39;00m\n\u001B[1;32m    111\u001B[0m     \u001B[38;5;66;03m# If there was no explicit definition, cls.set is inherited from\u001B[39;00m\n\u001B[1;32m    112\u001B[0m     \u001B[38;5;66;03m# the hierarchy of auto-generated set methods, which hold the\u001B[39;00m\n\u001B[1;32m    113\u001B[0m     \u001B[38;5;66;03m# flag _autogenerated_signature.\u001B[39;00m\n\u001B[1;32m    114\u001B[0m     \u001B[38;5;28;01mreturn\u001B[39;00m\n\u001B[0;32m--> 116\u001B[0m \u001B[38;5;28mcls\u001B[39m\u001B[38;5;241m.\u001B[39mset \u001B[38;5;241m=\u001B[39m \u001B[38;5;28;01mlambda\u001B[39;00m \u001B[38;5;28mself\u001B[39m, \u001B[38;5;241m*\u001B[39m\u001B[38;5;241m*\u001B[39mkwargs: \u001B[43mArtist\u001B[49m\u001B[38;5;241;43m.\u001B[39;49m\u001B[43mset\u001B[49m\u001B[43m(\u001B[49m\u001B[38;5;28;43mself\u001B[39;49m\u001B[43m,\u001B[49m\u001B[43m \u001B[49m\u001B[38;5;241;43m*\u001B[39;49m\u001B[38;5;241;43m*\u001B[39;49m\u001B[43mkwargs\u001B[49m\u001B[43m)\u001B[49m\n\u001B[1;32m    117\u001B[0m \u001B[38;5;28mcls\u001B[39m\u001B[38;5;241m.\u001B[39mset\u001B[38;5;241m.\u001B[39m\u001B[38;5;18m__name__\u001B[39m \u001B[38;5;241m=\u001B[39m \u001B[38;5;124m\"\u001B[39m\u001B[38;5;124mset\u001B[39m\u001B[38;5;124m\"\u001B[39m\n\u001B[1;32m    118\u001B[0m \u001B[38;5;28mcls\u001B[39m\u001B[38;5;241m.\u001B[39mset\u001B[38;5;241m.\u001B[39m\u001B[38;5;18m__qualname__\u001B[39m \u001B[38;5;241m=\u001B[39m \u001B[38;5;124mf\u001B[39m\u001B[38;5;124m\"\u001B[39m\u001B[38;5;132;01m{\u001B[39;00m\u001B[38;5;28mcls\u001B[39m\u001B[38;5;241m.\u001B[39m\u001B[38;5;18m__qualname__\u001B[39m\u001B[38;5;132;01m}\u001B[39;00m\u001B[38;5;124m.set\u001B[39m\u001B[38;5;124m\"\u001B[39m\n",
      "File \u001B[0;32m~/anaconda3/envs/csc492_v2/lib/python3.9/site-packages/matplotlib/artist.py:1164\u001B[0m, in \u001B[0;36mArtist.set\u001B[0;34m(self, **kwargs)\u001B[0m\n\u001B[1;32m   1159\u001B[0m \u001B[38;5;28;01mdef\u001B[39;00m \u001B[38;5;21mset\u001B[39m(\u001B[38;5;28mself\u001B[39m, \u001B[38;5;241m*\u001B[39m\u001B[38;5;241m*\u001B[39mkwargs):\n\u001B[1;32m   1160\u001B[0m     \u001B[38;5;66;03m# docstring and signature are auto-generated via\u001B[39;00m\n\u001B[1;32m   1161\u001B[0m     \u001B[38;5;66;03m# Artist._update_set_signature_and_docstring() at the end of the\u001B[39;00m\n\u001B[1;32m   1162\u001B[0m     \u001B[38;5;66;03m# module.\u001B[39;00m\n\u001B[1;32m   1163\u001B[0m     kwargs \u001B[38;5;241m=\u001B[39m cbook\u001B[38;5;241m.\u001B[39mnormalize_kwargs(kwargs, \u001B[38;5;28mself\u001B[39m)\n\u001B[0;32m-> 1164\u001B[0m     \u001B[38;5;28;01mreturn\u001B[39;00m \u001B[38;5;28;43mself\u001B[39;49m\u001B[38;5;241;43m.\u001B[39;49m\u001B[43mupdate\u001B[49m\u001B[43m(\u001B[49m\u001B[43mkwargs\u001B[49m\u001B[43m)\u001B[49m\n",
      "File \u001B[0;32m~/anaconda3/envs/csc492_v2/lib/python3.9/site-packages/matplotlib/artist.py:1066\u001B[0m, in \u001B[0;36mArtist.update\u001B[0;34m(self, props)\u001B[0m\n\u001B[1;32m   1063\u001B[0m             \u001B[38;5;28;01mif\u001B[39;00m \u001B[38;5;129;01mnot\u001B[39;00m callable(func):\n\u001B[1;32m   1064\u001B[0m                 \u001B[38;5;28;01mraise\u001B[39;00m \u001B[38;5;167;01mAttributeError\u001B[39;00m(\u001B[38;5;124mf\u001B[39m\u001B[38;5;124m\"\u001B[39m\u001B[38;5;132;01m{\u001B[39;00m\u001B[38;5;28mtype\u001B[39m(\u001B[38;5;28mself\u001B[39m)\u001B[38;5;241m.\u001B[39m\u001B[38;5;18m__name__\u001B[39m\u001B[38;5;132;01m!r}\u001B[39;00m\u001B[38;5;124m object \u001B[39m\u001B[38;5;124m\"\u001B[39m\n\u001B[1;32m   1065\u001B[0m                                      \u001B[38;5;124mf\u001B[39m\u001B[38;5;124m\"\u001B[39m\u001B[38;5;124mhas no property \u001B[39m\u001B[38;5;132;01m{\u001B[39;00mk\u001B[38;5;132;01m!r}\u001B[39;00m\u001B[38;5;124m\"\u001B[39m)\n\u001B[0;32m-> 1066\u001B[0m             ret\u001B[38;5;241m.\u001B[39mappend(\u001B[43mfunc\u001B[49m\u001B[43m(\u001B[49m\u001B[43mv\u001B[49m\u001B[43m)\u001B[49m)\n\u001B[1;32m   1067\u001B[0m \u001B[38;5;28;01mif\u001B[39;00m ret:\n\u001B[1;32m   1068\u001B[0m     \u001B[38;5;28mself\u001B[39m\u001B[38;5;241m.\u001B[39mpchanged()\n",
      "File \u001B[0;32m~/anaconda3/envs/csc492_v2/lib/python3.9/site-packages/matplotlib/axes/_base.py:75\u001B[0m, in \u001B[0;36m_axis_method_wrapper.__set_name__.<locals>.wrapper\u001B[0;34m(self, *args, **kwargs)\u001B[0m\n\u001B[1;32m     74\u001B[0m \u001B[38;5;28;01mdef\u001B[39;00m \u001B[38;5;21mwrapper\u001B[39m(\u001B[38;5;28mself\u001B[39m, \u001B[38;5;241m*\u001B[39margs, \u001B[38;5;241m*\u001B[39m\u001B[38;5;241m*\u001B[39mkwargs):\n\u001B[0;32m---> 75\u001B[0m     \u001B[38;5;28;01mreturn\u001B[39;00m \u001B[43mget_method\u001B[49m\u001B[43m(\u001B[49m\u001B[38;5;28;43mself\u001B[39;49m\u001B[43m)\u001B[49m\u001B[43m(\u001B[49m\u001B[38;5;241;43m*\u001B[39;49m\u001B[43margs\u001B[49m\u001B[43m,\u001B[49m\u001B[43m \u001B[49m\u001B[38;5;241;43m*\u001B[39;49m\u001B[38;5;241;43m*\u001B[39;49m\u001B[43mkwargs\u001B[49m\u001B[43m)\u001B[49m\n",
      "File \u001B[0;32m~/anaconda3/envs/csc492_v2/lib/python3.9/site-packages/matplotlib/axis.py:1855\u001B[0m, in \u001B[0;36mAxis.set_ticks\u001B[0;34m(self, ticks, labels, minor, **kwargs)\u001B[0m\n\u001B[1;32m   1829\u001B[0m \u001B[38;5;28;01mdef\u001B[39;00m \u001B[38;5;21mset_ticks\u001B[39m(\u001B[38;5;28mself\u001B[39m, ticks, labels\u001B[38;5;241m=\u001B[39m\u001B[38;5;28;01mNone\u001B[39;00m, \u001B[38;5;241m*\u001B[39m, minor\u001B[38;5;241m=\u001B[39m\u001B[38;5;28;01mFalse\u001B[39;00m, \u001B[38;5;241m*\u001B[39m\u001B[38;5;241m*\u001B[39mkwargs):\n\u001B[1;32m   1830\u001B[0m     \u001B[38;5;124;03m\"\"\"\u001B[39;00m\n\u001B[1;32m   1831\u001B[0m \u001B[38;5;124;03m    Set this Axis' tick locations and optionally labels.\u001B[39;00m\n\u001B[1;32m   1832\u001B[0m \n\u001B[0;32m   (...)\u001B[0m\n\u001B[1;32m   1853\u001B[0m \u001B[38;5;124;03m    ticks.\u001B[39;00m\n\u001B[1;32m   1854\u001B[0m \u001B[38;5;124;03m    \"\"\"\u001B[39;00m\n\u001B[0;32m-> 1855\u001B[0m     result \u001B[38;5;241m=\u001B[39m \u001B[38;5;28;43mself\u001B[39;49m\u001B[38;5;241;43m.\u001B[39;49m\u001B[43m_set_tick_locations\u001B[49m\u001B[43m(\u001B[49m\u001B[43mticks\u001B[49m\u001B[43m,\u001B[49m\u001B[43m \u001B[49m\u001B[43mminor\u001B[49m\u001B[38;5;241;43m=\u001B[39;49m\u001B[43mminor\u001B[49m\u001B[43m)\u001B[49m\n\u001B[1;32m   1856\u001B[0m     \u001B[38;5;28;01mif\u001B[39;00m labels \u001B[38;5;129;01mis\u001B[39;00m \u001B[38;5;129;01mnot\u001B[39;00m \u001B[38;5;28;01mNone\u001B[39;00m:\n\u001B[1;32m   1857\u001B[0m         \u001B[38;5;28mself\u001B[39m\u001B[38;5;241m.\u001B[39mset_ticklabels(labels, minor\u001B[38;5;241m=\u001B[39mminor, \u001B[38;5;241m*\u001B[39m\u001B[38;5;241m*\u001B[39mkwargs)\n",
      "File \u001B[0;32m~/anaconda3/envs/csc492_v2/lib/python3.9/site-packages/matplotlib/axis.py:1804\u001B[0m, in \u001B[0;36mAxis._set_tick_locations\u001B[0;34m(self, ticks, minor)\u001B[0m\n\u001B[1;32m   1800\u001B[0m \u001B[38;5;28;01mdef\u001B[39;00m \u001B[38;5;21m_set_tick_locations\u001B[39m(\u001B[38;5;28mself\u001B[39m, ticks, \u001B[38;5;241m*\u001B[39m, minor\u001B[38;5;241m=\u001B[39m\u001B[38;5;28;01mFalse\u001B[39;00m):\n\u001B[1;32m   1801\u001B[0m     \u001B[38;5;66;03m# see docstring of set_ticks\u001B[39;00m\n\u001B[1;32m   1802\u001B[0m \n\u001B[1;32m   1803\u001B[0m     \u001B[38;5;66;03m# XXX if the user changes units, the information will be lost here\u001B[39;00m\n\u001B[0;32m-> 1804\u001B[0m     ticks \u001B[38;5;241m=\u001B[39m \u001B[38;5;28;43mself\u001B[39;49m\u001B[38;5;241;43m.\u001B[39;49m\u001B[43mconvert_units\u001B[49m\u001B[43m(\u001B[49m\u001B[43mticks\u001B[49m\u001B[43m)\u001B[49m\n\u001B[1;32m   1805\u001B[0m     \u001B[38;5;28;01mfor\u001B[39;00m name, axis \u001B[38;5;129;01min\u001B[39;00m \u001B[38;5;28mself\u001B[39m\u001B[38;5;241m.\u001B[39maxes\u001B[38;5;241m.\u001B[39m_get_axis_map()\u001B[38;5;241m.\u001B[39mitems():\n\u001B[1;32m   1806\u001B[0m         \u001B[38;5;28;01mif\u001B[39;00m \u001B[38;5;28mself\u001B[39m \u001B[38;5;129;01mis\u001B[39;00m axis:\n",
      "File \u001B[0;32m~/anaconda3/envs/csc492_v2/lib/python3.9/site-packages/matplotlib/axis.py:1508\u001B[0m, in \u001B[0;36mAxis.convert_units\u001B[0;34m(self, x)\u001B[0m\n\u001B[1;32m   1506\u001B[0m     ret \u001B[38;5;241m=\u001B[39m \u001B[38;5;28mself\u001B[39m\u001B[38;5;241m.\u001B[39mconverter\u001B[38;5;241m.\u001B[39mconvert(x, \u001B[38;5;28mself\u001B[39m\u001B[38;5;241m.\u001B[39munits, \u001B[38;5;28mself\u001B[39m)\n\u001B[1;32m   1507\u001B[0m \u001B[38;5;28;01mexcept\u001B[39;00m \u001B[38;5;167;01mException\u001B[39;00m \u001B[38;5;28;01mas\u001B[39;00m e:\n\u001B[0;32m-> 1508\u001B[0m     \u001B[38;5;28;01mraise\u001B[39;00m munits\u001B[38;5;241m.\u001B[39mConversionError(\u001B[38;5;124m'\u001B[39m\u001B[38;5;124mFailed to convert value(s) to axis \u001B[39m\u001B[38;5;124m'\u001B[39m\n\u001B[1;32m   1509\u001B[0m                                  \u001B[38;5;124mf\u001B[39m\u001B[38;5;124m'\u001B[39m\u001B[38;5;124munits: \u001B[39m\u001B[38;5;132;01m{\u001B[39;00mx\u001B[38;5;132;01m!r}\u001B[39;00m\u001B[38;5;124m'\u001B[39m) \u001B[38;5;28;01mfrom\u001B[39;00m \u001B[38;5;21;01me\u001B[39;00m\n\u001B[1;32m   1510\u001B[0m \u001B[38;5;28;01mreturn\u001B[39;00m ret\n",
      "\u001B[0;31mConversionError\u001B[0m: Failed to convert value(s) to axis units: ['<= 2007', '2008', '2009', '2010', '2011', '2012', '2013', '2014', '2015', '2016', '2017', '2018', '2019', '2020', '2021']"
     ]
    },
    {
     "data": {
      "text/plain": "<Figure size 432x288 with 1 Axes>",
      "image/png": "[encoded data removed]"
     },
     "metadata": {
      "needs_background": "light"
     },
     "output_type": "display_data"
    }
   ],
   "source": [
    "import seaborn as sns\n",
    "plotting_df = pd.DataFrame(list(year_dict.items()))\n",
    "plotting_df.columns = [\"Year\", \"Count\"]\n",
    "plotting_df.sort_values(ascending=True, by=['Year'], inplace=True)\n",
    "#plt.figure(figsize=(20,20))\n",
    "ax = sns.barplot(x='Year', y='Count', data=plotting_df)\n",
    "ax.set(xticks=new_year_keys)\n",
    "plt.show()"
   ],
   "metadata": {
    "collapsed": false,
    "pycharm": {
     "name": "#%%\n"
    }
   }
  },
  {
   "cell_type": "code",
   "execution_count": 15,
   "outputs": [
    {
     "name": "stdout",
     "output_type": "stream",
     "text": [
      "['EVE', 'ECCV', 'BRD', 'MTVC', 'SFB', 'SHAP', 'HTAQ', 'STET', 'TCOA', 'RJAC', 'ATEK', 'RCFA', 'SHEL', 'ACDI', 'EAI', 'PORT', 'BFAC', 'WEL', 'SCUA', 'DMA', 'GBLL', 'IFIN', 'NETC', 'APCA', 'DOUG', 'EMP', 'PACI', 'MDV', 'BRCC', 'RMMZ', 'ECCX', 'BIPI', 'RCA', 'PAXS', 'IRRX', 'NFNT', 'MNTN', 'SUAC']\n"
     ]
    }
   ],
   "source": [
    "print(error_list)"
   ],
   "metadata": {
    "collapsed": false,
    "pycharm": {
     "name": "#%%\n"
    }
   }
  },
  {
   "cell_type": "code",
   "execution_count": 94,
   "outputs": [],
   "source": [
    "txt_file = open(\"missing_tickers.txt\", \"w\")\n",
    "for ticker in error_list:\n",
    "    txt_file.write(ticker + '\\n')\n",
    "txt_file.close()"
   ],
   "metadata": {
    "collapsed": false,
    "pycharm": {
     "name": "#%%\n"
    }
   }
  },
  {
   "cell_type": "markdown",
   "source": [
    "<h2>Data Make Supervised, Split, and Train</h2>"
   ],
   "metadata": {
    "collapsed": false,
    "pycharm": {
     "name": "#%% md\n"
    }
   }
  },
  {
   "cell_type": "markdown",
   "source": [
    "<h3>Method 1: Previous Price</h3>"
   ],
   "metadata": {
    "collapsed": false,
    "pycharm": {
     "name": "#%% md\n"
    }
   }
  },
  {
   "cell_type": "code",
   "execution_count": 106,
   "outputs": [],
   "source": [
    "#from Baselines import train_previous_price\n",
    "#from Baselines import train_linear\n",
    "import Baselines"
   ],
   "metadata": {
    "collapsed": false,
    "pycharm": {
     "name": "#%%\n"
    }
   }
  },
  {
   "cell_type": "code",
   "execution_count": 107,
   "outputs": [
    {
     "name": "stdout",
     "output_type": "stream",
     "text": [
      "Ticker BEPI caused problem: With n_samples=1, test_size=0.2 and train_size=None, the resulting train set will be empty. Adjust any of the aforementioned parameters.\n",
      "For the previous price method, the average mse is 70112.71038019816, the average rmse is 8.663542113587901, and the average mape is 0.0613588215261758\n"
     ]
    }
   ],
   "source": [
    "from importlib import reload\n",
    "reload(Baselines)\n",
    "\n",
    "\n",
    "m1_mse, m1_rmse, m1_mape = Baselines.train_previous_price(data_dict)\n",
    "print(f'For the previous price method, the average mse is {m1_mse}, the average rmse is {m1_rmse}, and the average mape is {m1_mape}')"
   ],
   "metadata": {
    "collapsed": false,
    "pycharm": {
     "name": "#%%\n"
    }
   }
  },
  {
   "cell_type": "markdown",
   "source": [
    "<h3>Method 2: Linear Regression</h2>"
   ],
   "metadata": {
    "collapsed": false,
    "pycharm": {
     "name": "#%% md\n"
    }
   }
  },
  {
   "cell_type": "code",
   "execution_count": 108,
   "outputs": [
    {
     "name": "stdout",
     "output_type": "stream",
     "text": [
      "Iteration 100 completed\n",
      "Iteration 200 completed\n",
      "Iteration 300 completed\n",
      "Ticker BEPI caused problem: With n_samples=1, test_size=0.2 and train_size=None, the resulting train set will be empty. Adjust any of the aforementioned parameters.\n",
      "Iteration 400 completed\n",
      "Iteration 500 completed\n",
      "Iteration 600 completed\n",
      "Iteration 700 completed\n",
      "Iteration 800 completed\n",
      "Iteration 900 completed\n",
      "Iteration 1000 completed\n",
      "Iteration 1100 completed\n",
      "Iteration 1200 completed\n",
      "Iteration 1300 completed\n",
      "Iteration 1400 completed\n",
      "Iteration 1500 completed\n",
      "Iteration 1600 completed\n",
      "Iteration 1700 completed\n",
      "Iteration 1800 completed\n",
      "Iteration 1900 completed\n",
      "Iteration 2000 completed\n",
      "Iteration 2100 completed\n",
      "Iteration 2200 completed\n",
      "Iteration 2300 completed\n",
      "Iteration 2400 completed\n",
      "Iteration 2500 completed\n",
      "Iteration 2600 completed\n",
      "Iteration 2700 completed\n",
      "For the previous price method, the average mse is 119159160.6186169, the average rmse is 478.8064684628419, and the average mape is 112.18836453674298\n"
     ]
    }
   ],
   "source": [
    "reload(Baselines)\n",
    "m2_mse, m2_rmse, m2_mape = Baselines.train_linear(data_dict)\n",
    "print(f'For the previous price method, the average mse is {m2_mse}, the average rmse is {m2_rmse}, and the average mape is {m2_mape}')"
   ],
   "metadata": {
    "collapsed": false,
    "pycharm": {
     "name": "#%%\n"
    }
   }
  },
  {
   "cell_type": "code",
   "execution_count": 42,
   "outputs": [
    {
     "data": {
      "text/plain": "['THO', 'STAG']"
     },
     "execution_count": 42,
     "metadata": {},
     "output_type": "execute_result"
    }
   ],
   "source": [
    "list(data_dict.keys())[0:2]"
   ],
   "metadata": {
    "collapsed": false,
    "pycharm": {
     "name": "#%%\n"
    }
   }
  },
  {
   "cell_type": "code",
   "execution_count": 40,
   "outputs": [
    {
     "data": {
      "text/plain": "         Date  Open  High   Low  Close  Adj Close  Volume ticker   y\n0  2021-12-30  9.75   9.9  9.75    9.9        9.9    5900    APN NaN",
      "text/html": "<div>\n<style scoped>\n    .dataframe tbody tr th:only-of-type {\n        vertical-align: middle;\n    }\n\n    .dataframe tbody tr th {\n        vertical-align: top;\n    }\n\n    .dataframe thead th {\n        text-align: right;\n    }\n</style>\n<table border=\"1\" class=\"dataframe\">\n  <thead>\n    <tr style=\"text-align: right;\">\n      <th></th>\n      <th>Date</th>\n      <th>Open</th>\n      <th>High</th>\n      <th>Low</th>\n      <th>Close</th>\n      <th>Adj Close</th>\n      <th>Volume</th>\n      <th>ticker</th>\n      <th>y</th>\n    </tr>\n  </thead>\n  <tbody>\n    <tr>\n      <th>0</th>\n      <td>2021-12-30</td>\n      <td>9.75</td>\n      <td>9.9</td>\n      <td>9.75</td>\n      <td>9.9</td>\n      <td>9.9</td>\n      <td>5900</td>\n      <td>APN</td>\n      <td>NaN</td>\n    </tr>\n  </tbody>\n</table>\n</div>"
     },
     "execution_count": 40,
     "metadata": {},
     "output_type": "execute_result"
    }
   ],
   "source": [
    "data_dict['APN'].head()"
   ],
   "metadata": {
    "collapsed": false,
    "pycharm": {
     "name": "#%%\n"
    }
   }
  },
  {
   "cell_type": "markdown",
   "source": [
    "<h2>Data Split</h2>\n",
    "\n",
    "The split will be a 60/20/20"
   ],
   "metadata": {
    "collapsed": false,
    "pycharm": {
     "name": "#%% md\n"
    }
   }
  },
  {
   "cell_type": "code",
   "source": [
    "#Let us do train-test-split with AAPL stock from 207-01-01 to 2021-12-30\n",
    "master_dataset = get_master_dataset([\"AAPL\", \"GOOG\", \"FB\"])\n",
    "df_google = master_dataset[\"GOOG\"].copy(deep=True)\n",
    "df_facebook = master_dataset[\"FB\"].copy(deep=True)\n",
    "df_apple = master_dataset[\"AAPL\"].copy(deep=True)\n"
   ],
   "metadata": {
    "collapsed": false,
    "pycharm": {
     "name": "#%%\n"
    }
   },
   "execution_count": 31,
   "outputs": [
    {
     "name": "stdout",
     "output_type": "stream",
     "text": [
      "[*********************100%***********************]  3 of 3 completed\n"
     ]
    }
   ]
  },
  {
   "cell_type": "raw",
   "source": [],
   "metadata": {
    "collapsed": false,
    "pycharm": {
     "name": "#%% raw\n"
    }
   }
  },
  {
   "cell_type": "code",
   "execution_count": 54,
   "outputs": [
    {
     "name": "stdout",
     "output_type": "stream",
     "text": [
      "726\n"
     ]
    }
   ],
   "source": [
    "print(len(error_list))"
   ],
   "metadata": {
    "collapsed": false,
    "pycharm": {
     "name": "#%%\n"
    }
   }
  },
  {
   "cell_type": "code",
   "execution_count": 33,
   "outputs": [
    {
     "data": {
      "text/plain": "Open      0\nHigh      0\nLow       0\nClose     0\nVolume    0\ndtype: int64"
     },
     "execution_count": 33,
     "metadata": {},
     "output_type": "execute_result"
    }
   ],
   "source": [
    "df_apple.isna().sum()"
   ],
   "metadata": {
    "collapsed": false,
    "pycharm": {
     "name": "#%%\n"
    }
   }
  },
  {
   "cell_type": "code",
   "execution_count": 34,
   "outputs": [
    {
     "data": {
      "text/plain": "Open      1355\nHigh      1355\nLow       1355\nClose     1355\nVolume    1355\ndtype: int64"
     },
     "execution_count": 34,
     "metadata": {},
     "output_type": "execute_result"
    }
   ],
   "source": [
    "df_facebook.isna().sum()"
   ],
   "metadata": {
    "collapsed": false,
    "pycharm": {
     "name": "#%%\n"
    }
   }
  },
  {
   "cell_type": "code",
   "execution_count": 35,
   "outputs": [
    {
     "data": {
      "text/plain": "            Open  High  Low  Close  Volume\nDate                                      \n2007-01-03   NaN   NaN  NaN    NaN     NaN\n2007-01-04   NaN   NaN  NaN    NaN     NaN\n2007-01-05   NaN   NaN  NaN    NaN     NaN\n2007-01-08   NaN   NaN  NaN    NaN     NaN\n2007-01-09   NaN   NaN  NaN    NaN     NaN",
      "text/html": "<div>\n<style scoped>\n    .dataframe tbody tr th:only-of-type {\n        vertical-align: middle;\n    }\n\n    .dataframe tbody tr th {\n        vertical-align: top;\n    }\n\n    .dataframe thead th {\n        text-align: right;\n    }\n</style>\n<table border=\"1\" class=\"dataframe\">\n  <thead>\n    <tr style=\"text-align: right;\">\n      <th></th>\n      <th>Open</th>\n      <th>High</th>\n      <th>Low</th>\n      <th>Close</th>\n      <th>Volume</th>\n    </tr>\n    <tr>\n      <th>Date</th>\n      <th></th>\n      <th></th>\n      <th></th>\n      <th></th>\n      <th></th>\n    </tr>\n  </thead>\n  <tbody>\n    <tr>\n      <th>2007-01-03</th>\n      <td>NaN</td>\n      <td>NaN</td>\n      <td>NaN</td>\n      <td>NaN</td>\n      <td>NaN</td>\n    </tr>\n    <tr>\n      <th>2007-01-04</th>\n      <td>NaN</td>\n      <td>NaN</td>\n      <td>NaN</td>\n      <td>NaN</td>\n      <td>NaN</td>\n    </tr>\n    <tr>\n      <th>2007-01-05</th>\n      <td>NaN</td>\n      <td>NaN</td>\n      <td>NaN</td>\n      <td>NaN</td>\n      <td>NaN</td>\n    </tr>\n    <tr>\n      <th>2007-01-08</th>\n      <td>NaN</td>\n      <td>NaN</td>\n      <td>NaN</td>\n      <td>NaN</td>\n      <td>NaN</td>\n    </tr>\n    <tr>\n      <th>2007-01-09</th>\n      <td>NaN</td>\n      <td>NaN</td>\n      <td>NaN</td>\n      <td>NaN</td>\n      <td>NaN</td>\n    </tr>\n  </tbody>\n</table>\n</div>"
     },
     "execution_count": 35,
     "metadata": {},
     "output_type": "execute_result"
    }
   ],
   "source": [
    "df_facebook.head()"
   ],
   "metadata": {
    "collapsed": false,
    "pycharm": {
     "name": "#%%\n"
    }
   }
  },
  {
   "cell_type": "code",
   "execution_count": 36,
   "outputs": [],
   "source": [
    "df_facebook.dropna(axis=0, inplace=True, how='any')"
   ],
   "metadata": {
    "collapsed": false,
    "pycharm": {
     "name": "#%%\n"
    }
   }
  },
  {
   "cell_type": "markdown",
   "source": [
    "<h3>Turn datasets into supervised problem for prediction</h3>\n",
    "Want to predict one day in advance"
   ],
   "metadata": {
    "collapsed": false,
    "pycharm": {
     "name": "#%% md\n"
    }
   }
  },
  {
   "cell_type": "code",
   "execution_count": 94,
   "outputs": [],
   "source": [
    "df_facebook[\"y\"] = df_facebook[\"Close\"].shift(periods=1)\n",
    "df_google[\"y\"] = df_google[\"Close\"].shift(periods=1)\n",
    "df_apple[\"y\"] = df_apple[\"Close\"].shift(periods=1)\n",
    "df_facebook.dropna(inplace=True)\n",
    "df_google.dropna(inplace=True)\n",
    "df_apple.dropna(inplace=True)\n",
    "\n",
    "final_list:\n",
    "\n",
    "for ticker in ticker_list:\n",
    "    if ticker not in error_list:\n",
    "        final_list.append(ticker)\n",
    "\n",
    "\n",
    "\n"
   ],
   "metadata": {
    "collapsed": false,
    "pycharm": {
     "name": "#%%\n"
    }
   }
  },
  {
   "cell_type": "markdown",
   "source": [
    "<h3>Train Test Split</h3>"
   ],
   "metadata": {
    "collapsed": false,
    "pycharm": {
     "name": "#%% md\n"
    }
   }
  },
  {
   "cell_type": "markdown",
   "source": [],
   "metadata": {
    "collapsed": false
   }
  },
  {
   "cell_type": "code",
   "source": [
    "from sklearn.model_selection import train_test_split\n",
    "#Google first\n",
    "X = df_google.drop(\"y\", axis=1)\n",
    "y = df_google[\"y\"].copy(deep=True)\n",
    "X_train, X_test, y_train, y_test = train_test_split(X,y, test_size=0.3, random_state=42, shuffle=False)"
   ],
   "metadata": {
    "collapsed": false,
    "pycharm": {
     "name": "#%%\n"
    }
   },
   "execution_count": 95,
   "outputs": []
  },
  {
   "cell_type": "markdown",
   "source": [],
   "metadata": {
    "collapsed": false
   }
  },
  {
   "cell_type": "markdown",
   "source": [
    "<h3>Method 1: Previous Price</h3>\n"
   ],
   "metadata": {
    "collapsed": false,
    "pycharm": {
     "name": "#%% md\n"
    }
   }
  },
  {
   "cell_type": "code",
   "execution_count": 96,
   "outputs": [],
   "source": [
    "from sklearn.metrics import mean_squared_error, mean_absolute_percentage_error\n",
    "print(data)"
   ],
   "metadata": {
    "collapsed": false,
    "pycharm": {
     "name": "#%%\n"
    }
   }
  },
  {
   "cell_type": "markdown",
   "source": [],
   "metadata": {
    "collapsed": false
   }
  },
  {
   "cell_type": "markdown",
   "source": [],
   "metadata": {
    "collapsed": false
   }
  },
  {
   "cell_type": "code",
   "execution_count": 97,
   "outputs": [
    {
     "data": {
      "text/plain": "            Real Closing Price  Predicted Closing\nDate                                             \n2017-07-03          898.700012         908.729980\n2017-07-05          911.710022         898.700012\n2017-07-06          906.690002         911.710022\n2017-07-07          918.590027         906.690002\n2017-07-10          928.799988         918.590027",
      "text/html": "<div>\n<style scoped>\n    .dataframe tbody tr th:only-of-type {\n        vertical-align: middle;\n    }\n\n    .dataframe tbody tr th {\n        vertical-align: top;\n    }\n\n    .dataframe thead th {\n        text-align: right;\n    }\n</style>\n<table border=\"1\" class=\"dataframe\">\n  <thead>\n    <tr style=\"text-align: right;\">\n      <th></th>\n      <th>Real Closing Price</th>\n      <th>Predicted Closing</th>\n    </tr>\n    <tr>\n      <th>Date</th>\n      <th></th>\n      <th></th>\n    </tr>\n  </thead>\n  <tbody>\n    <tr>\n      <th>2017-07-03</th>\n      <td>898.700012</td>\n      <td>908.729980</td>\n    </tr>\n    <tr>\n      <th>2017-07-05</th>\n      <td>911.710022</td>\n      <td>898.700012</td>\n    </tr>\n    <tr>\n      <th>2017-07-06</th>\n      <td>906.690002</td>\n      <td>911.710022</td>\n    </tr>\n    <tr>\n      <th>2017-07-07</th>\n      <td>918.590027</td>\n      <td>906.690002</td>\n    </tr>\n    <tr>\n      <th>2017-07-10</th>\n      <td>928.799988</td>\n      <td>918.590027</td>\n    </tr>\n  </tbody>\n</table>\n</div>"
     },
     "execution_count": 97,
     "metadata": {},
     "output_type": "execute_result"
    }
   ],
   "source": [
    "results_df = pd.DataFrame({\"Real Closing Price\": X_test.Close, \"Predicted Closing\": y_test}).dropna()\n",
    "results_df.head()"
   ],
   "metadata": {
    "collapsed": false,
    "pycharm": {
     "name": "#%%\n"
    }
   }
  },
  {
   "cell_type": "code",
   "execution_count": 100,
   "outputs": [
    {
     "ename": "NameError",
     "evalue": "name 'mean_squared_error' is not defined",
     "output_type": "error",
     "traceback": [
      "\u001B[0;31m---------------------------------------------------------------------------\u001B[0m",
      "\u001B[0;31mNameError\u001B[0m                                 Traceback (most recent call last)",
      "Input \u001B[0;32mIn [100]\u001B[0m, in \u001B[0;36m<module>\u001B[0;34m\u001B[0m\n\u001B[0;32m----> 1\u001B[0m rmse \u001B[38;5;241m=\u001B[39m np\u001B[38;5;241m.\u001B[39msqrt(\u001B[43mmean_squared_error\u001B[49m(results_df[\u001B[38;5;124m\"\u001B[39m\u001B[38;5;124mReal Closing Price\u001B[39m\u001B[38;5;124m\"\u001B[39m], results_df[\u001B[38;5;124m\"\u001B[39m\u001B[38;5;124mPredicted Closing\u001B[39m\u001B[38;5;124m\"\u001B[39m]))\n\u001B[1;32m      2\u001B[0m mape \u001B[38;5;241m=\u001B[39m mean_absolute_percentage_error(results_df[\u001B[38;5;124m\"\u001B[39m\u001B[38;5;124mReal Closing Price\u001B[39m\u001B[38;5;124m\"\u001B[39m], results_df[\u001B[38;5;124m\"\u001B[39m\u001B[38;5;124mPredicted Closing\u001B[39m\u001B[38;5;124m\"\u001B[39m])\n\u001B[1;32m      3\u001B[0m \u001B[38;5;28mprint\u001B[39m(\u001B[38;5;124mf\u001B[39m\u001B[38;5;124m\"\u001B[39m\u001B[38;5;124mThe RMSE is \u001B[39m\u001B[38;5;132;01m{\u001B[39;00mrmse\u001B[38;5;132;01m}\u001B[39;00m\u001B[38;5;124m and mape is \u001B[39m\u001B[38;5;132;01m{\u001B[39;00mmape\u001B[38;5;132;01m}\u001B[39;00m\u001B[38;5;124m\"\u001B[39m)\n",
      "\u001B[0;31mNameError\u001B[0m: name 'mean_squared_error' is not defined"
     ]
    }
   ],
   "source": [
    "rmse = np.sqrt(mean_squared_error(results_df[\"Real Closing Price\"], results_df[\"Predicted Closing\"]))\n",
    "mape = mean_absolute_percentage_error(results_df[\"Real Closing Price\"], results_df[\"Predicted Closing\"])\n",
    "print(f\"The RMSE is {rmse} and mape is {mape}\")"
   ],
   "metadata": {
    "collapsed": false,
    "pycharm": {
     "name": "#%%\n"
    }
   }
  },
  {
   "cell_type": "markdown",
   "source": [
    "<h3>Method 2: OLS</h2>"
   ],
   "metadata": {
    "collapsed": false,
    "pycharm": {
     "name": "#%% md\n"
    }
   }
  },
  {
   "cell_type": "code",
   "execution_count": 47,
   "outputs": [
    {
     "data": {
      "text/plain": "2718"
     },
     "execution_count": 47,
     "metadata": {},
     "output_type": "execute_result"
    }
   ],
   "source": [
    "len(data_dict.keys())"
   ],
   "metadata": {
    "collapsed": false,
    "pycharm": {
     "name": "#%%\n"
    }
   }
  },
  {
   "cell_type": "code",
   "execution_count": 99,
   "outputs": [
    {
     "name": "stdout",
     "output_type": "stream",
     "text": [
      "The RMSE is 16.335945583152032 and mape is 0.006567597371992344\n"
     ]
    }
   ],
   "source": [
    "from sklearn.linear_model import LinearRegression\n",
    "ols = LinearRegression(n_jobs=4)\n",
    "ols.fit(X_train, y_train)\n",
    "predictions = ols.predict(X_test)\n",
    "\n",
    "rmse = np.sqrt(mean_squared_error(y_test, predictions))\n",
    "mape = mean_absolute_percentage_error(y_test, predictions)\n",
    "print(f\"The RMSE is {rmse} and mape is {mape}\")"
   ],
   "metadata": {
    "collapsed": false,
    "pycharm": {
     "name": "#%%\n"
    }
   }
  },
  {
   "cell_type": "code",
   "execution_count": 88,
   "outputs": [
    {
     "data": {
      "text/plain": "                  Open        High         Low       Close    Volume\nDate                                                                \n2007-01-03  232.129913  237.440018  229.694046  232.921951  15470772\n2007-01-04  233.624313  241.071411  233.300537  240.727692  15834329\n2007-01-05  240.349106  242.839783  238.162308  242.685349  13795717\n2007-01-08  242.934418  244.020355  240.199677  240.887100   9544441\n2007-01-09  241.818604  243.213379  239.701538  241.843506  10803142",
      "text/html": "<div>\n<style scoped>\n    .dataframe tbody tr th:only-of-type {\n        vertical-align: middle;\n    }\n\n    .dataframe tbody tr th {\n        vertical-align: top;\n    }\n\n    .dataframe thead th {\n        text-align: right;\n    }\n</style>\n<table border=\"1\" class=\"dataframe\">\n  <thead>\n    <tr style=\"text-align: right;\">\n      <th></th>\n      <th>Open</th>\n      <th>High</th>\n      <th>Low</th>\n      <th>Close</th>\n      <th>Volume</th>\n    </tr>\n    <tr>\n      <th>Date</th>\n      <th></th>\n      <th></th>\n      <th></th>\n      <th></th>\n      <th></th>\n    </tr>\n  </thead>\n  <tbody>\n    <tr>\n      <th>2007-01-03</th>\n      <td>232.129913</td>\n      <td>237.440018</td>\n      <td>229.694046</td>\n      <td>232.921951</td>\n      <td>15470772</td>\n    </tr>\n    <tr>\n      <th>2007-01-04</th>\n      <td>233.624313</td>\n      <td>241.071411</td>\n      <td>233.300537</td>\n      <td>240.727692</td>\n      <td>15834329</td>\n    </tr>\n    <tr>\n      <th>2007-01-05</th>\n      <td>240.349106</td>\n      <td>242.839783</td>\n      <td>238.162308</td>\n      <td>242.685349</td>\n      <td>13795717</td>\n    </tr>\n    <tr>\n      <th>2007-01-08</th>\n      <td>242.934418</td>\n      <td>244.020355</td>\n      <td>240.199677</td>\n      <td>240.887100</td>\n      <td>9544441</td>\n    </tr>\n    <tr>\n      <th>2007-01-09</th>\n      <td>241.818604</td>\n      <td>243.213379</td>\n      <td>239.701538</td>\n      <td>241.843506</td>\n      <td>10803142</td>\n    </tr>\n  </tbody>\n</table>\n</div>"
     },
     "execution_count": 88,
     "metadata": {},
     "output_type": "execute_result"
    }
   ],
   "source": [
    "X_train.head()"
   ],
   "metadata": {
    "collapsed": false,
    "pycharm": {
     "name": "#%%\n"
    }
   }
  },
  {
   "cell_type": "markdown",
   "source": [
    "<h3>Method 3: Gradient Boosted Trees</h3>"
   ],
   "metadata": {
    "collapsed": false,
    "pycharm": {
     "name": "#%% md\n"
    }
   }
  },
  {
   "cell_type": "code",
   "execution_count": 102,
   "outputs": [
    {
     "name": "stdout",
     "output_type": "stream",
     "text": [
      "The RMSE is 787.8265283590737 and mape is 0.2704109081310963\n"
     ]
    },
    {
     "name": "stderr",
     "output_type": "stream",
     "text": [
      "/home/kagema/anaconda3/envs/csc492_v2/lib/python3.9/site-packages/xgboost/data.py:250: FutureWarning: pandas.Int64Index is deprecated and will be removed from pandas in a future version. Use pandas.Index with the appropriate dtype instead.\n",
      "  elif isinstance(data.columns, (pd.Int64Index, pd.RangeIndex)):\n"
     ]
    }
   ],
   "source": [
    "from xgboost import XGBRegressor\n",
    "xgb = XGBRegressor()\n",
    "xgb.fit(X_train, np.ravel(y_train))\n",
    "predictions = xgb.predict(X_test)\n",
    "\n",
    "rmse = np.sqrt(mean_squared_error(y_test, predictions))\n",
    "mape = mean_absolute_percentage_error(y_test, predictions)\n",
    "print(f\"The RMSE is {rmse} and mape is {mape}\")"
   ],
   "metadata": {
    "collapsed": false,
    "pycharm": {
     "name": "#%%\n"
    }
   }
  },
  {
   "cell_type": "markdown",
   "source": [
    "Clearly the abode didn't work out, lets try with a random forest grid search"
   ],
   "metadata": {
    "collapsed": false,
    "pycharm": {
     "name": "#%% md\n"
    }
   }
  },
  {
   "cell_type": "code",
   "execution_count": 112,
   "outputs": [
    {
     "name": "stdout",
     "output_type": "stream",
     "text": [
      "Fitting 5 folds for each of 18 candidates, totalling 90 fits\n",
      "[CV 1/5] END bootstrap=True, max_depth=5, max_features=auto, n_estimators=100;, score=-8.432 total time=   0.3s\n",
      "[CV 2/5] END bootstrap=True, max_depth=5, max_features=auto, n_estimators=100;, score=-5.561 total time=   0.3s\n",
      "[CV 3/5] END bootstrap=True, max_depth=5, max_features=auto, n_estimators=100;, score=-7.084 total time=   0.3s\n",
      "[CV 4/5] END bootstrap=True, max_depth=5, max_features=auto, n_estimators=100;, score=-21.255 total time=   0.3s\n",
      "[CV 5/5] END bootstrap=True, max_depth=5, max_features=auto, n_estimators=100;, score=-172.943 total time=   0.3s\n",
      "[CV 1/5] END bootstrap=True, max_depth=5, max_features=auto, n_estimators=200;, score=-8.411 total time=   0.5s\n",
      "[CV 2/5] END bootstrap=True, max_depth=5, max_features=auto, n_estimators=200;, score=-5.577 total time=   0.5s\n",
      "[CV 3/5] END bootstrap=True, max_depth=5, max_features=auto, n_estimators=200;, score=-7.134 total time=   0.5s\n",
      "[CV 4/5] END bootstrap=True, max_depth=5, max_features=auto, n_estimators=200;, score=-21.326 total time=   0.5s\n",
      "[CV 5/5] END bootstrap=True, max_depth=5, max_features=auto, n_estimators=200;, score=-173.010 total time=   0.5s\n",
      "[CV 1/5] END bootstrap=True, max_depth=5, max_features=auto, n_estimators=300;, score=-8.412 total time=   0.7s\n",
      "[CV 2/5] END bootstrap=True, max_depth=5, max_features=auto, n_estimators=300;, score=-5.503 total time=   0.7s\n",
      "[CV 3/5] END bootstrap=True, max_depth=5, max_features=auto, n_estimators=300;, score=-7.137 total time=   0.7s\n",
      "[CV 4/5] END bootstrap=True, max_depth=5, max_features=auto, n_estimators=300;, score=-21.335 total time=   0.7s\n",
      "[CV 5/5] END bootstrap=True, max_depth=5, max_features=auto, n_estimators=300;, score=-173.162 total time=   0.7s\n",
      "[CV 1/5] END bootstrap=True, max_depth=8, max_features=auto, n_estimators=100;, score=-4.360 total time=   0.3s\n",
      "[CV 2/5] END bootstrap=True, max_depth=8, max_features=auto, n_estimators=100;, score=-2.736 total time=   0.3s\n",
      "[CV 3/5] END bootstrap=True, max_depth=8, max_features=auto, n_estimators=100;, score=-4.601 total time=   0.4s\n",
      "[CV 4/5] END bootstrap=True, max_depth=8, max_features=auto, n_estimators=100;, score=-14.769 total time=   0.4s\n",
      "[CV 5/5] END bootstrap=True, max_depth=8, max_features=auto, n_estimators=100;, score=-167.767 total time=   0.3s\n",
      "[CV 1/5] END bootstrap=True, max_depth=8, max_features=auto, n_estimators=200;, score=-4.362 total time=   0.7s\n",
      "[CV 2/5] END bootstrap=True, max_depth=8, max_features=auto, n_estimators=200;, score=-2.721 total time=   0.7s\n",
      "[CV 3/5] END bootstrap=True, max_depth=8, max_features=auto, n_estimators=200;, score=-4.510 total time=   0.7s\n",
      "[CV 4/5] END bootstrap=True, max_depth=8, max_features=auto, n_estimators=200;, score=-14.619 total time=   0.7s\n",
      "[CV 5/5] END bootstrap=True, max_depth=8, max_features=auto, n_estimators=200;, score=-167.763 total time=   0.7s\n",
      "[CV 1/5] END bootstrap=True, max_depth=8, max_features=auto, n_estimators=300;, score=-4.358 total time=   1.0s\n",
      "[CV 2/5] END bootstrap=True, max_depth=8, max_features=auto, n_estimators=300;, score=-2.700 total time=   1.0s\n",
      "[CV 3/5] END bootstrap=True, max_depth=8, max_features=auto, n_estimators=300;, score=-4.482 total time=   1.0s\n",
      "[CV 4/5] END bootstrap=True, max_depth=8, max_features=auto, n_estimators=300;, score=-14.584 total time=   1.0s\n",
      "[CV 5/5] END bootstrap=True, max_depth=8, max_features=auto, n_estimators=300;, score=-167.788 total time=   1.0s\n",
      "[CV 1/5] END bootstrap=True, max_depth=None, max_features=auto, n_estimators=100;, score=-4.405 total time=   0.4s\n",
      "[CV 2/5] END bootstrap=True, max_depth=None, max_features=auto, n_estimators=100;, score=-2.688 total time=   0.4s\n",
      "[CV 3/5] END bootstrap=True, max_depth=None, max_features=auto, n_estimators=100;, score=-4.750 total time=   0.4s\n",
      "[CV 4/5] END bootstrap=True, max_depth=None, max_features=auto, n_estimators=100;, score=-14.711 total time=   0.4s\n",
      "[CV 5/5] END bootstrap=True, max_depth=None, max_features=auto, n_estimators=100;, score=-167.826 total time=   0.4s\n",
      "[CV 1/5] END bootstrap=True, max_depth=None, max_features=auto, n_estimators=200;, score=-4.407 total time=   0.9s\n",
      "[CV 2/5] END bootstrap=True, max_depth=None, max_features=auto, n_estimators=200;, score=-2.663 total time=   0.9s\n",
      "[CV 3/5] END bootstrap=True, max_depth=None, max_features=auto, n_estimators=200;, score=-4.576 total time=   0.9s\n",
      "[CV 4/5] END bootstrap=True, max_depth=None, max_features=auto, n_estimators=200;, score=-14.611 total time=   0.9s\n",
      "[CV 5/5] END bootstrap=True, max_depth=None, max_features=auto, n_estimators=200;, score=-167.793 total time=   0.9s\n",
      "[CV 1/5] END bootstrap=True, max_depth=None, max_features=auto, n_estimators=300;, score=-4.399 total time=   1.3s\n",
      "[CV 2/5] END bootstrap=True, max_depth=None, max_features=auto, n_estimators=300;, score=-2.643 total time=   1.3s\n",
      "[CV 3/5] END bootstrap=True, max_depth=None, max_features=auto, n_estimators=300;, score=-4.537 total time=   1.4s\n",
      "[CV 4/5] END bootstrap=True, max_depth=None, max_features=auto, n_estimators=300;, score=-14.560 total time=   1.4s\n",
      "[CV 5/5] END bootstrap=True, max_depth=None, max_features=auto, n_estimators=300;, score=-167.808 total time=   1.4s\n",
      "[CV 1/5] END bootstrap=False, max_depth=5, max_features=auto, n_estimators=100;, score=-9.805 total time=   0.4s\n",
      "[CV 2/5] END bootstrap=False, max_depth=5, max_features=auto, n_estimators=100;, score=-7.693 total time=   0.3s\n",
      "[CV 3/5] END bootstrap=False, max_depth=5, max_features=auto, n_estimators=100;, score=-8.745 total time=   0.4s\n",
      "[CV 4/5] END bootstrap=False, max_depth=5, max_features=auto, n_estimators=100;, score=-22.428 total time=   0.4s\n",
      "[CV 5/5] END bootstrap=False, max_depth=5, max_features=auto, n_estimators=100;, score=-172.582 total time=   0.4s\n",
      "[CV 1/5] END bootstrap=False, max_depth=5, max_features=auto, n_estimators=200;, score=-9.809 total time=   0.7s\n",
      "[CV 2/5] END bootstrap=False, max_depth=5, max_features=auto, n_estimators=200;, score=-7.693 total time=   0.7s\n",
      "[CV 3/5] END bootstrap=False, max_depth=5, max_features=auto, n_estimators=200;, score=-8.740 total time=   0.7s\n",
      "[CV 4/5] END bootstrap=False, max_depth=5, max_features=auto, n_estimators=200;, score=-22.475 total time=   0.7s\n",
      "[CV 5/5] END bootstrap=False, max_depth=5, max_features=auto, n_estimators=200;, score=-172.582 total time=   0.7s\n",
      "[CV 1/5] END bootstrap=False, max_depth=5, max_features=auto, n_estimators=300;, score=-9.809 total time=   1.0s\n",
      "[CV 2/5] END bootstrap=False, max_depth=5, max_features=auto, n_estimators=300;, score=-7.693 total time=   1.0s\n",
      "[CV 3/5] END bootstrap=False, max_depth=5, max_features=auto, n_estimators=300;, score=-8.740 total time=   1.1s\n",
      "[CV 4/5] END bootstrap=False, max_depth=5, max_features=auto, n_estimators=300;, score=-22.490 total time=   1.0s\n",
      "[CV 5/5] END bootstrap=False, max_depth=5, max_features=auto, n_estimators=300;, score=-172.582 total time=   1.0s\n",
      "[CV 1/5] END bootstrap=False, max_depth=8, max_features=auto, n_estimators=100;, score=-4.962 total time=   0.5s\n",
      "[CV 2/5] END bootstrap=False, max_depth=8, max_features=auto, n_estimators=100;, score=-3.288 total time=   0.5s\n",
      "[CV 3/5] END bootstrap=False, max_depth=8, max_features=auto, n_estimators=100;, score=-4.631 total time=   0.5s\n",
      "[CV 4/5] END bootstrap=False, max_depth=8, max_features=auto, n_estimators=100;, score=-14.844 total time=   0.5s\n",
      "[CV 5/5] END bootstrap=False, max_depth=8, max_features=auto, n_estimators=100;, score=-167.454 total time=   0.5s\n",
      "[CV 1/5] END bootstrap=False, max_depth=8, max_features=auto, n_estimators=200;, score=-4.961 total time=   1.0s\n",
      "[CV 2/5] END bootstrap=False, max_depth=8, max_features=auto, n_estimators=200;, score=-3.286 total time=   1.0s\n",
      "[CV 3/5] END bootstrap=False, max_depth=8, max_features=auto, n_estimators=200;, score=-4.623 total time=   1.0s\n",
      "[CV 4/5] END bootstrap=False, max_depth=8, max_features=auto, n_estimators=200;, score=-14.860 total time=   1.0s\n",
      "[CV 5/5] END bootstrap=False, max_depth=8, max_features=auto, n_estimators=200;, score=-167.454 total time=   1.0s\n",
      "[CV 1/5] END bootstrap=False, max_depth=8, max_features=auto, n_estimators=300;, score=-4.965 total time=   1.5s\n",
      "[CV 2/5] END bootstrap=False, max_depth=8, max_features=auto, n_estimators=300;, score=-3.285 total time=   1.4s\n",
      "[CV 3/5] END bootstrap=False, max_depth=8, max_features=auto, n_estimators=300;, score=-4.639 total time=   1.4s\n",
      "[CV 4/5] END bootstrap=False, max_depth=8, max_features=auto, n_estimators=300;, score=-14.855 total time=   1.4s\n",
      "[CV 5/5] END bootstrap=False, max_depth=8, max_features=auto, n_estimators=300;, score=-167.454 total time=   1.4s\n",
      "[CV 1/5] END bootstrap=False, max_depth=None, max_features=auto, n_estimators=100;, score=-5.324 total time=   0.7s\n",
      "[CV 2/5] END bootstrap=False, max_depth=None, max_features=auto, n_estimators=100;, score=-3.182 total time=   0.7s\n",
      "[CV 3/5] END bootstrap=False, max_depth=None, max_features=auto, n_estimators=100;, score=-4.699 total time=   0.7s\n",
      "[CV 4/5] END bootstrap=False, max_depth=None, max_features=auto, n_estimators=100;, score=-14.154 total time=   0.7s\n",
      "[CV 5/5] END bootstrap=False, max_depth=None, max_features=auto, n_estimators=100;, score=-167.959 total time=   0.7s\n",
      "[CV 1/5] END bootstrap=False, max_depth=None, max_features=auto, n_estimators=200;, score=-5.326 total time=   1.4s\n",
      "[CV 2/5] END bootstrap=False, max_depth=None, max_features=auto, n_estimators=200;, score=-3.181 total time=   1.4s\n",
      "[CV 3/5] END bootstrap=False, max_depth=None, max_features=auto, n_estimators=200;, score=-4.628 total time=   1.4s\n",
      "[CV 4/5] END bootstrap=False, max_depth=None, max_features=auto, n_estimators=200;, score=-14.169 total time=   1.4s\n",
      "[CV 5/5] END bootstrap=False, max_depth=None, max_features=auto, n_estimators=200;, score=-167.959 total time=   1.4s\n",
      "[CV 1/5] END bootstrap=False, max_depth=None, max_features=auto, n_estimators=300;, score=-5.322 total time=   2.1s\n",
      "[CV 2/5] END bootstrap=False, max_depth=None, max_features=auto, n_estimators=300;, score=-3.183 total time=   2.0s\n",
      "[CV 3/5] END bootstrap=False, max_depth=None, max_features=auto, n_estimators=300;, score=-4.621 total time=   2.1s\n",
      "[CV 4/5] END bootstrap=False, max_depth=None, max_features=auto, n_estimators=300;, score=-14.159 total time=   2.1s\n",
      "[CV 5/5] END bootstrap=False, max_depth=None, max_features=auto, n_estimators=300;, score=-167.959 total time=   2.1s\n"
     ]
    }
   ],
   "source": [
    "from sklearn.ensemble import RandomForestRegressor\n",
    "from sklearn.model_selection import GridSearchCV\n",
    "random_forest = RandomForestRegressor(random_state=54) #random_state is so we can reproduce results\n",
    "\n",
    "parameters = {'n_estimators': [100,200, 300],\n",
    "              'max_depth':[5, 8, None],\n",
    "              #'min_samples': [5, 10, 25, 50],\n",
    "              'max_features': ['auto'],\n",
    "              'bootstrap': [True, False]}\n",
    "model_cv_rf = GridSearchCV(estimator=random_forest, param_grid=parameters,\n",
    "                            scoring = 'neg_root_mean_squared_error',\n",
    "                            verbose=4,\n",
    "                            return_train_score=False,\n",
    "                            refit=True)\n",
    "\n",
    "model_cv_rf.fit(X_train, np.ravel(y_train))\n",
    "predictions = model_cv_rf.predict(X_test)"
   ],
   "metadata": {
    "collapsed": false,
    "pycharm": {
     "name": "#%%\n"
    }
   }
  },
  {
   "cell_type": "code",
   "execution_count": 113,
   "outputs": [
    {
     "name": "stdout",
     "output_type": "stream",
     "text": [
      "The RMSE is 789.4014241155999 and mape is 0.27179167893829853\n"
     ]
    }
   ],
   "source": [
    "rmse = np.sqrt(mean_squared_error(y_test, predictions))\n",
    "mape = mean_absolute_percentage_error(y_test, predictions)\n",
    "print(f\"The RMSE is {rmse} and mape is {mape}\")"
   ],
   "metadata": {
    "collapsed": false,
    "pycharm": {
     "name": "#%%\n"
    }
   }
  },
  {
   "cell_type": "markdown",
   "source": [
    "<h2>Data Cleaning</h2>\n",
    "\n",
    "In previous papers researched, the vast majority of them never train on all stocks. Papers either subjectively train on a single stock, or train on stocks from indices such as the S&P 500 or the Dow Jones. The reason papers choose to trian on stocks form these indices is that those stocks will meet more stringent conditiosn that may make them ideal for machine learning. Therefore, to a method we employ to filter out stocks is to filter out stocks with....\n",
    "\n",
    "Existing papers either:\n",
    "1. Frame problem as a multi-stock prediction by only utilizing closing price of mulitple stocks appended together\n",
    "2. Use some initial model (like CNN) to choose stock to train\n",
    "\n",
    "Furthermore, so that we have enough data let us only train on stocks that have at least 3 years worth of stock data\n",
    "\n",
    "There are a couple things that we will try when building a neural network model for prediction\n",
    "1. Predicting on only a single stock OHLC\n",
    "2. Predicting on only the closing price of a single stock\n",
    "3. Predicting on the OHLC of multiple stocks (ohlc of each stock concatenated with each other) and backpropagatino on only the closing prices of those stocks\n",
    "    - will have to make sure that those stocks exist on those time frames\n",
    "4. Predicting on the Closing price of multiple stocks, with closing price appended together\n",
    "    - only predict where data exists\n",
    "    -\n",
    "Note that volatility is important to building an effective model. Therefore:\n",
    "- let us remove the stocks in the datset that have a volume of 0\n",
    "- let us remove stocks that have nver had an RSI above 70 or below 300, as this means the stock has never been overbought or oversold, and therefore likely not had any strong volatility\n",
    "\n",
    "\n",
    "For data report\n",
    "- stock prices are divident adjusted\n",
    "- we treat missing values by filling with the values from the previous day"
   ],
   "metadata": {
    "collapsed": false
   }
  },
  {
   "cell_type": "code",
   "execution_count": null,
   "outputs": [],
   "source": [],
   "metadata": {
    "collapsed": false,
    "pycharm": {
     "name": "#%%\n"
    }
   }
  },
  {
   "cell_type": "code",
   "execution_count": null,
   "outputs": [],
   "source": [],
   "metadata": {
    "collapsed": false,
    "pycharm": {
     "name": "#%%\n"
    }
   }
  },
  {
   "cell_type": "code",
   "execution_count": null,
   "outputs": [],
   "source": [],
   "metadata": {
    "collapsed": false,
    "pycharm": {
     "name": "#%%\n"
    }
   }
  },
  {
   "cell_type": "code",
   "execution_count": null,
   "outputs": [],
   "source": [],
   "metadata": {
    "collapsed": false,
    "pycharm": {
     "name": "#%%\n"
    }
   }
  },
  {
   "cell_type": "code",
   "execution_count": null,
   "outputs": [],
   "source": [],
   "metadata": {
    "collapsed": false,
    "pycharm": {
     "name": "#%%\n"
    }
   }
  },
  {
   "cell_type": "code",
   "execution_count": 29,
   "outputs": [
    {
     "ename": "IEXAuthenticationError",
     "evalue": "The IEX Cloud API key must be provided either through the token variable or through the environmental variable IEX_TOKEN.",
     "output_type": "error",
     "traceback": [
      "\u001B[0;31m---------------------------------------------------------------------------\u001B[0m",
      "\u001B[0;31mIEXAuthenticationError\u001B[0m                    Traceback (most recent call last)",
      "Input \u001B[0;32mIn [29]\u001B[0m, in \u001B[0;36m<module>\u001B[0;34m\u001B[0m\n\u001B[1;32m      6\u001B[0m start \u001B[38;5;241m=\u001B[39m datetime(\u001B[38;5;241m2017\u001B[39m, \u001B[38;5;241m1\u001B[39m, \u001B[38;5;241m1\u001B[39m)\n\u001B[1;32m      7\u001B[0m end \u001B[38;5;241m=\u001B[39m datetime(\u001B[38;5;241m2021\u001B[39m, \u001B[38;5;241m1\u001B[39m, \u001B[38;5;241m1\u001B[39m)\n\u001B[0;32m----> 9\u001B[0m df \u001B[38;5;241m=\u001B[39m \u001B[43mget_historical_data\u001B[49m\u001B[43m(\u001B[49m\u001B[43msymbol\u001B[49m\u001B[43m,\u001B[49m\u001B[43m \u001B[49m\u001B[43mstart\u001B[49m\u001B[43m,\u001B[49m\u001B[43m \u001B[49m\u001B[43mend\u001B[49m\u001B[43m,\u001B[49m\u001B[43m \u001B[49m\u001B[43moutput_format\u001B[49m\u001B[43m \u001B[49m\u001B[38;5;241;43m=\u001B[39;49m\u001B[43m \u001B[49m\u001B[38;5;124;43m'\u001B[39;49m\u001B[38;5;124;43mpandas\u001B[39;49m\u001B[38;5;124;43m'\u001B[39;49m\u001B[43m)\u001B[49m\n",
      "File \u001B[0;32m~/anaconda3/envs/csc492_v2/lib/python3.9/site-packages/iexfinance/stocks/__init__.py:42\u001B[0m, in \u001B[0;36mget_historical_data\u001B[0;34m(symbols, start, end, close_only, **kwargs)\u001B[0m\n\u001B[1;32m     14\u001B[0m \u001B[38;5;28;01mdef\u001B[39;00m \u001B[38;5;21mget_historical_data\u001B[39m(symbols, start\u001B[38;5;241m=\u001B[39m\u001B[38;5;28;01mNone\u001B[39;00m, end\u001B[38;5;241m=\u001B[39m\u001B[38;5;28;01mNone\u001B[39;00m, close_only\u001B[38;5;241m=\u001B[39m\u001B[38;5;28;01mFalse\u001B[39;00m, \u001B[38;5;241m*\u001B[39m\u001B[38;5;241m*\u001B[39mkwargs):\n\u001B[1;32m     15\u001B[0m     \u001B[38;5;124;03m\"\"\"\u001B[39;00m\n\u001B[1;32m     16\u001B[0m \u001B[38;5;124;03m    Function to obtain historical date for a symbol or list of\u001B[39;00m\n\u001B[1;32m     17\u001B[0m \u001B[38;5;124;03m    symbols. Return an instance of HistoricalReader\u001B[39;00m\n\u001B[0;32m   (...)\u001B[0m\n\u001B[1;32m     40\u001B[0m \u001B[38;5;124;03m        Historical stock prices over date range, start to end\u001B[39;00m\n\u001B[1;32m     41\u001B[0m \u001B[38;5;124;03m    \"\"\"\u001B[39;00m\n\u001B[0;32m---> 42\u001B[0m     \u001B[38;5;28;01mreturn\u001B[39;00m \u001B[43mHistoricalReader\u001B[49m\u001B[43m(\u001B[49m\n\u001B[1;32m     43\u001B[0m \u001B[43m        \u001B[49m\u001B[43msymbols\u001B[49m\u001B[43m,\u001B[49m\u001B[43m \u001B[49m\u001B[43mstart\u001B[49m\u001B[38;5;241;43m=\u001B[39;49m\u001B[43mstart\u001B[49m\u001B[43m,\u001B[49m\u001B[43m \u001B[49m\u001B[43mend\u001B[49m\u001B[38;5;241;43m=\u001B[39;49m\u001B[43mend\u001B[49m\u001B[43m,\u001B[49m\u001B[43m \u001B[49m\u001B[43mclose_only\u001B[49m\u001B[38;5;241;43m=\u001B[39;49m\u001B[43mclose_only\u001B[49m\u001B[43m,\u001B[49m\u001B[43m \u001B[49m\u001B[38;5;241;43m*\u001B[39;49m\u001B[38;5;241;43m*\u001B[39;49m\u001B[43mkwargs\u001B[49m\n\u001B[1;32m     44\u001B[0m \u001B[43m    \u001B[49m\u001B[43m)\u001B[49m\u001B[38;5;241m.\u001B[39mfetch()\n",
      "File \u001B[0;32m~/anaconda3/envs/csc492_v2/lib/python3.9/site-packages/iexfinance/stocks/historical.py:20\u001B[0m, in \u001B[0;36mHistoricalReader.__init__\u001B[0;34m(self, symbols, start, end, close_only, **kwargs)\u001B[0m\n\u001B[1;32m     18\u001B[0m \u001B[38;5;28mself\u001B[39m\u001B[38;5;241m.\u001B[39mstart, \u001B[38;5;28mself\u001B[39m\u001B[38;5;241m.\u001B[39mend \u001B[38;5;241m=\u001B[39m _sanitize_dates(start, end)\n\u001B[1;32m     19\u001B[0m \u001B[38;5;28mself\u001B[39m\u001B[38;5;241m.\u001B[39mclose_only \u001B[38;5;241m=\u001B[39m close_only\n\u001B[0;32m---> 20\u001B[0m \u001B[38;5;28;43msuper\u001B[39;49m\u001B[43m(\u001B[49m\u001B[43mHistoricalReader\u001B[49m\u001B[43m,\u001B[49m\u001B[43m \u001B[49m\u001B[38;5;28;43mself\u001B[39;49m\u001B[43m)\u001B[49m\u001B[38;5;241;43m.\u001B[39;49m\u001B[38;5;21;43m__init__\u001B[39;49m\u001B[43m(\u001B[49m\u001B[43msymbols\u001B[49m\u001B[43m,\u001B[49m\u001B[43m \u001B[49m\u001B[38;5;241;43m*\u001B[39;49m\u001B[38;5;241;43m*\u001B[39;49m\u001B[43mkwargs\u001B[49m\u001B[43m)\u001B[49m\n",
      "File \u001B[0;32m~/anaconda3/envs/csc492_v2/lib/python3.9/site-packages/iexfinance/stocks/base.py:34\u001B[0m, in \u001B[0;36mStock.__init__\u001B[0;34m(self, symbols, **kwargs)\u001B[0m\n\u001B[1;32m     32\u001B[0m \u001B[38;5;28mself\u001B[39m\u001B[38;5;241m.\u001B[39msymbols \u001B[38;5;241m=\u001B[39m \u001B[38;5;28mlist\u001B[39m(\u001B[38;5;28mmap\u001B[39m(\u001B[38;5;28;01mlambda\u001B[39;00m x: x\u001B[38;5;241m.\u001B[39mupper(), _handle_lists(symbols)))\n\u001B[1;32m     33\u001B[0m \u001B[38;5;28mself\u001B[39m\u001B[38;5;241m.\u001B[39mendpoints \u001B[38;5;241m=\u001B[39m []\n\u001B[0;32m---> 34\u001B[0m \u001B[38;5;28;43msuper\u001B[39;49m\u001B[43m(\u001B[49m\u001B[43mStock\u001B[49m\u001B[43m,\u001B[49m\u001B[43m \u001B[49m\u001B[38;5;28;43mself\u001B[39;49m\u001B[43m)\u001B[49m\u001B[38;5;241;43m.\u001B[39;49m\u001B[38;5;21;43m__init__\u001B[39;49m\u001B[43m(\u001B[49m\u001B[38;5;241;43m*\u001B[39;49m\u001B[38;5;241;43m*\u001B[39;49m\u001B[43mkwargs\u001B[49m\u001B[43m)\u001B[49m\n",
      "File \u001B[0;32m~/anaconda3/envs/csc492_v2/lib/python3.9/site-packages/iexfinance/base.py:80\u001B[0m, in \u001B[0;36m_IEXBase.__init__\u001B[0;34m(self, **kwargs)\u001B[0m\n\u001B[1;32m     78\u001B[0m     \u001B[38;5;28mself\u001B[39m\u001B[38;5;241m.\u001B[39mtoken \u001B[38;5;241m=\u001B[39m os\u001B[38;5;241m.\u001B[39mgetenv(\u001B[38;5;124m\"\u001B[39m\u001B[38;5;124mIEX_TOKEN\u001B[39m\u001B[38;5;124m\"\u001B[39m)\n\u001B[1;32m     79\u001B[0m \u001B[38;5;28;01mif\u001B[39;00m \u001B[38;5;129;01mnot\u001B[39;00m \u001B[38;5;28mself\u001B[39m\u001B[38;5;241m.\u001B[39mtoken \u001B[38;5;129;01mor\u001B[39;00m \u001B[38;5;129;01mnot\u001B[39;00m \u001B[38;5;28misinstance\u001B[39m(\u001B[38;5;28mself\u001B[39m\u001B[38;5;241m.\u001B[39mtoken, \u001B[38;5;28mstr\u001B[39m):\n\u001B[0;32m---> 80\u001B[0m     \u001B[38;5;28;01mraise\u001B[39;00m auth_error(\n\u001B[1;32m     81\u001B[0m         \u001B[38;5;124m\"\u001B[39m\u001B[38;5;124mThe IEX Cloud API key must be provided \u001B[39m\u001B[38;5;124m\"\u001B[39m\n\u001B[1;32m     82\u001B[0m         \u001B[38;5;124m\"\u001B[39m\u001B[38;5;124meither through the token variable or \u001B[39m\u001B[38;5;124m\"\u001B[39m\n\u001B[1;32m     83\u001B[0m         \u001B[38;5;124m\"\u001B[39m\u001B[38;5;124mthrough the environmental variable \u001B[39m\u001B[38;5;124m\"\u001B[39m\n\u001B[1;32m     84\u001B[0m         \u001B[38;5;124m\"\u001B[39m\u001B[38;5;124mIEX_TOKEN.\u001B[39m\u001B[38;5;124m\"\u001B[39m\n\u001B[1;32m     85\u001B[0m     )\n\u001B[1;32m     86\u001B[0m \u001B[38;5;66;03m# Get desired API version from environment variables\u001B[39;00m\n\u001B[1;32m     87\u001B[0m \u001B[38;5;66;03m# Defaults to IEX Cloud\u001B[39;00m\n\u001B[1;32m     88\u001B[0m \u001B[38;5;28mself\u001B[39m\u001B[38;5;241m.\u001B[39mversion \u001B[38;5;241m=\u001B[39m os\u001B[38;5;241m.\u001B[39mgetenv(\u001B[38;5;124m\"\u001B[39m\u001B[38;5;124mIEX_API_VERSION\u001B[39m\u001B[38;5;124m\"\u001B[39m, \u001B[38;5;124m\"\u001B[39m\u001B[38;5;124mstable\u001B[39m\u001B[38;5;124m\"\u001B[39m)\n",
      "\u001B[0;31mIEXAuthenticationError\u001B[0m: The IEX Cloud API key must be provided either through the token variable or through the environmental variable IEX_TOKEN."
     ]
    }
   ],
   "source": [
    "import iexfinance\n",
    "from iexfinance.stocks import get_historical_data\n",
    "from datetime import datetime\n",
    "\n",
    "symbol = \"FB\"\n",
    "start = datetime(2017, 1, 1)\n",
    "end = datetime(2021, 1, 1)\n",
    "\n",
    "df = get_historical_data(symbol, start, end, output_format = 'pandas')\n",
    "\n"
   ],
   "metadata": {
    "collapsed": false,
    "pycharm": {
     "name": "#%%\n"
    }
   }
  },
  {
   "cell_type": "markdown",
   "source": [
    "Get historical prices via the historical prices api\n",
    "GET /stock/{symbol}/chart/{range}/{date}"
   ],
   "metadata": {
    "collapsed": false,
    "pycharm": {
     "name": "#%% md\n"
    }
   }
  },
  {
   "cell_type": "code",
   "execution_count": 49,
   "outputs": [],
   "source": [
    "import requests\n",
    "reload(i)\n",
    "ticker = \"GOOGL\"\n",
    "iex_api_key = \"pk_ea807dc493764e34917c4d18922a874a\"\n",
    "base_url = \"https://cloud.iexapis.com/v1/\"\n",
    "sandbox_url = \"https://sandbox.iexapis.com/stable\"\n",
    "token = \"pk_ea807dc493764e34917c4d18922a874a\"\n",
    "params ={'token': token}\n",
    "    #iex_api_key = 'Tsk_30a2677082d54c7b8697675d84baf94b' #test (demodata)\n"
   ],
   "metadata": {
    "collapsed": false,
    "pycharm": {
     "name": "#%%\n"
    }
   }
  },
  {
   "cell_type": "code",
   "execution_count": 50,
   "outputs": [
    {
     "data": {
      "text/plain": "[{'close': 168.64,\n  'high': 173.08,\n  'low': 168.04,\n  'open': 172.33,\n  'symbol': 'AAPL',\n  'volume': 98670687,\n  'id': 'HISTORICAL_PRICES',\n  'key': 'AAPL',\n  'subkey': '',\n  'date': '2022-02-11',\n  'updated': 1644633048000,\n  'changeOverTime': 0,\n  'marketChangeOverTime': 0,\n  'uOpen': 172.33,\n  'uClose': 168.64,\n  'uHigh': 173.08,\n  'uLow': 168.04,\n  'uVolume': 98670687,\n  'fOpen': 172.33,\n  'fClose': 168.64,\n  'fHigh': 173.08,\n  'fLow': 168.04,\n  'fVolume': 98670687,\n  'label': 'Feb 11, 22',\n  'change': 0,\n  'changePercent': 0},\n {'close': 168.88,\n  'high': 169.58,\n  'low': 166.56,\n  'open': 167.37,\n  'symbol': 'AAPL',\n  'volume': 86185530,\n  'id': 'HISTORICAL_PRICES',\n  'key': 'AAPL',\n  'subkey': '',\n  'date': '2022-02-14',\n  'updated': 1644890402000,\n  'changeOverTime': 0.0014231499051233936,\n  'marketChangeOverTime': 0.0014231499051233936,\n  'uOpen': 167.37,\n  'uClose': 168.88,\n  'uHigh': 169.58,\n  'uLow': 166.56,\n  'uVolume': 86185530,\n  'fOpen': 167.37,\n  'fClose': 168.88,\n  'fHigh': 169.58,\n  'fLow': 166.56,\n  'fVolume': 86185530,\n  'label': 'Feb 14, 22',\n  'change': 0.2400000000000091,\n  'changePercent': 0.0014},\n {'close': 172.79,\n  'high': 172.95,\n  'low': 170.25,\n  'open': 170.97,\n  'symbol': 'AAPL',\n  'volume': 64286320,\n  'id': 'HISTORICAL_PRICES',\n  'key': 'AAPL',\n  'subkey': '',\n  'date': '2022-02-15',\n  'updated': 1644976819000,\n  'changeOverTime': 0.024608633776091116,\n  'marketChangeOverTime': 0.024608633776091116,\n  'uOpen': 170.97,\n  'uClose': 172.79,\n  'uHigh': 172.95,\n  'uLow': 170.25,\n  'uVolume': 64286320,\n  'fOpen': 170.97,\n  'fClose': 172.79,\n  'fHigh': 172.95,\n  'fLow': 170.25,\n  'fVolume': 64286320,\n  'label': 'Feb 15, 22',\n  'change': 3.9099999999999966,\n  'changePercent': 0.0232},\n {'close': 172.55,\n  'high': 173.34,\n  'low': 170.05,\n  'open': 171.85,\n  'symbol': 'AAPL',\n  'volume': 61177398,\n  'id': 'HISTORICAL_PRICES',\n  'key': 'AAPL',\n  'subkey': '',\n  'date': '2022-02-16',\n  'updated': 1645071222000,\n  'changeOverTime': 0.02318548387096789,\n  'marketChangeOverTime': 0.02318548387096789,\n  'uOpen': 171.85,\n  'uClose': 172.55,\n  'uHigh': 173.34,\n  'uLow': 170.05,\n  'uVolume': 61177398,\n  'fOpen': 171.85,\n  'fClose': 172.55,\n  'fHigh': 173.34,\n  'fLow': 170.05,\n  'fVolume': 61177398,\n  'label': 'Feb 16, 22',\n  'change': -0.23999999999998067,\n  'changePercent': -0.0014},\n {'close': 168.88,\n  'high': 171.91,\n  'low': 168.47,\n  'open': 171.03,\n  'symbol': 'AAPL',\n  'volume': 69589344,\n  'id': 'HISTORICAL_PRICES',\n  'key': 'AAPL',\n  'subkey': '',\n  'date': '2022-02-17',\n  'updated': 1645151406000,\n  'changeOverTime': 0.0014231499051233936,\n  'marketChangeOverTime': 0.0014231499051233936,\n  'uOpen': 171.03,\n  'uClose': 168.88,\n  'uHigh': 171.91,\n  'uLow': 168.47,\n  'uVolume': 69589344,\n  'fOpen': 171.03,\n  'fClose': 168.88,\n  'fHigh': 171.91,\n  'fLow': 168.47,\n  'fVolume': 69589344,\n  'label': 'Feb 17, 22',\n  'change': -3.670000000000016,\n  'changePercent': -0.0213},\n {'close': 167.3,\n  'high': 170.5413,\n  'low': 166.19,\n  'open': 169.82,\n  'symbol': 'AAPL',\n  'volume': 82772674,\n  'id': 'HISTORICAL_PRICES',\n  'key': 'AAPL',\n  'subkey': '',\n  'date': '2022-02-18',\n  'updated': 1645237803000,\n  'changeOverTime': -0.007945920303605166,\n  'marketChangeOverTime': -0.007945920303605166,\n  'uOpen': 169.82,\n  'uClose': 167.3,\n  'uHigh': 170.5413,\n  'uLow': 166.19,\n  'uVolume': 82772674,\n  'fOpen': 169.82,\n  'fClose': 167.3,\n  'fHigh': 170.5413,\n  'fLow': 166.19,\n  'fVolume': 82772674,\n  'label': 'Feb 18, 22',\n  'change': -1.579999999999984,\n  'changePercent': -0.0094},\n {'close': 164.32,\n  'high': 166.69,\n  'low': 162.15,\n  'open': 164.98,\n  'symbol': 'AAPL',\n  'volume': 91162758,\n  'id': 'HISTORICAL_PRICES',\n  'key': 'AAPL',\n  'subkey': '',\n  'date': '2022-02-22',\n  'updated': 1645583422000,\n  'changeOverTime': -0.025616698292220075,\n  'marketChangeOverTime': -0.025616698292220075,\n  'uOpen': 164.98,\n  'uClose': 164.32,\n  'uHigh': 166.69,\n  'uLow': 162.15,\n  'uVolume': 91162758,\n  'fOpen': 164.98,\n  'fClose': 164.32,\n  'fHigh': 166.69,\n  'fLow': 162.15,\n  'fVolume': 91162758,\n  'label': 'Feb 22, 22',\n  'change': -2.980000000000018,\n  'changePercent': -0.0178},\n {'close': 160.07,\n  'high': 166.15,\n  'low': 159.75,\n  'open': 165.54,\n  'symbol': 'AAPL',\n  'volume': 90009247,\n  'id': 'HISTORICAL_PRICES',\n  'key': 'AAPL',\n  'subkey': '',\n  'date': '2022-02-23',\n  'updated': 1645668018000,\n  'changeOverTime': -0.05081831119544589,\n  'marketChangeOverTime': -0.05081831119544589,\n  'uOpen': 165.54,\n  'uClose': 160.07,\n  'uHigh': 166.15,\n  'uLow': 159.75,\n  'uVolume': 90009247,\n  'fOpen': 165.54,\n  'fClose': 160.07,\n  'fHigh': 166.15,\n  'fLow': 159.75,\n  'fVolume': 90009247,\n  'label': 'Feb 23, 22',\n  'change': -4.25,\n  'changePercent': -0.0259},\n {'close': 162.74,\n  'high': 162.85,\n  'low': 152,\n  'open': 152.58,\n  'symbol': 'AAPL',\n  'volume': 141147540,\n  'id': 'HISTORICAL_PRICES',\n  'key': 'AAPL',\n  'subkey': '',\n  'date': '2022-02-24',\n  'updated': 1645774624000,\n  'changeOverTime': -0.03498576850094864,\n  'marketChangeOverTime': -0.03498576850094864,\n  'uOpen': 152.58,\n  'uClose': 162.74,\n  'uHigh': 162.85,\n  'uLow': 152,\n  'uVolume': 141147540,\n  'fOpen': 152.58,\n  'fClose': 162.74,\n  'fHigh': 162.85,\n  'fLow': 152,\n  'fVolume': 141147540,\n  'label': 'Feb 24, 22',\n  'change': 2.670000000000016,\n  'changePercent': 0.0167},\n {'close': 164.85,\n  'high': 165.12,\n  'low': 160.8738,\n  'open': 163.84,\n  'symbol': 'AAPL',\n  'volume': 91974222,\n  'id': 'HISTORICAL_PRICES',\n  'key': 'AAPL',\n  'subkey': '',\n  'date': '2022-02-25',\n  'updated': 1645849886000,\n  'changeOverTime': -0.022473908918406026,\n  'marketChangeOverTime': -0.022473908918406026,\n  'uOpen': 163.84,\n  'uClose': 164.85,\n  'uHigh': 165.12,\n  'uLow': 160.8738,\n  'uVolume': 91974222,\n  'fOpen': 163.84,\n  'fClose': 164.85,\n  'fHigh': 165.12,\n  'fLow': 160.8738,\n  'fVolume': 91974222,\n  'label': 'Feb 25, 22',\n  'change': 2.109999999999985,\n  'changePercent': 0.013},\n {'close': 165.12,\n  'high': 165.42,\n  'low': 162.43,\n  'open': 163.06,\n  'symbol': 'AAPL',\n  'volume': 95056629,\n  'id': 'HISTORICAL_PRICES',\n  'key': 'AAPL',\n  'subkey': '',\n  'date': '2022-02-28',\n  'updated': 1646101313000,\n  'changeOverTime': -0.02087286527514221,\n  'marketChangeOverTime': -0.02087286527514221,\n  'uOpen': 163.06,\n  'uClose': 165.12,\n  'uHigh': 165.42,\n  'uLow': 162.43,\n  'uVolume': 95056629,\n  'fOpen': 163.06,\n  'fClose': 165.12,\n  'fHigh': 165.42,\n  'fLow': 162.43,\n  'fVolume': 95056629,\n  'label': 'Feb 28, 22',\n  'change': 0.27000000000001023,\n  'changePercent': 0.0016},\n {'close': 163.2,\n  'high': 166.6,\n  'low': 161.97,\n  'open': 164.695,\n  'symbol': 'AAPL',\n  'volume': 83474425,\n  'id': 'HISTORICAL_PRICES',\n  'key': 'AAPL',\n  'subkey': '',\n  'date': '2022-03-01',\n  'updated': 1646316501000,\n  'changeOverTime': -0.032258064516129024,\n  'marketChangeOverTime': -0.032258064516129024,\n  'uOpen': 164.695,\n  'uClose': 163.2,\n  'uHigh': 166.6,\n  'uLow': 161.97,\n  'uVolume': 83474425,\n  'fOpen': 164.695,\n  'fClose': 163.2,\n  'fHigh': 166.6,\n  'fLow': 161.97,\n  'fVolume': 83474425,\n  'label': 'Mar 1, 22',\n  'change': -1.920000000000016,\n  'changePercent': -0.0116},\n {'close': 166.56,\n  'high': 167.36,\n  'low': 162.95,\n  'open': 164.39,\n  'symbol': 'AAPL',\n  'volume': 79724750,\n  'id': 'HISTORICAL_PRICES',\n  'key': 'AAPL',\n  'subkey': '',\n  'date': '2022-03-02',\n  'updated': 1646349735000,\n  'changeOverTime': -0.012333965844402184,\n  'marketChangeOverTime': -0.012333965844402184,\n  'uOpen': 164.39,\n  'uClose': 166.56,\n  'uHigh': 167.36,\n  'uLow': 162.95,\n  'uVolume': 79724750,\n  'fOpen': 164.39,\n  'fClose': 166.56,\n  'fHigh': 167.36,\n  'fLow': 162.95,\n  'fVolume': 79724750,\n  'label': 'Mar 2, 22',\n  'change': 3.3600000000000136,\n  'changePercent': 0.0206},\n {'close': 166.23,\n  'high': 168.91,\n  'low': 165.55,\n  'open': 168.47,\n  'symbol': 'AAPL',\n  'volume': 76678441,\n  'id': 'HISTORICAL_PRICES',\n  'key': 'AAPL',\n  'subkey': '',\n  'date': '2022-03-03',\n  'updated': 1646361172000,\n  'changeOverTime': -0.01429079696394685,\n  'marketChangeOverTime': -0.01429079696394685,\n  'uOpen': 168.47,\n  'uClose': 166.23,\n  'uHigh': 168.91,\n  'uLow': 165.55,\n  'uVolume': 76678441,\n  'fOpen': 168.47,\n  'fClose': 166.23,\n  'fHigh': 168.91,\n  'fLow': 165.55,\n  'fVolume': 76678441,\n  'label': 'Mar 3, 22',\n  'change': -0.3300000000000125,\n  'changePercent': -0.002},\n {'close': 163.17,\n  'high': 165.55,\n  'low': 162.1,\n  'open': 164.49,\n  'symbol': 'AAPL',\n  'volume': 83819592,\n  'id': 'HISTORICAL_PRICES',\n  'key': 'AAPL',\n  'subkey': '',\n  'date': '2022-03-04',\n  'updated': 1646447421000,\n  'changeOverTime': -0.03243595825426945,\n  'marketChangeOverTime': -0.03243595825426945,\n  'uOpen': 164.49,\n  'uClose': 163.17,\n  'uHigh': 165.55,\n  'uLow': 162.1,\n  'uVolume': 83819592,\n  'fOpen': 164.49,\n  'fClose': 163.17,\n  'fHigh': 165.55,\n  'fLow': 162.1,\n  'fVolume': 83819592,\n  'label': 'Mar 4, 22',\n  'change': -3.0600000000000023,\n  'changePercent': -0.0184},\n {'close': 159.3,\n  'high': 165.02,\n  'low': 159.04,\n  'open': 163.36,\n  'symbol': 'AAPL',\n  'volume': 96418845,\n  'id': 'HISTORICAL_PRICES',\n  'key': 'AAPL',\n  'subkey': '',\n  'date': '2022-03-07',\n  'updated': 1646747901000,\n  'changeOverTime': -0.05538425047438316,\n  'marketChangeOverTime': -0.05538425047438316,\n  'uOpen': 163.36,\n  'uClose': 159.3,\n  'uHigh': 165.02,\n  'uLow': 159.04,\n  'uVolume': 96418845,\n  'fOpen': 163.36,\n  'fClose': 159.3,\n  'fHigh': 165.02,\n  'fLow': 159.04,\n  'fVolume': 96418845,\n  'label': 'Mar 7, 22',\n  'change': -3.869999999999976,\n  'changePercent': -0.0237},\n {'close': 157.44,\n  'high': 162.88,\n  'low': 155.8,\n  'open': 158.82,\n  'symbol': 'AAPL',\n  'volume': 131148280,\n  'id': 'HISTORICAL_PRICES',\n  'key': 'AAPL',\n  'subkey': '',\n  'date': '2022-03-08',\n  'updated': 1646791219000,\n  'changeOverTime': -0.06641366223908912,\n  'marketChangeOverTime': -0.06641366223908912,\n  'uOpen': 158.82,\n  'uClose': 157.44,\n  'uHigh': 162.88,\n  'uLow': 155.8,\n  'uVolume': 131148280,\n  'fOpen': 158.82,\n  'fClose': 157.44,\n  'fHigh': 162.88,\n  'fLow': 155.8,\n  'fVolume': 131148280,\n  'label': 'Mar 8, 22',\n  'change': -1.8600000000000136,\n  'changePercent': -0.0117},\n {'close': 162.95,\n  'high': 163.41,\n  'low': 159.41,\n  'open': 161.475,\n  'symbol': 'AAPL',\n  'volume': 91454905,\n  'id': 'HISTORICAL_PRICES',\n  'key': 'AAPL',\n  'subkey': '',\n  'date': '2022-03-09',\n  'updated': 1646883232000,\n  'changeOverTime': -0.033740512333965834,\n  'marketChangeOverTime': -0.033740512333965834,\n  'uOpen': 161.475,\n  'uClose': 162.95,\n  'uHigh': 163.41,\n  'uLow': 159.41,\n  'uVolume': 91454905,\n  'fOpen': 161.475,\n  'fClose': 162.95,\n  'fHigh': 163.41,\n  'fLow': 159.41,\n  'fVolume': 91454905,\n  'label': 'Mar 9, 22',\n  'change': 5.509999999999991,\n  'changePercent': 0.035},\n {'close': 158.52,\n  'high': 160.39,\n  'low': 155.98,\n  'open': 160.2,\n  'symbol': 'AAPL',\n  'volume': 105342033,\n  'id': 'HISTORICAL_PRICES',\n  'key': 'AAPL',\n  'subkey': '',\n  'date': '2022-03-10',\n  'updated': 1646964017000,\n  'changeOverTime': -0.06000948766603402,\n  'marketChangeOverTime': -0.06000948766603402,\n  'uOpen': 160.2,\n  'uClose': 158.52,\n  'uHigh': 160.39,\n  'uLow': 155.98,\n  'uVolume': 105342033,\n  'fOpen': 160.2,\n  'fClose': 158.52,\n  'fHigh': 160.39,\n  'fLow': 155.98,\n  'fVolume': 105342033,\n  'label': 'Mar 10, 22',\n  'change': -4.429999999999978,\n  'changePercent': -0.0272}]"
     },
     "execution_count": 50,
     "metadata": {},
     "output_type": "execute_result"
    }
   ],
   "source": [
    "resp = requests.get(base_url + 'stock/AAPL/chart', params = params)\n",
    "resp.json()"
   ],
   "metadata": {
    "collapsed": false,
    "pycharm": {
     "name": "#%%\n"
    }
   }
  },
  {
   "cell_type": "code",
   "execution_count": 51,
   "outputs": [],
   "source": [
    "df = pd.DataFrame(resp.json())"
   ],
   "metadata": {
    "collapsed": false,
    "pycharm": {
     "name": "#%%\n"
    }
   }
  },
  {
   "cell_type": "code",
   "execution_count": 53,
   "outputs": [
    {
     "data": {
      "text/plain": "     close      high       low     open symbol     volume                 id  \\\n0   168.64  173.0800  168.0400  172.330   AAPL   98670687  HISTORICAL_PRICES   \n1   168.88  169.5800  166.5600  167.370   AAPL   86185530  HISTORICAL_PRICES   \n2   172.79  172.9500  170.2500  170.970   AAPL   64286320  HISTORICAL_PRICES   \n3   172.55  173.3400  170.0500  171.850   AAPL   61177398  HISTORICAL_PRICES   \n4   168.88  171.9100  168.4700  171.030   AAPL   69589344  HISTORICAL_PRICES   \n5   167.30  170.5413  166.1900  169.820   AAPL   82772674  HISTORICAL_PRICES   \n6   164.32  166.6900  162.1500  164.980   AAPL   91162758  HISTORICAL_PRICES   \n7   160.07  166.1500  159.7500  165.540   AAPL   90009247  HISTORICAL_PRICES   \n8   162.74  162.8500  152.0000  152.580   AAPL  141147540  HISTORICAL_PRICES   \n9   164.85  165.1200  160.8738  163.840   AAPL   91974222  HISTORICAL_PRICES   \n10  165.12  165.4200  162.4300  163.060   AAPL   95056629  HISTORICAL_PRICES   \n11  163.20  166.6000  161.9700  164.695   AAPL   83474425  HISTORICAL_PRICES   \n12  166.56  167.3600  162.9500  164.390   AAPL   79724750  HISTORICAL_PRICES   \n13  166.23  168.9100  165.5500  168.470   AAPL   76678441  HISTORICAL_PRICES   \n14  163.17  165.5500  162.1000  164.490   AAPL   83819592  HISTORICAL_PRICES   \n15  159.30  165.0200  159.0400  163.360   AAPL   96418845  HISTORICAL_PRICES   \n16  157.44  162.8800  155.8000  158.820   AAPL  131148280  HISTORICAL_PRICES   \n17  162.95  163.4100  159.4100  161.475   AAPL   91454905  HISTORICAL_PRICES   \n18  158.52  160.3900  155.9800  160.200   AAPL  105342033  HISTORICAL_PRICES   \n\n     key subkey        date        updated  changeOverTime  \\\n0   AAPL         2022-02-11  1644633048000        0.000000   \n1   AAPL         2022-02-14  1644890402000        0.001423   \n2   AAPL         2022-02-15  1644976819000        0.024609   \n3   AAPL         2022-02-16  1645071222000        0.023185   \n4   AAPL         2022-02-17  1645151406000        0.001423   \n5   AAPL         2022-02-18  1645237803000       -0.007946   \n6   AAPL         2022-02-22  1645583422000       -0.025617   \n7   AAPL         2022-02-23  1645668018000       -0.050818   \n8   AAPL         2022-02-24  1645774624000       -0.034986   \n9   AAPL         2022-02-25  1645849886000       -0.022474   \n10  AAPL         2022-02-28  1646101313000       -0.020873   \n11  AAPL         2022-03-01  1646316501000       -0.032258   \n12  AAPL         2022-03-02  1646349735000       -0.012334   \n13  AAPL         2022-03-03  1646361172000       -0.014291   \n14  AAPL         2022-03-04  1646447421000       -0.032436   \n15  AAPL         2022-03-07  1646747901000       -0.055384   \n16  AAPL         2022-03-08  1646791219000       -0.066414   \n17  AAPL         2022-03-09  1646883232000       -0.033741   \n18  AAPL         2022-03-10  1646964017000       -0.060009   \n\n    marketChangeOverTime    uOpen  uClose     uHigh      uLow    uVolume  \\\n0               0.000000  172.330  168.64  173.0800  168.0400   98670687   \n1               0.001423  167.370  168.88  169.5800  166.5600   86185530   \n2               0.024609  170.970  172.79  172.9500  170.2500   64286320   \n3               0.023185  171.850  172.55  173.3400  170.0500   61177398   \n4               0.001423  171.030  168.88  171.9100  168.4700   69589344   \n5              -0.007946  169.820  167.30  170.5413  166.1900   82772674   \n6              -0.025617  164.980  164.32  166.6900  162.1500   91162758   \n7              -0.050818  165.540  160.07  166.1500  159.7500   90009247   \n8              -0.034986  152.580  162.74  162.8500  152.0000  141147540   \n9              -0.022474  163.840  164.85  165.1200  160.8738   91974222   \n10             -0.020873  163.060  165.12  165.4200  162.4300   95056629   \n11             -0.032258  164.695  163.20  166.6000  161.9700   83474425   \n12             -0.012334  164.390  166.56  167.3600  162.9500   79724750   \n13             -0.014291  168.470  166.23  168.9100  165.5500   76678441   \n14             -0.032436  164.490  163.17  165.5500  162.1000   83819592   \n15             -0.055384  163.360  159.30  165.0200  159.0400   96418845   \n16             -0.066414  158.820  157.44  162.8800  155.8000  131148280   \n17             -0.033741  161.475  162.95  163.4100  159.4100   91454905   \n18             -0.060009  160.200  158.52  160.3900  155.9800  105342033   \n\n      fOpen  fClose     fHigh      fLow    fVolume       label  change  \\\n0   172.330  168.64  173.0800  168.0400   98670687  Feb 11, 22    0.00   \n1   167.370  168.88  169.5800  166.5600   86185530  Feb 14, 22    0.24   \n2   170.970  172.79  172.9500  170.2500   64286320  Feb 15, 22    3.91   \n3   171.850  172.55  173.3400  170.0500   61177398  Feb 16, 22   -0.24   \n4   171.030  168.88  171.9100  168.4700   69589344  Feb 17, 22   -3.67   \n5   169.820  167.30  170.5413  166.1900   82772674  Feb 18, 22   -1.58   \n6   164.980  164.32  166.6900  162.1500   91162758  Feb 22, 22   -2.98   \n7   165.540  160.07  166.1500  159.7500   90009247  Feb 23, 22   -4.25   \n8   152.580  162.74  162.8500  152.0000  141147540  Feb 24, 22    2.67   \n9   163.840  164.85  165.1200  160.8738   91974222  Feb 25, 22    2.11   \n10  163.060  165.12  165.4200  162.4300   95056629  Feb 28, 22    0.27   \n11  164.695  163.20  166.6000  161.9700   83474425   Mar 1, 22   -1.92   \n12  164.390  166.56  167.3600  162.9500   79724750   Mar 2, 22    3.36   \n13  168.470  166.23  168.9100  165.5500   76678441   Mar 3, 22   -0.33   \n14  164.490  163.17  165.5500  162.1000   83819592   Mar 4, 22   -3.06   \n15  163.360  159.30  165.0200  159.0400   96418845   Mar 7, 22   -3.87   \n16  158.820  157.44  162.8800  155.8000  131148280   Mar 8, 22   -1.86   \n17  161.475  162.95  163.4100  159.4100   91454905   Mar 9, 22    5.51   \n18  160.200  158.52  160.3900  155.9800  105342033  Mar 10, 22   -4.43   \n\n    changePercent  \n0          0.0000  \n1          0.0014  \n2          0.0232  \n3         -0.0014  \n4         -0.0213  \n5         -0.0094  \n6         -0.0178  \n7         -0.0259  \n8          0.0167  \n9          0.0130  \n10         0.0016  \n11        -0.0116  \n12         0.0206  \n13        -0.0020  \n14        -0.0184  \n15        -0.0237  \n16        -0.0117  \n17         0.0350  \n18        -0.0272  ",
      "text/html": "<div>\n<style scoped>\n    .dataframe tbody tr th:only-of-type {\n        vertical-align: middle;\n    }\n\n    .dataframe tbody tr th {\n        vertical-align: top;\n    }\n\n    .dataframe thead th {\n        text-align: right;\n    }\n</style>\n<table border=\"1\" class=\"dataframe\">\n  <thead>\n    <tr style=\"text-align: right;\">\n      <th></th>\n      <th>close</th>\n      <th>high</th>\n      <th>low</th>\n      <th>open</th>\n      <th>symbol</th>\n      <th>volume</th>\n      <th>id</th>\n      <th>key</th>\n      <th>subkey</th>\n      <th>date</th>\n      <th>updated</th>\n      <th>changeOverTime</th>\n      <th>marketChangeOverTime</th>\n      <th>uOpen</th>\n      <th>uClose</th>\n      <th>uHigh</th>\n      <th>uLow</th>\n      <th>uVolume</th>\n      <th>fOpen</th>\n      <th>fClose</th>\n      <th>fHigh</th>\n      <th>fLow</th>\n      <th>fVolume</th>\n      <th>label</th>\n      <th>change</th>\n      <th>changePercent</th>\n    </tr>\n  </thead>\n  <tbody>\n    <tr>\n      <th>0</th>\n      <td>168.64</td>\n      <td>173.0800</td>\n      <td>168.0400</td>\n      <td>172.330</td>\n      <td>AAPL</td>\n      <td>98670687</td>\n      <td>HISTORICAL_PRICES</td>\n      <td>AAPL</td>\n      <td></td>\n      <td>2022-02-11</td>\n      <td>1644633048000</td>\n      <td>0.000000</td>\n      <td>0.000000</td>\n      <td>172.330</td>\n      <td>168.64</td>\n      <td>173.0800</td>\n      <td>168.0400</td>\n      <td>98670687</td>\n      <td>172.330</td>\n      <td>168.64</td>\n      <td>173.0800</td>\n      <td>168.0400</td>\n      <td>98670687</td>\n      <td>Feb 11, 22</td>\n      <td>0.00</td>\n      <td>0.0000</td>\n    </tr>\n    <tr>\n      <th>1</th>\n      <td>168.88</td>\n      <td>169.5800</td>\n      <td>166.5600</td>\n      <td>167.370</td>\n      <td>AAPL</td>\n      <td>86185530</td>\n      <td>HISTORICAL_PRICES</td>\n      <td>AAPL</td>\n      <td></td>\n      <td>2022-02-14</td>\n      <td>1644890402000</td>\n      <td>0.001423</td>\n      <td>0.001423</td>\n      <td>167.370</td>\n      <td>168.88</td>\n      <td>169.5800</td>\n      <td>166.5600</td>\n      <td>86185530</td>\n      <td>167.370</td>\n      <td>168.88</td>\n      <td>169.5800</td>\n      <td>166.5600</td>\n      <td>86185530</td>\n      <td>Feb 14, 22</td>\n      <td>0.24</td>\n      <td>0.0014</td>\n    </tr>\n    <tr>\n      <th>2</th>\n      <td>172.79</td>\n      <td>172.9500</td>\n      <td>170.2500</td>\n      <td>170.970</td>\n      <td>AAPL</td>\n      <td>64286320</td>\n      <td>HISTORICAL_PRICES</td>\n      <td>AAPL</td>\n      <td></td>\n      <td>2022-02-15</td>\n      <td>1644976819000</td>\n      <td>0.024609</td>\n      <td>0.024609</td>\n      <td>170.970</td>\n      <td>172.79</td>\n      <td>172.9500</td>\n      <td>170.2500</td>\n      <td>64286320</td>\n      <td>170.970</td>\n      <td>172.79</td>\n      <td>172.9500</td>\n      <td>170.2500</td>\n      <td>64286320</td>\n      <td>Feb 15, 22</td>\n      <td>3.91</td>\n      <td>0.0232</td>\n    </tr>\n    <tr>\n      <th>3</th>\n      <td>172.55</td>\n      <td>173.3400</td>\n      <td>170.0500</td>\n      <td>171.850</td>\n      <td>AAPL</td>\n      <td>61177398</td>\n      <td>HISTORICAL_PRICES</td>\n      <td>AAPL</td>\n      <td></td>\n      <td>2022-02-16</td>\n      <td>1645071222000</td>\n      <td>0.023185</td>\n      <td>0.023185</td>\n      <td>171.850</td>\n      <td>172.55</td>\n      <td>173.3400</td>\n      <td>170.0500</td>\n      <td>61177398</td>\n      <td>171.850</td>\n      <td>172.55</td>\n      <td>173.3400</td>\n      <td>170.0500</td>\n      <td>61177398</td>\n      <td>Feb 16, 22</td>\n      <td>-0.24</td>\n      <td>-0.0014</td>\n    </tr>\n    <tr>\n      <th>4</th>\n      <td>168.88</td>\n      <td>171.9100</td>\n      <td>168.4700</td>\n      <td>171.030</td>\n      <td>AAPL</td>\n      <td>69589344</td>\n      <td>HISTORICAL_PRICES</td>\n      <td>AAPL</td>\n      <td></td>\n      <td>2022-02-17</td>\n      <td>1645151406000</td>\n      <td>0.001423</td>\n      <td>0.001423</td>\n      <td>171.030</td>\n      <td>168.88</td>\n      <td>171.9100</td>\n      <td>168.4700</td>\n      <td>69589344</td>\n      <td>171.030</td>\n      <td>168.88</td>\n      <td>171.9100</td>\n      <td>168.4700</td>\n      <td>69589344</td>\n      <td>Feb 17, 22</td>\n      <td>-3.67</td>\n      <td>-0.0213</td>\n    </tr>\n    <tr>\n      <th>5</th>\n      <td>167.30</td>\n      <td>170.5413</td>\n      <td>166.1900</td>\n      <td>169.820</td>\n      <td>AAPL</td>\n      <td>82772674</td>\n      <td>HISTORICAL_PRICES</td>\n      <td>AAPL</td>\n      <td></td>\n      <td>2022-02-18</td>\n      <td>1645237803000</td>\n      <td>-0.007946</td>\n      <td>-0.007946</td>\n      <td>169.820</td>\n      <td>167.30</td>\n      <td>170.5413</td>\n      <td>166.1900</td>\n      <td>82772674</td>\n      <td>169.820</td>\n      <td>167.30</td>\n      <td>170.5413</td>\n      <td>166.1900</td>\n      <td>82772674</td>\n      <td>Feb 18, 22</td>\n      <td>-1.58</td>\n      <td>-0.0094</td>\n    </tr>\n    <tr>\n      <th>6</th>\n      <td>164.32</td>\n      <td>166.6900</td>\n      <td>162.1500</td>\n      <td>164.980</td>\n      <td>AAPL</td>\n      <td>91162758</td>\n      <td>HISTORICAL_PRICES</td>\n      <td>AAPL</td>\n      <td></td>\n      <td>2022-02-22</td>\n      <td>1645583422000</td>\n      <td>-0.025617</td>\n      <td>-0.025617</td>\n      <td>164.980</td>\n      <td>164.32</td>\n      <td>166.6900</td>\n      <td>162.1500</td>\n      <td>91162758</td>\n      <td>164.980</td>\n      <td>164.32</td>\n      <td>166.6900</td>\n      <td>162.1500</td>\n      <td>91162758</td>\n      <td>Feb 22, 22</td>\n      <td>-2.98</td>\n      <td>-0.0178</td>\n    </tr>\n    <tr>\n      <th>7</th>\n      <td>160.07</td>\n      <td>166.1500</td>\n      <td>159.7500</td>\n      <td>165.540</td>\n      <td>AAPL</td>\n      <td>90009247</td>\n      <td>HISTORICAL_PRICES</td>\n      <td>AAPL</td>\n      <td></td>\n      <td>2022-02-23</td>\n      <td>1645668018000</td>\n      <td>-0.050818</td>\n      <td>-0.050818</td>\n      <td>165.540</td>\n      <td>160.07</td>\n      <td>166.1500</td>\n      <td>159.7500</td>\n      <td>90009247</td>\n      <td>165.540</td>\n      <td>160.07</td>\n      <td>166.1500</td>\n      <td>159.7500</td>\n      <td>90009247</td>\n      <td>Feb 23, 22</td>\n      <td>-4.25</td>\n      <td>-0.0259</td>\n    </tr>\n    <tr>\n      <th>8</th>\n      <td>162.74</td>\n      <td>162.8500</td>\n      <td>152.0000</td>\n      <td>152.580</td>\n      <td>AAPL</td>\n      <td>141147540</td>\n      <td>HISTORICAL_PRICES</td>\n      <td>AAPL</td>\n      <td></td>\n      <td>2022-02-24</td>\n      <td>1645774624000</td>\n      <td>-0.034986</td>\n      <td>-0.034986</td>\n      <td>152.580</td>\n      <td>162.74</td>\n      <td>162.8500</td>\n      <td>152.0000</td>\n      <td>141147540</td>\n      <td>152.580</td>\n      <td>162.74</td>\n      <td>162.8500</td>\n      <td>152.0000</td>\n      <td>141147540</td>\n      <td>Feb 24, 22</td>\n      <td>2.67</td>\n      <td>0.0167</td>\n    </tr>\n    <tr>\n      <th>9</th>\n      <td>164.85</td>\n      <td>165.1200</td>\n      <td>160.8738</td>\n      <td>163.840</td>\n      <td>AAPL</td>\n      <td>91974222</td>\n      <td>HISTORICAL_PRICES</td>\n      <td>AAPL</td>\n      <td></td>\n      <td>2022-02-25</td>\n      <td>1645849886000</td>\n      <td>-0.022474</td>\n      <td>-0.022474</td>\n      <td>163.840</td>\n      <td>164.85</td>\n      <td>165.1200</td>\n      <td>160.8738</td>\n      <td>91974222</td>\n      <td>163.840</td>\n      <td>164.85</td>\n      <td>165.1200</td>\n      <td>160.8738</td>\n      <td>91974222</td>\n      <td>Feb 25, 22</td>\n      <td>2.11</td>\n      <td>0.0130</td>\n    </tr>\n    <tr>\n      <th>10</th>\n      <td>165.12</td>\n      <td>165.4200</td>\n      <td>162.4300</td>\n      <td>163.060</td>\n      <td>AAPL</td>\n      <td>95056629</td>\n      <td>HISTORICAL_PRICES</td>\n      <td>AAPL</td>\n      <td></td>\n      <td>2022-02-28</td>\n      <td>1646101313000</td>\n      <td>-0.020873</td>\n      <td>-0.020873</td>\n      <td>163.060</td>\n      <td>165.12</td>\n      <td>165.4200</td>\n      <td>162.4300</td>\n      <td>95056629</td>\n      <td>163.060</td>\n      <td>165.12</td>\n      <td>165.4200</td>\n      <td>162.4300</td>\n      <td>95056629</td>\n      <td>Feb 28, 22</td>\n      <td>0.27</td>\n      <td>0.0016</td>\n    </tr>\n    <tr>\n      <th>11</th>\n      <td>163.20</td>\n      <td>166.6000</td>\n      <td>161.9700</td>\n      <td>164.695</td>\n      <td>AAPL</td>\n      <td>83474425</td>\n      <td>HISTORICAL_PRICES</td>\n      <td>AAPL</td>\n      <td></td>\n      <td>2022-03-01</td>\n      <td>1646316501000</td>\n      <td>-0.032258</td>\n      <td>-0.032258</td>\n      <td>164.695</td>\n      <td>163.20</td>\n      <td>166.6000</td>\n      <td>161.9700</td>\n      <td>83474425</td>\n      <td>164.695</td>\n      <td>163.20</td>\n      <td>166.6000</td>\n      <td>161.9700</td>\n      <td>83474425</td>\n      <td>Mar 1, 22</td>\n      <td>-1.92</td>\n      <td>-0.0116</td>\n    </tr>\n    <tr>\n      <th>12</th>\n      <td>166.56</td>\n      <td>167.3600</td>\n      <td>162.9500</td>\n      <td>164.390</td>\n      <td>AAPL</td>\n      <td>79724750</td>\n      <td>HISTORICAL_PRICES</td>\n      <td>AAPL</td>\n      <td></td>\n      <td>2022-03-02</td>\n      <td>1646349735000</td>\n      <td>-0.012334</td>\n      <td>-0.012334</td>\n      <td>164.390</td>\n      <td>166.56</td>\n      <td>167.3600</td>\n      <td>162.9500</td>\n      <td>79724750</td>\n      <td>164.390</td>\n      <td>166.56</td>\n      <td>167.3600</td>\n      <td>162.9500</td>\n      <td>79724750</td>\n      <td>Mar 2, 22</td>\n      <td>3.36</td>\n      <td>0.0206</td>\n    </tr>\n    <tr>\n      <th>13</th>\n      <td>166.23</td>\n      <td>168.9100</td>\n      <td>165.5500</td>\n      <td>168.470</td>\n      <td>AAPL</td>\n      <td>76678441</td>\n      <td>HISTORICAL_PRICES</td>\n      <td>AAPL</td>\n      <td></td>\n      <td>2022-03-03</td>\n      <td>1646361172000</td>\n      <td>-0.014291</td>\n      <td>-0.014291</td>\n      <td>168.470</td>\n      <td>166.23</td>\n      <td>168.9100</td>\n      <td>165.5500</td>\n      <td>76678441</td>\n      <td>168.470</td>\n      <td>166.23</td>\n      <td>168.9100</td>\n      <td>165.5500</td>\n      <td>76678441</td>\n      <td>Mar 3, 22</td>\n      <td>-0.33</td>\n      <td>-0.0020</td>\n    </tr>\n    <tr>\n      <th>14</th>\n      <td>163.17</td>\n      <td>165.5500</td>\n      <td>162.1000</td>\n      <td>164.490</td>\n      <td>AAPL</td>\n      <td>83819592</td>\n      <td>HISTORICAL_PRICES</td>\n      <td>AAPL</td>\n      <td></td>\n      <td>2022-03-04</td>\n      <td>1646447421000</td>\n      <td>-0.032436</td>\n      <td>-0.032436</td>\n      <td>164.490</td>\n      <td>163.17</td>\n      <td>165.5500</td>\n      <td>162.1000</td>\n      <td>83819592</td>\n      <td>164.490</td>\n      <td>163.17</td>\n      <td>165.5500</td>\n      <td>162.1000</td>\n      <td>83819592</td>\n      <td>Mar 4, 22</td>\n      <td>-3.06</td>\n      <td>-0.0184</td>\n    </tr>\n    <tr>\n      <th>15</th>\n      <td>159.30</td>\n      <td>165.0200</td>\n      <td>159.0400</td>\n      <td>163.360</td>\n      <td>AAPL</td>\n      <td>96418845</td>\n      <td>HISTORICAL_PRICES</td>\n      <td>AAPL</td>\n      <td></td>\n      <td>2022-03-07</td>\n      <td>1646747901000</td>\n      <td>-0.055384</td>\n      <td>-0.055384</td>\n      <td>163.360</td>\n      <td>159.30</td>\n      <td>165.0200</td>\n      <td>159.0400</td>\n      <td>96418845</td>\n      <td>163.360</td>\n      <td>159.30</td>\n      <td>165.0200</td>\n      <td>159.0400</td>\n      <td>96418845</td>\n      <td>Mar 7, 22</td>\n      <td>-3.87</td>\n      <td>-0.0237</td>\n    </tr>\n    <tr>\n      <th>16</th>\n      <td>157.44</td>\n      <td>162.8800</td>\n      <td>155.8000</td>\n      <td>158.820</td>\n      <td>AAPL</td>\n      <td>131148280</td>\n      <td>HISTORICAL_PRICES</td>\n      <td>AAPL</td>\n      <td></td>\n      <td>2022-03-08</td>\n      <td>1646791219000</td>\n      <td>-0.066414</td>\n      <td>-0.066414</td>\n      <td>158.820</td>\n      <td>157.44</td>\n      <td>162.8800</td>\n      <td>155.8000</td>\n      <td>131148280</td>\n      <td>158.820</td>\n      <td>157.44</td>\n      <td>162.8800</td>\n      <td>155.8000</td>\n      <td>131148280</td>\n      <td>Mar 8, 22</td>\n      <td>-1.86</td>\n      <td>-0.0117</td>\n    </tr>\n    <tr>\n      <th>17</th>\n      <td>162.95</td>\n      <td>163.4100</td>\n      <td>159.4100</td>\n      <td>161.475</td>\n      <td>AAPL</td>\n      <td>91454905</td>\n      <td>HISTORICAL_PRICES</td>\n      <td>AAPL</td>\n      <td></td>\n      <td>2022-03-09</td>\n      <td>1646883232000</td>\n      <td>-0.033741</td>\n      <td>-0.033741</td>\n      <td>161.475</td>\n      <td>162.95</td>\n      <td>163.4100</td>\n      <td>159.4100</td>\n      <td>91454905</td>\n      <td>161.475</td>\n      <td>162.95</td>\n      <td>163.4100</td>\n      <td>159.4100</td>\n      <td>91454905</td>\n      <td>Mar 9, 22</td>\n      <td>5.51</td>\n      <td>0.0350</td>\n    </tr>\n    <tr>\n      <th>18</th>\n      <td>158.52</td>\n      <td>160.3900</td>\n      <td>155.9800</td>\n      <td>160.200</td>\n      <td>AAPL</td>\n      <td>105342033</td>\n      <td>HISTORICAL_PRICES</td>\n      <td>AAPL</td>\n      <td></td>\n      <td>2022-03-10</td>\n      <td>1646964017000</td>\n      <td>-0.060009</td>\n      <td>-0.060009</td>\n      <td>160.200</td>\n      <td>158.52</td>\n      <td>160.3900</td>\n      <td>155.9800</td>\n      <td>105342033</td>\n      <td>160.200</td>\n      <td>158.52</td>\n      <td>160.3900</td>\n      <td>155.9800</td>\n      <td>105342033</td>\n      <td>Mar 10, 22</td>\n      <td>-4.43</td>\n      <td>-0.0272</td>\n    </tr>\n  </tbody>\n</table>\n</div>"
     },
     "execution_count": 53,
     "metadata": {},
     "output_type": "execute_result"
    }
   ],
   "source": [
    "df"
   ],
   "metadata": {
    "collapsed": false,
    "pycharm": {
     "name": "#%%\n"
    }
   }
  },
  {
   "cell_type": "code",
   "execution_count": 37,
   "outputs": [
    {
     "data": {
      "text/plain": "(2227, 7)"
     },
     "execution_count": 37,
     "metadata": {},
     "output_type": "execute_result"
    }
   ],
   "source": [
    "df_fb[(df_fb.open > df_fb.open.quantile(0.05)) & (df_fb.open < df_fb.open.quantile(0.95))].shape"
   ],
   "metadata": {
    "collapsed": false,
    "pycharm": {
     "name": "#%%\n"
    }
   }
  },
  {
   "cell_type": "code",
   "execution_count": null,
   "outputs": [],
   "source": [],
   "metadata": {
    "collapsed": false,
    "pycharm": {
     "name": "#%%\n"
    }
   }
  }
 ],
 "metadata": {
  "kernelspec": {
   "display_name": "Python 3",
   "language": "python",
   "name": "python3"
  },
  "language_info": {
   "codemirror_mode": {
    "name": "ipython",
    "version": 2
   },
   "file_extension": ".py",
   "mimetype": "text/x-python",
   "name": "python",
   "nbconvert_exporter": "python",
   "pygments_lexer": "ipython2",
   "version": "2.7.6"
  }
 },
 "nbformat": 4,
 "nbformat_minor": 0
}