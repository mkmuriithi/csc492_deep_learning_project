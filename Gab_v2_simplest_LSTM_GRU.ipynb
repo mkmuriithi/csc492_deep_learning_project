{
 "cells": [
  {
   "cell_type": "code",
   "execution_count": null,
   "id": "6f882dff",
   "metadata": {},
   "outputs": [],
   "source": [
    "# LSTM and GRU based off https://medium.com/swlh/stock-price-prediction-with-pytorch-37f52ae84632"
   ]
  },
  {
   "cell_type": "code",
   "execution_count": null,
   "id": "580231d7",
   "metadata": {},
   "outputs": [],
   "source": [
    "'''\n",
    "This is a quick and dirty proof of concept. \n",
    "Single Apple stock, only 1 year, just one feature (adj close). LSTM, GRU. \n",
    "As we get confident that things work, we can scale in complexity.\n",
    "\n",
    "Summary of decisions & respective options (in increasing complexity)\n",
    "\n",
    "DECISION 0: DATE RANGE\n",
    "1. Now just 1 year for smaller dataset\n",
    "2. Expand to original timeframe (2007/start of stock, to 2021)\n",
    "\n",
    "DECISION 1: FEATURE ENGINEERING OPTIONS\n",
    "1. Just Adj_Close, single feature <---- NOW THIS\n",
    "2. 5 features (open high low vol adj_close)\n",
    "3. Add more features, eg moving average over X, Y, Z days.\n",
    "\n",
    "DECISION 2: DATA PROCESSING, NORMALIZATION\n",
    "1. MinMaxNorm scale then window <---- NOW THIS\n",
    "2. StandardScale then window\n",
    "3. Window then MinMaxNorm\n",
    "4. Window then StandardScale\n",
    "\n",
    "DECISION 3: MODEL ARCHITECTURE\n",
    "- LSTM <---- NOW THIS\n",
    "- GRU <---- NOW THIS\n",
    "- Transformer\n",
    "\n",
    "DECISION 4: CRITERION\n",
    "- RMSE <---- NOW THIS\n",
    "- MAPE (to use pytorch forecasting \n",
    "https://pytorch-forecasting.readthedocs.io/en/latest/api/pytorch_forecasting.metrics.MAPE.html)\n",
    "\n",
    "\n",
    "Todos:\n",
    "FOR LSTM and GRU\n",
    "[ ] Simplify by use Pytorch Datasets & Dataloaders. Do this now while data is simple, will make life hella easier later.\n",
    "[ ] Evaluate using Pytorch TensorBoard\n",
    "\n",
    "Try transformer architecture\n",
    "[ ] Using dataset and dataloaders, tensorboard. Single feature first\n",
    "[ ] Decision 1, 2: Add 4 other features, normalization\n",
    "[ ] Sanity check: expand date range, should work well.\n",
    "\n",
    "'''"
   ]
  },
  {
   "cell_type": "code",
   "execution_count": null,
   "id": "0e82d162",
   "metadata": {},
   "outputs": [],
   "source": [
    "pip install yfinance --upgrade --no-cache-dir"
   ]
  },
  {
   "cell_type": "code",
   "execution_count": null,
   "id": "8dd75a54",
   "metadata": {},
   "outputs": [],
   "source": [
    "pip install plotly"
   ]
  },
  {
   "cell_type": "code",
   "execution_count": 1,
   "id": "434ca42e",
   "metadata": {},
   "outputs": [],
   "source": [
    "import yfinance as yf\n",
    "import numpy as np\n",
    "import torch\n",
    "import torch.optim as optim\n",
    "import torch.nn as nn\n",
    "import torch.nn.functional as functional\n",
    "from torch.utils.data import (Dataset, TensorDataset, DataLoader, Subset)\n",
    "import matplotlib.pyplot as plt\n",
    "import pandas as pd\n",
    "\n",
    "from sklearn.metrics import mean_squared_error\n",
    "device = 'cuda' if torch.cuda.is_available() else 'cpu'"
   ]
  },
  {
   "cell_type": "code",
   "execution_count": 2,
   "id": "aa847dea",
   "metadata": {},
   "outputs": [],
   "source": [
    "import os"
   ]
  },
  {
   "cell_type": "code",
   "execution_count": 3,
   "id": "b692fda1",
   "metadata": {},
   "outputs": [
    {
     "name": "stdout",
     "output_type": "stream",
     "text": [
      "Requirement already satisfied: ta in /home/onggabr1/anaconda3/lib/python3.9/site-packages (0.9.0)\n",
      "Requirement already satisfied: pandas in /home/onggabr1/anaconda3/lib/python3.9/site-packages (from ta) (1.3.4)\n",
      "Requirement already satisfied: numpy in /home/onggabr1/anaconda3/lib/python3.9/site-packages (from ta) (1.20.3)\n",
      "Requirement already satisfied: python-dateutil>=2.7.3 in /home/onggabr1/anaconda3/lib/python3.9/site-packages (from pandas->ta) (2.8.2)\n",
      "Requirement already satisfied: pytz>=2017.3 in /home/onggabr1/anaconda3/lib/python3.9/site-packages (from pandas->ta) (2021.3)\n",
      "Requirement already satisfied: six>=1.5 in /home/onggabr1/anaconda3/lib/python3.9/site-packages (from python-dateutil>=2.7.3->pandas->ta) (1.16.0)\n",
      "Note: you may need to restart the kernel to use updated packages.\n"
     ]
    }
   ],
   "source": [
    "pip install ta"
   ]
  },
  {
   "cell_type": "code",
   "execution_count": 4,
   "id": "92c9d93e",
   "metadata": {},
   "outputs": [],
   "source": [
    "# import ta.momentum as moment\n",
    "# import ta.volume as vol\n",
    "# import ta.volatility as vl\n",
    "# import ta.trend as trend"
   ]
  },
  {
   "cell_type": "code",
   "execution_count": null,
   "id": "b175f953",
   "metadata": {},
   "outputs": [],
   "source": [
    "'''DECISION 0: DATE RANGE\n",
    "a small range of 1 year first to deal with lesser data.\n",
    "When everything works, can easily change and rerun.\n",
    "'''"
   ]
  },
  {
   "cell_type": "code",
   "execution_count": 5,
   "id": "23ad3181",
   "metadata": {},
   "outputs": [],
   "source": [
    "TICKER = \"FB\"\n",
    "START_DATE = '2021-01-01'\n",
    "END_DATE = '2021-12-31'"
   ]
  },
  {
   "cell_type": "code",
   "execution_count": null,
   "id": "e993337e",
   "metadata": {},
   "outputs": [],
   "source": [
    "# TODO: when things confirm work, expand date range. Smallest amount to work with first."
   ]
  },
  {
   "cell_type": "code",
   "execution_count": 6,
   "id": "fda215f3",
   "metadata": {},
   "outputs": [],
   "source": [
    "df = yf.download(TICKER,\n",
    "                start=START_DATE,\n",
    "                end=END_DATE,\n",
    "                progress=False)"
   ]
  },
  {
   "cell_type": "code",
   "execution_count": 7,
   "id": "a84b4e4d",
   "metadata": {},
   "outputs": [
    {
     "data": {
      "text/html": [
       "<div>\n",
       "<style scoped>\n",
       "    .dataframe tbody tr th:only-of-type {\n",
       "        vertical-align: middle;\n",
       "    }\n",
       "\n",
       "    .dataframe tbody tr th {\n",
       "        vertical-align: top;\n",
       "    }\n",
       "\n",
       "    .dataframe thead th {\n",
       "        text-align: right;\n",
       "    }\n",
       "</style>\n",
       "<table border=\"1\" class=\"dataframe\">\n",
       "  <thead>\n",
       "    <tr style=\"text-align: right;\">\n",
       "      <th></th>\n",
       "      <th>Open</th>\n",
       "      <th>High</th>\n",
       "      <th>Low</th>\n",
       "      <th>Close</th>\n",
       "      <th>Adj Close</th>\n",
       "      <th>Volume</th>\n",
       "    </tr>\n",
       "    <tr>\n",
       "      <th>Date</th>\n",
       "      <th></th>\n",
       "      <th></th>\n",
       "      <th></th>\n",
       "      <th></th>\n",
       "      <th></th>\n",
       "      <th></th>\n",
       "    </tr>\n",
       "  </thead>\n",
       "  <tbody>\n",
       "    <tr>\n",
       "      <th>2021-01-04</th>\n",
       "      <td>274.779999</td>\n",
       "      <td>275.000000</td>\n",
       "      <td>265.200012</td>\n",
       "      <td>268.940002</td>\n",
       "      <td>268.940002</td>\n",
       "      <td>15106100</td>\n",
       "    </tr>\n",
       "    <tr>\n",
       "      <th>2021-01-05</th>\n",
       "      <td>268.290009</td>\n",
       "      <td>272.399994</td>\n",
       "      <td>268.209991</td>\n",
       "      <td>270.970001</td>\n",
       "      <td>270.970001</td>\n",
       "      <td>9871600</td>\n",
       "    </tr>\n",
       "    <tr>\n",
       "      <th>2021-01-06</th>\n",
       "      <td>262.000000</td>\n",
       "      <td>267.750000</td>\n",
       "      <td>260.010010</td>\n",
       "      <td>263.309998</td>\n",
       "      <td>263.309998</td>\n",
       "      <td>24354100</td>\n",
       "    </tr>\n",
       "    <tr>\n",
       "      <th>2021-01-07</th>\n",
       "      <td>265.899994</td>\n",
       "      <td>271.609985</td>\n",
       "      <td>264.779999</td>\n",
       "      <td>268.739990</td>\n",
       "      <td>268.739990</td>\n",
       "      <td>15789800</td>\n",
       "    </tr>\n",
       "    <tr>\n",
       "      <th>2021-01-08</th>\n",
       "      <td>268.309998</td>\n",
       "      <td>268.950012</td>\n",
       "      <td>263.179993</td>\n",
       "      <td>267.570007</td>\n",
       "      <td>267.570007</td>\n",
       "      <td>18528300</td>\n",
       "    </tr>\n",
       "    <tr>\n",
       "      <th>...</th>\n",
       "      <td>...</td>\n",
       "      <td>...</td>\n",
       "      <td>...</td>\n",
       "      <td>...</td>\n",
       "      <td>...</td>\n",
       "      <td>...</td>\n",
       "    </tr>\n",
       "    <tr>\n",
       "      <th>2021-12-23</th>\n",
       "      <td>330.100006</td>\n",
       "      <td>336.670013</td>\n",
       "      <td>328.359985</td>\n",
       "      <td>335.239990</td>\n",
       "      <td>335.239990</td>\n",
       "      <td>13987700</td>\n",
       "    </tr>\n",
       "    <tr>\n",
       "      <th>2021-12-27</th>\n",
       "      <td>338.850006</td>\n",
       "      <td>347.869995</td>\n",
       "      <td>338.010010</td>\n",
       "      <td>346.179993</td>\n",
       "      <td>346.179993</td>\n",
       "      <td>17795000</td>\n",
       "    </tr>\n",
       "    <tr>\n",
       "      <th>2021-12-28</th>\n",
       "      <td>346.630005</td>\n",
       "      <td>352.709991</td>\n",
       "      <td>345.200012</td>\n",
       "      <td>346.220001</td>\n",
       "      <td>346.220001</td>\n",
       "      <td>16637600</td>\n",
       "    </tr>\n",
       "    <tr>\n",
       "      <th>2021-12-29</th>\n",
       "      <td>346.910004</td>\n",
       "      <td>349.690002</td>\n",
       "      <td>341.640015</td>\n",
       "      <td>342.940002</td>\n",
       "      <td>342.940002</td>\n",
       "      <td>10747000</td>\n",
       "    </tr>\n",
       "    <tr>\n",
       "      <th>2021-12-30</th>\n",
       "      <td>344.000000</td>\n",
       "      <td>347.230011</td>\n",
       "      <td>343.220001</td>\n",
       "      <td>344.359985</td>\n",
       "      <td>344.359985</td>\n",
       "      <td>10593300</td>\n",
       "    </tr>\n",
       "  </tbody>\n",
       "</table>\n",
       "<p>251 rows × 6 columns</p>\n",
       "</div>"
      ],
      "text/plain": [
       "                  Open        High         Low       Close   Adj Close  \\\n",
       "Date                                                                     \n",
       "2021-01-04  274.779999  275.000000  265.200012  268.940002  268.940002   \n",
       "2021-01-05  268.290009  272.399994  268.209991  270.970001  270.970001   \n",
       "2021-01-06  262.000000  267.750000  260.010010  263.309998  263.309998   \n",
       "2021-01-07  265.899994  271.609985  264.779999  268.739990  268.739990   \n",
       "2021-01-08  268.309998  268.950012  263.179993  267.570007  267.570007   \n",
       "...                ...         ...         ...         ...         ...   \n",
       "2021-12-23  330.100006  336.670013  328.359985  335.239990  335.239990   \n",
       "2021-12-27  338.850006  347.869995  338.010010  346.179993  346.179993   \n",
       "2021-12-28  346.630005  352.709991  345.200012  346.220001  346.220001   \n",
       "2021-12-29  346.910004  349.690002  341.640015  342.940002  342.940002   \n",
       "2021-12-30  344.000000  347.230011  343.220001  344.359985  344.359985   \n",
       "\n",
       "              Volume  \n",
       "Date                  \n",
       "2021-01-04  15106100  \n",
       "2021-01-05   9871600  \n",
       "2021-01-06  24354100  \n",
       "2021-01-07  15789800  \n",
       "2021-01-08  18528300  \n",
       "...              ...  \n",
       "2021-12-23  13987700  \n",
       "2021-12-27  17795000  \n",
       "2021-12-28  16637600  \n",
       "2021-12-29  10747000  \n",
       "2021-12-30  10593300  \n",
       "\n",
       "[251 rows x 6 columns]"
      ]
     },
     "execution_count": 7,
     "metadata": {},
     "output_type": "execute_result"
    }
   ],
   "source": [
    "df"
   ]
  },
  {
   "cell_type": "code",
   "execution_count": 8,
   "id": "842139f2",
   "metadata": {},
   "outputs": [
    {
     "data": {
      "text/plain": [
       "\"\\nDECISION 1: FEATURE ENGINEERING OPTIONS\\n1. Just Adj_Close, single feature <- NOW THIS\\n2. 5 features (open high low vol adj_close)\\n3. Add more features, eg moving average over X, Y, Z days.\\n\\nYou'll see more comment blocks below, each one means\\nthere are different options and we are choosing the simplest one now. \\nTo increase in complexity and try more once the basics work.\\nFinal choice will be based on their compared results.\\n\""
      ]
     },
     "execution_count": 8,
     "metadata": {},
     "output_type": "execute_result"
    }
   ],
   "source": [
    "'''\n",
    "DECISION 1: FEATURE ENGINEERING OPTIONS\n",
    "1. Just Adj_Close, single feature <- NOW THIS\n",
    "2. 5 features (open high low vol adj_close)\n",
    "3. Add more features, eg moving average over X, Y, Z days.\n",
    "\n",
    "You'll see more comment blocks below, each one means\n",
    "there are different options and we are choosing the simplest one now. \n",
    "To increase in complexity and try more once the basics work.\n",
    "Final choice will be based on their compared results.\n",
    "''' "
   ]
  },
  {
   "cell_type": "code",
   "execution_count": 9,
   "id": "99b3d9ce",
   "metadata": {
    "scrolled": true
   },
   "outputs": [
    {
     "data": {
      "text/plain": [
       "array([268.94000244, 270.97000122, 263.30999756, 268.73999023,\n",
       "       267.57000732, 256.83999634, 251.08999634, 251.63999939,\n",
       "       245.63999939, 251.36000061, 261.1000061 , 267.48001099,\n",
       "       272.86999512, 274.5       , 278.01000977, 282.04998779,\n",
       "       272.14001465, 265.        , 258.32998657, 262.01000977,\n",
       "       267.07998657, 266.6499939 , 266.48999023, 268.1000061 ,\n",
       "       266.57998657, 269.45001221, 271.86999512, 270.39001465,\n",
       "       270.5       , 273.97000122, 273.57000732, 269.39001465,\n",
       "       261.55999756, 260.32998657, 265.85998535, 264.30999756,\n",
       "       254.69000244, 257.61999512, 264.91000366, 259.        ,\n",
       "       255.41000366, 257.64001465, 264.27999878, 255.30999756,\n",
       "       265.73999023, 264.8999939 , 273.88000488, 268.3999939 ,\n",
       "       273.75      , 279.27999878, 284.01000977, 278.61999512,\n",
       "       290.10998535, 293.54000854, 290.63000488, 282.14001465,\n",
       "       278.73999023, 283.01998901, 290.82000732, 288.        ,\n",
       "       294.52999878, 298.66000366, 308.91000366, 306.26000977,\n",
       "       313.08999634, 313.01998901, 312.45999146, 311.54000854,\n",
       "       309.76000977, 302.82000732, 307.82000732, 306.17999268,\n",
       "       302.23999023, 302.6499939 , 301.47000122, 296.51998901,\n",
       "       301.13000488, 303.04000854, 303.57000732, 307.1000061 ,\n",
       "       329.51000977, 325.07998657, 322.57998657, 318.35998535,\n",
       "       315.01998901, 320.01998901, 319.07998657, 305.97000122,\n",
       "       306.52999878, 302.54998779, 305.26000977, 315.94000244,\n",
       "       315.45999146, 309.95999146, 313.58999634, 318.60998535,\n",
       "       316.23001099, 324.63000488, 327.79000854, 327.66000366,\n",
       "       332.75      , 328.73001099, 329.13000488, 329.1499939 ,\n",
       "       326.04000854, 330.3500061 , 336.57998657, 333.67999268,\n",
       "       330.25      , 332.45999146, 331.26000977, 336.76998901,\n",
       "       336.75      , 331.07998657, 336.51000977, 329.66000366,\n",
       "       332.29000854, 339.02999878, 340.58999634, 343.17999268,\n",
       "       341.36999512, 355.64001465, 351.89001465, 347.70999146,\n",
       "       354.39001465, 354.70001221, 352.77999878, 350.48999023,\n",
       "       345.6499939 , 350.42001343, 353.16000366, 352.08999634,\n",
       "       347.63000488, 344.45999146, 341.16000366, 336.95001221,\n",
       "       341.66000366, 346.23001099, 351.19000244, 369.79000854,\n",
       "       372.45999146, 367.80999756, 373.27999878, 358.32000732,\n",
       "       356.29998779, 351.95001221, 351.23999023, 358.92001343,\n",
       "       362.97000122, 363.51000977, 361.60998535, 361.13000488,\n",
       "       359.95999146, 362.6499939 , 363.17999268, 366.55999756,\n",
       "       358.45001221, 355.45001221, 355.11999512, 359.36999512,\n",
       "       363.3500061 , 365.51000977, 368.39001465, 364.38000488,\n",
       "       372.63000488, 380.66000366, 379.38000488, 382.04998779,\n",
       "       375.27999878, 376.26000977, 382.17999268, 377.57000732,\n",
       "       378.        , 378.69000244, 376.51000977, 376.52999878,\n",
       "       373.92001343, 373.05999756, 364.72000122, 355.70001221,\n",
       "       357.48001099, 343.20999146, 345.95999146, 352.95999146,\n",
       "       353.57998657, 340.6499939 , 339.60998535, 339.39001465,\n",
       "       343.01000977, 326.23001099, 332.95999146, 333.64001465,\n",
       "       329.22000122, 330.04998779, 325.45001221, 323.76998901,\n",
       "       324.54000854, 328.52999878, 324.76000977, 335.33999634,\n",
       "       339.98999023, 340.77999878, 341.88000488, 324.60998535,\n",
       "       328.69000244, 315.80999756, 312.22000122, 316.92001343,\n",
       "       323.57000732, 329.98001099, 328.07998657, 331.61999512,\n",
       "       335.8500061 , 341.13000488, 338.61999512, 335.36999512,\n",
       "       327.64001465, 327.73999023, 340.89001465, 347.55999756,\n",
       "       342.95999146, 340.76998901, 338.69000244, 345.29998779,\n",
       "       341.01000977, 337.25      , 341.05999756, 333.11999512,\n",
       "       338.02999878, 324.45999146, 310.6000061 , 310.39001465,\n",
       "       306.83999634, 317.86999512, 322.80999756, 330.55999756,\n",
       "       329.82000732, 329.75      , 334.48999023, 333.73999023,\n",
       "       341.66000366, 334.8999939 , 333.79000854, 325.45001221,\n",
       "       334.20001221, 330.45001221, 335.23999023, 346.17999268,\n",
       "       346.22000122, 342.94000244, 344.35998535])"
      ]
     },
     "execution_count": 9,
     "metadata": {},
     "output_type": "execute_result"
    }
   ],
   "source": [
    "prices = df['Adj Close'].values\n",
    "prices.shape\n",
    "prices"
   ]
  },
  {
   "cell_type": "code",
   "execution_count": 10,
   "id": "efa5f843",
   "metadata": {},
   "outputs": [
    {
     "data": {
      "text/plain": [
       "'\\nDECISION 2: DATA PROCESSING OPTIONS\\n1. MinMaxNorm scale then window <- Now This. to try the others.\\n2. StandardScale then window\\n3. Window then MinMaxNorm\\n4. Window then StandardScale\\n\\nPossible reason for Standard Scalar over MinMax, from \\nhttps://neptune.ai/blog/predicting-stock-prices-using-machine-learning.\\nWe use the StandardScaler, rather than the MinMaxScaler as you might have seen before. \\nThe reason is that stock prices are ever-changing, and there are no true min or max values. \\nIt doesn’t make sense to use the MinMaxScaler, although this choice probably won’t lead to disastrous results at the end of the day;\\n\\nie unverified, we should try all options and let the data speak for itself\\n'"
      ]
     },
     "execution_count": 10,
     "metadata": {},
     "output_type": "execute_result"
    }
   ],
   "source": [
    "'''TODO\n",
    "DECISION 2: DATA PROCESSING OPTIONS\n",
    "1. MinMaxNorm scale then window <- Now This. to try the others.\n",
    "2. StandardScale then window\n",
    "3. Window then MinMaxNorm\n",
    "4. Window then StandardScale\n",
    "\n",
    "Possible reason for Standard Scalar over MinMax, from \n",
    "https://neptune.ai/blog/predicting-stock-prices-using-machine-learning.\n",
    "We use the StandardScaler, rather than the MinMaxScaler as you might have seen before. \n",
    "The reason is that stock prices are ever-changing, and there are no true min or max values. \n",
    "It doesn’t make sense to use the MinMaxScaler, although this choice probably won’t lead to disastrous results at the end of the day;\n",
    "\n",
    "ie unverified, we should try all options and let the data speak for itself\n",
    "'''"
   ]
  },
  {
   "cell_type": "code",
   "execution_count": 11,
   "id": "186c09d9",
   "metadata": {},
   "outputs": [
    {
     "data": {
      "text/plain": [
       "array([[-0.65870801],\n",
       "       [-0.62897315],\n",
       "       [-0.74117476],\n",
       "       [-0.66163773],\n",
       "       [-0.67877532],\n",
       "       [-0.83594555],\n",
       "       [-0.92016995],\n",
       "       [-0.91211366],\n",
       "       [-1.        ],\n",
       "       [-0.91621501],\n",
       "       [-0.7735461 ],\n",
       "       [-0.68009356],\n",
       "       [-0.60114257],\n",
       "       [-0.57726671],\n",
       "       [-0.52585305],\n",
       "       [-0.46667658],\n",
       "       [-0.61183512],\n",
       "       [-0.71642007],\n",
       "       [-0.81412058],\n",
       "       [-0.76021662],\n",
       "       [-0.68595301],\n",
       "       [-0.69225142],\n",
       "       [-0.69459511],\n",
       "       [-0.67101204],\n",
       "       [-0.69327687],\n",
       "       [-0.65123753],\n",
       "       [-0.61579029],\n",
       "       [-0.63746863],\n",
       "       [-0.6358576 ],\n",
       "       [-0.58502998],\n",
       "       [-0.59088898],\n",
       "       [-0.65211636],\n",
       "       [-0.76680828],\n",
       "       [-0.78482514],\n",
       "       [-0.70382325],\n",
       "       [-0.72652704],\n",
       "       [-0.86743806],\n",
       "       [-0.82452034],\n",
       "       [-0.71773832],\n",
       "       [-0.80430641],\n",
       "       [-0.85689168],\n",
       "       [-0.8242271 ],\n",
       "       [-0.72696645],\n",
       "       [-0.85835655],\n",
       "       [-0.7055809 ],\n",
       "       [-0.71788494],\n",
       "       [-0.58634822],\n",
       "       [-0.6666179 ],\n",
       "       [-0.5882525 ],\n",
       "       [-0.50725061],\n",
       "       [-0.43796672],\n",
       "       [-0.51691816],\n",
       "       [-0.34861596],\n",
       "       [-0.29837393],\n",
       "       [-0.34099886],\n",
       "       [-0.46535789],\n",
       "       [-0.5151605 ],\n",
       "       [-0.45246827],\n",
       "       [-0.33821576],\n",
       "       [-0.37952244],\n",
       "       [-0.28387283],\n",
       "       [-0.22337766],\n",
       "       [-0.0732385 ],\n",
       "       [-0.11205488],\n",
       "       [-0.01201113],\n",
       "       [-0.01303658],\n",
       "       [-0.02123927],\n",
       "       [-0.03471492],\n",
       "       [-0.06078785],\n",
       "       [-0.16244308],\n",
       "       [-0.08920447],\n",
       "       [-0.11322695],\n",
       "       [-0.17093901],\n",
       "       [-0.16493339],\n",
       "       [-0.1822176 ],\n",
       "       [-0.25472401],\n",
       "       [-0.18719777],\n",
       "       [-0.15922057],\n",
       "       [-0.15145729],\n",
       "       [-0.09975085],\n",
       "       [ 0.22850468],\n",
       "       [ 0.16361493],\n",
       "       [ 0.12699562],\n",
       "       [ 0.06518221],\n",
       "       [ 0.01625887],\n",
       "       [ 0.08949748],\n",
       "       [ 0.07572859],\n",
       "       [-0.11630284],\n",
       "       [-0.10810016],\n",
       "       [-0.16639825],\n",
       "       [-0.1267026 ],\n",
       "       [ 0.02973497],\n",
       "       [ 0.0227039 ],\n",
       "       [-0.05785857],\n",
       "       [-0.00468727],\n",
       "       [ 0.06884414],\n",
       "       [ 0.03398294],\n",
       "       [ 0.15702372],\n",
       "       [ 0.20331058],\n",
       "       [ 0.2014063 ],\n",
       "       [ 0.27596316],\n",
       "       [ 0.21707947],\n",
       "       [ 0.22293847],\n",
       "       [ 0.22323127],\n",
       "       [ 0.17767706],\n",
       "       [ 0.24080871],\n",
       "       [ 0.33206374],\n",
       "       [ 0.28958543],\n",
       "       [ 0.23934385],\n",
       "       [ 0.27171519],\n",
       "       [ 0.2541382 ],\n",
       "       [ 0.33484684],\n",
       "       [ 0.33455405],\n",
       "       [ 0.25150127],\n",
       "       [ 0.33103874],\n",
       "       [ 0.23070175],\n",
       "       [ 0.26922533],\n",
       "       [ 0.36795084],\n",
       "       [ 0.39080125],\n",
       "       [ 0.4287388 ],\n",
       "       [ 0.40222646],\n",
       "       [ 0.61124975],\n",
       "       [ 0.55632079],\n",
       "       [ 0.49509297],\n",
       "       [ 0.5929401 ],\n",
       "       [ 0.59748086],\n",
       "       [ 0.56935703],\n",
       "       [ 0.53581362],\n",
       "       [ 0.4649187 ],\n",
       "       [ 0.53478862],\n",
       "       [ 0.57492324],\n",
       "       [ 0.55925007],\n",
       "       [ 0.49392135],\n",
       "       [ 0.44748787],\n",
       "       [ 0.39915056],\n",
       "       [ 0.33748377],\n",
       "       [ 0.40647442],\n",
       "       [ 0.47341463],\n",
       "       [ 0.54606721],\n",
       "       [ 0.81851494],\n",
       "       [ 0.85762411],\n",
       "       [ 0.78951229],\n",
       "       [ 0.86963535],\n",
       "       [ 0.65050554],\n",
       "       [ 0.62091686],\n",
       "       [ 0.55719962],\n",
       "       [ 0.54679941],\n",
       "       [ 0.65929427],\n",
       "       [ 0.71861737],\n",
       "       [ 0.72652726],\n",
       "       [ 0.69869623],\n",
       "       [ 0.69166561],\n",
       "       [ 0.67452758],\n",
       "       [ 0.71392999],\n",
       "       [ 0.72169326],\n",
       "       [ 0.77120264],\n",
       "       [ 0.65240982],\n",
       "       [ 0.60846665],\n",
       "       [ 0.60363265],\n",
       "       [ 0.66588547],\n",
       "       [ 0.72418357],\n",
       "       [ 0.75582271],\n",
       "       [ 0.79800822],\n",
       "       [ 0.73927071],\n",
       "       [ 0.86011442],\n",
       "       [ 0.97773562],\n",
       "       [ 0.95898655],\n",
       "       [ 0.99809572],\n",
       "       [ 0.8989308 ],\n",
       "       [ 0.91328573],\n",
       "       [ 1.        ],\n",
       "       [ 0.93247421],\n",
       "       [ 0.93877263],\n",
       "       [ 0.94887959],\n",
       "       [ 0.91694766],\n",
       "       [ 0.91724045],\n",
       "       [ 0.87901011],\n",
       "       [ 0.86641284],\n",
       "       [ 0.74425088],\n",
       "       [ 0.61212858],\n",
       "       [ 0.63820151],\n",
       "       [ 0.42917822],\n",
       "       [ 0.46945946],\n",
       "       [ 0.57199352],\n",
       "       [ 0.58107503],\n",
       "       [ 0.39168008],\n",
       "       [ 0.37644632],\n",
       "       [ 0.37322425],\n",
       "       [ 0.42624894],\n",
       "       [ 0.18046017],\n",
       "       [ 0.27903906],\n",
       "       [ 0.28899985],\n",
       "       [ 0.22425672],\n",
       "       [ 0.23641413],\n",
       "       [ 0.16903496],\n",
       "       [ 0.14442645],\n",
       "       [ 0.15570548],\n",
       "       [ 0.21414975],\n",
       "       [ 0.158928  ],\n",
       "       [ 0.31390071],\n",
       "       [ 0.38201253],\n",
       "       [ 0.39358436],\n",
       "       [ 0.40969694],\n",
       "       [ 0.15673048],\n",
       "       [ 0.21649344],\n",
       "       [ 0.0278307 ],\n",
       "       [-0.02475458],\n",
       "       [ 0.0440899 ],\n",
       "       [ 0.14149717],\n",
       "       [ 0.23538913],\n",
       "       [ 0.2075581 ],\n",
       "       [ 0.25941116],\n",
       "       [ 0.32137119],\n",
       "       [ 0.39871115],\n",
       "       [ 0.36194522],\n",
       "       [ 0.31434012],\n",
       "       [ 0.20111351],\n",
       "       [ 0.20257792],\n",
       "       [ 0.39519584],\n",
       "       [ 0.4928959 ],\n",
       "       [ 0.42551629],\n",
       "       [ 0.39343774],\n",
       "       [ 0.36297067],\n",
       "       [ 0.4597919 ],\n",
       "       [ 0.39695349],\n",
       "       [ 0.34187791],\n",
       "       [ 0.3976857 ],\n",
       "       [ 0.28138275],\n",
       "       [ 0.35330312],\n",
       "       [ 0.15453341],\n",
       "       [-0.04848382],\n",
       "       [-0.05155971],\n",
       "       [-0.1035594 ],\n",
       "       [ 0.05800497],\n",
       "       [ 0.13036476],\n",
       "       [ 0.24388461],\n",
       "       [ 0.23304544],\n",
       "       [ 0.23201999],\n",
       "       [ 0.30145005],\n",
       "       [ 0.29046426],\n",
       "       [ 0.40647442],\n",
       "       [ 0.30745567],\n",
       "       [ 0.29119692],\n",
       "       [ 0.16903496],\n",
       "       [ 0.29720254],\n",
       "       [ 0.24227358],\n",
       "       [ 0.31243585],\n",
       "       [ 0.47268197],\n",
       "       [ 0.47326801],\n",
       "       [ 0.42522349],\n",
       "       [ 0.44602301]])"
      ]
     },
     "execution_count": 11,
     "metadata": {},
     "output_type": "execute_result"
    }
   ],
   "source": [
    "from sklearn.preprocessing import MinMaxScaler\n",
    "scaler = MinMaxScaler(feature_range=(-1, 1))\n",
    "minmax_norm_prices = scaler.fit_transform(prices.reshape(-1,1))\n",
    "minmax_norm_prices"
   ]
  },
  {
   "cell_type": "code",
   "execution_count": 12,
   "id": "84b2f85f",
   "metadata": {},
   "outputs": [],
   "source": [
    "WINDOW_SIZE = 30 # choose sequence length\n",
    "TRAIN_SPLIT = 0.8\n",
    "VAL_SPLIT = 0.1\n",
    "TEST_SPLIT = 0.1\n",
    "\n",
    "def split_data(norm_data, window_size):\n",
    "    window_data = []\n",
    "    \n",
    "    # create all possible sequences of length seq_len\n",
    "    for index in range(len(norm_data) - window_size): \n",
    "        window_data.append(norm_data[index: index + window_size])\n",
    "    \n",
    "    window_data = np.array(window_data);\n",
    "    test_set_size = int(np.round(TEST_SPLIT*window_data.shape[0]))\n",
    "    val_set_size = int(np.round(VAL_SPLIT*window_data.shape[0]))\n",
    "    train_set_size = window_data.shape[0] - (val_set_size) - (test_set_size)\n",
    "    \n",
    "    test_start_index = train_set_size+val_set_size\n",
    "    \n",
    "    x_train = window_data[:train_set_size,:-1,:]\n",
    "    y_train = window_data[:train_set_size,-1,:]\n",
    "    \n",
    "    x_val = window_data[train_set_size:test_start_index,:-1,:]\n",
    "    y_val = window_data[train_set_size:test_start_index,-1,:]\n",
    "    \n",
    "    x_test = window_data[test_start_index:,:-1]\n",
    "    y_test = window_data[test_start_index:,-1,:]\n",
    "    \n",
    "    return [x_train, y_train, x_val, y_val, x_test, y_test]\n",
    "\n",
    "x_train, y_train, x_val, y_val, x_test, y_test = split_data(minmax_norm_prices, WINDOW_SIZE)"
   ]
  },
  {
   "cell_type": "code",
   "execution_count": 13,
   "id": "9a5083e3",
   "metadata": {},
   "outputs": [
    {
     "name": "stdout",
     "output_type": "stream",
     "text": [
      "(177, 29, 1)\n",
      "(177, 1)\n",
      "(22, 29, 1)\n",
      "(22, 1)\n",
      "(22, 29, 1)\n",
      "(22, 1)\n"
     ]
    }
   ],
   "source": [
    "print(x_train.shape)\n",
    "print(y_train.shape)\n",
    "print(x_val.shape)\n",
    "print(y_val.shape)\n",
    "print(x_test.shape)\n",
    "print(y_test.shape)"
   ]
  },
  {
   "cell_type": "code",
   "execution_count": 14,
   "id": "175e64e4",
   "metadata": {},
   "outputs": [
    {
     "data": {
      "text/plain": [
       "'\\nDECISION 3: MODEL ARCHITECTURE\\n- MLP\\n- LSTM <- THIS NOW\\n- GRU <- THIS NOW\\n- Transformer\\n\\nLSTM, GRU credit (copy pasted edited):\\nhttps://medium.com/swlh/stock-price-prediction-with-pytorch-37f52ae84632\\n'"
      ]
     },
     "execution_count": 14,
     "metadata": {},
     "output_type": "execute_result"
    }
   ],
   "source": [
    "'''TODO\n",
    "DECISION 3: MODEL ARCHITECTURE\n",
    "- MLP\n",
    "- LSTM <- THIS NOW\n",
    "- GRU <- THIS NOW\n",
    "- Transformer\n",
    "\n",
    "LSTM, GRU credit (copy pasted edited):\n",
    "https://medium.com/swlh/stock-price-prediction-with-pytorch-37f52ae84632\n",
    "'''"
   ]
  },
  {
   "cell_type": "code",
   "execution_count": 15,
   "id": "fae6d61a",
   "metadata": {},
   "outputs": [],
   "source": [
    "x_train = torch.from_numpy(x_train).type(torch.Tensor)\n",
    "x_val = torch.from_numpy(x_val).type(torch.Tensor)\n",
    "x_test = torch.from_numpy(x_test).type(torch.Tensor)\n",
    "\n",
    "y_train = torch.from_numpy(y_train).type(torch.Tensor)\n",
    "y_val = torch.from_numpy(y_val).type(torch.Tensor)\n",
    "y_test = torch.from_numpy(y_test).type(torch.Tensor)"
   ]
  },
  {
   "cell_type": "code",
   "execution_count": 16,
   "id": "0424a71f",
   "metadata": {},
   "outputs": [
    {
     "data": {
      "text/plain": [
       "'\\nDECISION 4: CRITERION\\n- RMSE <- THIS NOW\\n- MAPE (to use pytorch forecasting \\nhttps://pytorch-forecasting.readthedocs.io/en/latest/api/pytorch_forecasting.metrics.MAPE.html)\\n'"
      ]
     },
     "execution_count": 16,
     "metadata": {},
     "output_type": "execute_result"
    }
   ],
   "source": [
    "'''TODO\n",
    "DECISION 4: CRITERION\n",
    "- RMSE <- THIS NOW\n",
    "- MAPE (to use pytorch forecasting \n",
    "https://pytorch-forecasting.readthedocs.io/en/latest/api/pytorch_forecasting.metrics.MAPE.html)\n",
    "'''"
   ]
  },
  {
   "cell_type": "code",
   "execution_count": 17,
   "id": "a05e52dc",
   "metadata": {},
   "outputs": [],
   "source": [
    "# RMSE. \n",
    "# Credit https://gist.github.com/jamesr2323/33c67ba5ac29880171b63d2c7f1acdc5\n",
    "\n",
    "class RMSLELoss(nn.Module):\n",
    "    def __init__(self):\n",
    "        super().__init__()\n",
    "        \n",
    "    def forward(self, pred, actual):\n",
    "        mse = nn.MSELoss()\n",
    "        eps = 1e-6 # in case of 0, backprop will result in nans\n",
    "        return torch.sqrt(mse(pred,actual)+eps)"
   ]
  },
  {
   "cell_type": "code",
   "execution_count": null,
   "id": "8fafb840",
   "metadata": {},
   "outputs": [],
   "source": [
    "''' \n",
    "This was a quick and dirty POC.\n",
    "\n",
    "TODO: Simplify by use Pytorch Datasets & Dataloaders, \n",
    "https://pytorch.org/tutorials/beginner/basics/data_tutorial.html\n",
    "\n",
    "TODO: Then for train test val loss + accuracy,\n",
    "we can use Tensorboard out of the box for graphs etc\n",
    "https://pytorch.org/docs/stable/tensorboard.html\n",
    "'''"
   ]
  },
  {
   "cell_type": "code",
   "execution_count": 18,
   "id": "57b9a312",
   "metadata": {},
   "outputs": [
    {
     "data": {
      "text/plain": [
       "'LSTM'"
      ]
     },
     "execution_count": 18,
     "metadata": {},
     "output_type": "execute_result"
    }
   ],
   "source": [
    "'''LSTM'''"
   ]
  },
  {
   "cell_type": "code",
   "execution_count": 19,
   "id": "6301aba2",
   "metadata": {},
   "outputs": [],
   "source": [
    "input_dim = 1\n",
    "hidden_dim = 32\n",
    "num_layers = 2\n",
    "output_dim = 1\n",
    "num_epochs = 300"
   ]
  },
  {
   "cell_type": "code",
   "execution_count": 20,
   "id": "b734dd54",
   "metadata": {},
   "outputs": [],
   "source": [
    "class LSTM(nn.Module):\n",
    "    def __init__(self, input_dim, hidden_dim, num_layers, output_dim):\n",
    "        super(LSTM, self).__init__()\n",
    "        self.hidden_dim = hidden_dim\n",
    "        self.num_layers = num_layers\n",
    "        \n",
    "        self.lstm = nn.LSTM(input_dim, hidden_dim, num_layers, batch_first=True)\n",
    "        self.fc = nn.Linear(hidden_dim, output_dim)\n",
    "    def forward(self, x):\n",
    "        h0 = torch.zeros(self.num_layers, x.size(0), self.hidden_dim).requires_grad_()\n",
    "        c0 = torch.zeros(self.num_layers, x.size(0), self.hidden_dim).requires_grad_()\n",
    "        out, (hn, cn) = self.lstm(x, (h0.detach(), c0.detach()))\n",
    "        out = self.fc(out[:, -1, :]) \n",
    "        return out\n",
    "\n",
    "lstm_model = LSTM(input_dim=input_dim, hidden_dim=hidden_dim, output_dim=output_dim, num_layers=num_layers)\n",
    "criterion = RMSLELoss()\n",
    "optimiser = torch.optim.Adam(lstm_model.parameters(), lr=0.01)"
   ]
  },
  {
   "cell_type": "code",
   "execution_count": 21,
   "id": "2047241d",
   "metadata": {},
   "outputs": [
    {
     "name": "stdout",
     "output_type": "stream",
     "text": [
      "Epoch  0 RMSE:  0.4909648597240448\n",
      "Epoch  100 RMSE:  0.08475415408611298\n",
      "Epoch  200 RMSE:  0.07164284586906433\n",
      "Training time: 8.452577590942383\n"
     ]
    }
   ],
   "source": [
    "import time\n",
    "lstm_hist = np.zeros(num_epochs)\n",
    "start_time = time.time()\n",
    "for t in range(num_epochs):\n",
    "    lstm_y_train_pred = lstm_model(x_train)\n",
    "    loss = criterion(lstm_y_train_pred, y_train)\n",
    "    if t % 100 == 0:\n",
    "        print(\"Epoch \", t, \"RMSE: \", loss.item())\n",
    "    lstm_hist[t] = loss.item()\n",
    "    optimiser.zero_grad()\n",
    "    loss.backward()\n",
    "    optimiser.step()\n",
    "    \n",
    "training_time = time.time()-start_time\n",
    "print(\"Training time: {}\".format(training_time))"
   ]
  },
  {
   "cell_type": "code",
   "execution_count": 27,
   "id": "bbb02cc7",
   "metadata": {},
   "outputs": [
    {
     "data": {
      "image/png": "[encoded data removed]",
      "text/plain": [
       "<Figure size 432x288 with 1 Axes>"
      ]
     },
     "metadata": {
      "needs_background": "light"
     },
     "output_type": "display_data"
    },
    {
     "data": {
      "image/png": "[encoded data removed]",
      "text/plain": [
       "<Figure size 432x288 with 1 Axes>"
      ]
     },
     "metadata": {
      "needs_background": "light"
     },
     "output_type": "display_data"
    },
    {
     "data": {
      "image/png": "[encoded data removed]",
      "text/plain": [
       "<Figure size 432x288 with 1 Axes>"
      ]
     },
     "metadata": {
      "needs_background": "light"
     },
     "output_type": "display_data"
    }
   ],
   "source": [
    "plt.title(\"LSTM Training Curve: Loss per epoch\")\n",
    "plt.plot(lstm_hist, label=\"Train\")\n",
    "plt.xlabel(\"Epoch\")\n",
    "plt.ylabel(\"RMSE Loss\")\n",
    "plt.show()\n",
    "\n",
    "lstm_y_val_pred = lstm_model(x_val).detach().numpy()\n",
    "\n",
    "plt.title(\"LSTM Accuracy for Val set\")\n",
    "plt.plot(y_val, label=\"Val Actual\")\n",
    "plt.plot(lstm_y_val_pred, label=\"Val Prediction\")\n",
    "plt.xlabel(\"Samples\")\n",
    "plt.ylabel(\"Predicted Norm values\")\n",
    "plt.legend(loc='best')\n",
    "plt.show()\n",
    "\n",
    "lstm_y_test_pred = lstm_model(x_test).detach().numpy()\n",
    "\n",
    "plt.title(\"LSTM Accuracy for Test set\")\n",
    "plt.plot(y_test, label=\"Test Actual\")\n",
    "plt.plot(lstm_y_test_pred, label=\"Test Prediction\")\n",
    "plt.xlabel(\"Samples\")\n",
    "plt.ylabel(\"Predicted Norm values\")\n",
    "plt.legend(loc='best')\n",
    "plt.show()\n",
    "\n",
    "# hmm its predicting the same for val and test"
   ]
  },
  {
   "cell_type": "code",
   "execution_count": 23,
   "id": "8c705f6d",
   "metadata": {},
   "outputs": [
    {
     "data": {
      "text/plain": [
       "'GRU'"
      ]
     },
     "execution_count": 23,
     "metadata": {},
     "output_type": "execute_result"
    }
   ],
   "source": [
    "'''GRU'''"
   ]
  },
  {
   "cell_type": "code",
   "execution_count": 24,
   "id": "9c64c0e1",
   "metadata": {},
   "outputs": [],
   "source": [
    "class GRU(nn.Module):\n",
    "    def __init__(self, input_dim, hidden_dim, num_layers, output_dim):\n",
    "        super(GRU, self).__init__()\n",
    "        self.hidden_dim = hidden_dim\n",
    "        self.num_layers = num_layers\n",
    "        \n",
    "        self.gru = nn.GRU(input_dim, hidden_dim, num_layers, batch_first=True)\n",
    "        self.fc = nn.Linear(hidden_dim, output_dim)\n",
    "\n",
    "    def forward(self, x):\n",
    "        h0 = torch.zeros(self.num_layers, x.size(0), self.hidden_dim).requires_grad_()\n",
    "        out, (hn) = self.gru(x, (h0.detach()))\n",
    "        out = self.fc(out[:, -1, :]) \n",
    "        return out\n",
    "    \n",
    "gru_model = GRU(input_dim=input_dim, hidden_dim=hidden_dim, output_dim=output_dim, num_layers=num_layers)\n",
    "criterion = criterion = RMSLELoss()\n",
    "optimiser = torch.optim.Adam(gru_model.parameters(), lr=0.01)"
   ]
  },
  {
   "cell_type": "code",
   "execution_count": 25,
   "id": "fe44f4b7",
   "metadata": {},
   "outputs": [
    {
     "name": "stdout",
     "output_type": "stream",
     "text": [
      "Epoch  0 RMSE:  0.5831928849220276\n",
      "Epoch  100 RMSE:  0.0846315547823906\n",
      "Epoch  200 RMSE:  0.08229676634073257\n",
      "Training time: 7.18542742729187\n"
     ]
    }
   ],
   "source": [
    "import time\n",
    "gru_hist = np.zeros(num_epochs)\n",
    "start_time = time.time()\n",
    "\n",
    "for t in range(num_epochs):\n",
    "    gru_y_train_pred = gru_model(x_train)\n",
    "    loss = criterion(gru_y_train_pred, y_train)\n",
    "    if t % 100 == 0:\n",
    "        print(\"Epoch \", t, \"RMSE: \", loss.item())\n",
    "    gru_hist[t] = loss.item()\n",
    "    optimiser.zero_grad()\n",
    "    loss.backward()\n",
    "    optimiser.step()\n",
    "    \n",
    "training_time = time.time()-start_time\n",
    "print(\"Training time: {}\".format(training_time))"
   ]
  },
  {
   "cell_type": "code",
   "execution_count": 30,
   "id": "ad2df66b",
   "metadata": {},
   "outputs": [
    {
     "data": {
      "image/png": "[encoded data removed]",
      "text/plain": [
       "<Figure size 432x288 with 1 Axes>"
      ]
     },
     "metadata": {
      "needs_background": "light"
     },
     "output_type": "display_data"
    },
    {
     "data": {
      "image/png": "[encoded data removed]",
      "text/plain": [
       "<Figure size 432x288 with 1 Axes>"
      ]
     },
     "metadata": {
      "needs_background": "light"
     },
     "output_type": "display_data"
    },
    {
     "data": {
      "image/png": "[encoded data removed]",
      "text/plain": [
       "<Figure size 432x288 with 1 Axes>"
      ]
     },
     "metadata": {
      "needs_background": "light"
     },
     "output_type": "display_data"
    }
   ],
   "source": [
    "plt.title(\"GRU Training Curve: Loss per epoch\")\n",
    "plt.plot(gru_hist, label=\"Train\")\n",
    "plt.xlabel(\"Epoch\")\n",
    "plt.ylabel(\"RMSE Loss\")\n",
    "plt.show()\n",
    "\n",
    "# hmm why predicting the same\n",
    "\n",
    "gru_y_val_pred = gru_model(x_val).detach().numpy()\n",
    "\n",
    "plt.title(\"GRU Accuracy for Val set\")\n",
    "plt.plot(y_val, label=\"Val Actual\")\n",
    "plt.plot(gru_y_val_pred, label=\"Val Prediction\")\n",
    "plt.xlabel(\"Samples\")\n",
    "plt.ylabel(\"Predicted Norm values\")\n",
    "plt.legend(loc='best')\n",
    "plt.show()\n",
    "\n",
    "gru_y_test_pred = gru_model(x_test).detach().numpy()\n",
    "\n",
    "plt.title(\"GRU Accuracy for Test set\")\n",
    "plt.plot(y_test, label=\"Test Actual\")\n",
    "plt.plot(gru_y_test_pred, label=\"Test Prediction\")\n",
    "plt.xlabel(\"Samples\")\n",
    "plt.ylabel(\"Predicted Norm values\")\n",
    "plt.legend(loc='best')\n",
    "plt.show()"
   ]
  },
  {
   "cell_type": "code",
   "execution_count": null,
   "id": "e79370df",
   "metadata": {},
   "outputs": [],
   "source": []
  },
  {
   "cell_type": "code",
   "execution_count": null,
   "id": "a6da5394",
   "metadata": {},
   "outputs": [],
   "source": []
  }
 ],
 "metadata": {
  "kernelspec": {
   "display_name": "Python 3 (ipykernel)",
   "language": "python",
   "name": "python3"
  },
  "language_info": {
   "codemirror_mode": {
    "name": "ipython",
    "version": 3
   },
   "file_extension": ".py",
   "mimetype": "text/x-python",
   "name": "python",
   "nbconvert_exporter": "python",
   "pygments_lexer": "ipython3",
   "version": "3.9.7"
  }
 },
 "nbformat": 4,
 "nbformat_minor": 5
}
