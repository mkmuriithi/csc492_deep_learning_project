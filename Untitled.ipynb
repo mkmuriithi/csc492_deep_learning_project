{
 "cells": [
  {
   "cell_type": "code",
   "execution_count": 4,
   "id": "aa012bc5",
   "metadata": {},
   "outputs": [],
   "source": [
    "import pandas as pd\n",
    "import umpy as np\n",
    "import yfinance as yf\n",
    "import matplotlib.pyplot as plt\n",
    "\n",
    "\n",
    "#these libraries will be used to generate indicators from the raw data\n",
    "import ta.momentum as moment\n",
    "import ta.volume as vol\n",
    "import ta.volatility as vl\n",
    "import ta.trend as trend\n",
    "\n",
    "#packages for viewing TearsheetStatistics\n",
    "from qstrader.statistics.tearsheet import TearsheetStatistics\n",
    "\n",
    "#import \n",
    "#for backtesting\n",
    "from __future__ import (absolute_import, division, print_function, unicode_literals)\n",
    "import backtrader as bt\n",
    "import datatime\n",
    "import os.path\n",
    "import sys\n",
    "\n",
    "#import the different models that we will be using for selecting best performing models\n",
    "from sklearn.metrics import accuracy_score\n",
    "from sklearn.metrics import mean_squared_error #take root of this\n",
    "\n",
    "\n",
    "#models\n",
    "import xgboost.XGBRegressor as xgboost\n",
    "from sklearn.linear_model import LinearRegression\n",
    "from sklearn import svm\n",
    "\n",
    "#note that for backtrader data feed must all be Yahoo Finance feed, otherwise custom data feed must be cretated\n",
    "\n",
    "#Gridsearch will best time to do the train test split on\n",
    "#Surivorship bias it not an issue because we only care about predicting the price of existing stocks, not stocks that do not exist anymore\n",
    "\n",
    "#want to see all columns\n",
    "pd.set_option('display.max_columns', None)\n"
   ]
  },
  {
   "cell_type": "markdown",
   "id": "5ce33df5",
   "metadata": {},
   "source": [
    "We are considering the entire universe of US stocks, but we would like to filter for good quality stocks based on domain knowledge\n",
    "1. Filter for stocks above a certain marketcap (which alphavantage provides)\n",
    "2. Filter for stocks that have a certain average volatility measure (will pick the measure and the minimum)\n",
    "\n",
    "Other possibilities:\n",
    "1. Only pick stocks that are in a given index (so as to limit the Universt of stocks considered at one time)\n",
    "\n"
   ]
  },
  {
   "cell_type": "markdown",
   "id": "8c9fd748",
   "metadata": {},
   "source": [
    "<h2>Pull Data</h2>"
   ]
  },
  {
   "cell_type": "markdown",
   "id": "e0a7b1ad",
   "metadata": {},
   "source": [
    "<h2>Data Exploration</h2>"
   ]
  },
  {
   "cell_type": "markdown",
   "id": "c1d9336a",
   "metadata": {},
   "source": [
    "<h2>Data Normalization</h2>"
   ]
  },
  {
   "cell_type": "markdown",
   "id": "2eb1df09",
   "metadata": {},
   "source": [
    "<h2>Training, Validation and Test Set Cretion</h2>"
   ]
  },
  {
   "cell_type": "code",
   "execution_count": null,
   "id": "27a7b25f",
   "metadata": {},
   "outputs": [],
   "source": []
  }
 ],
 "metadata": {
  "kernelspec": {
   "display_name": "Python 3 (ipykernel)",
   "language": "python",
   "name": "python3"
  },
  "language_info": {
   "codemirror_mode": {
    "name": "ipython",
    "version": 3
   },
   "file_extension": ".py",
   "mimetype": "text/x-python",
   "name": "python",
   "nbconvert_exporter": "python",
   "pygments_lexer": "ipython3",
   "version": "3.9.7"
  }
 },
 "nbformat": 4,
 "nbformat_minor": 5
}
